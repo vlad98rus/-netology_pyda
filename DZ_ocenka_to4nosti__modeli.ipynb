{
  "nbformat": 4,
  "nbformat_minor": 0,
  "metadata": {
    "kernelspec": {
      "display_name": "Python 3",
      "language": "python",
      "name": "python3"
    },
    "language_info": {
      "codemirror_mode": {
        "name": "ipython",
        "version": 3
      },
      "file_extension": ".py",
      "mimetype": "text/x-python",
      "name": "python",
      "nbconvert_exporter": "python",
      "pygments_lexer": "ipython3",
      "version": "3.7.2"
    },
    "colab": {
      "name": "DZ_ocenka_to4nosti_ modeli.ipynb",
      "provenance": [],
      "collapsed_sections": [],
      "include_colab_link": true
    }
  },
  "cells": [
    {
      "cell_type": "markdown",
      "metadata": {
        "id": "view-in-github",
        "colab_type": "text"
      },
      "source": [
        "<a href=\"https://colab.research.google.com/github/vlad98rus/-netology_pyda/blob/HomeWork-1/DZ_ocenka_to4nosti__modeli.ipynb\" target=\"_parent\"><img src=\"https://colab.research.google.com/assets/colab-badge.svg\" alt=\"Open In Colab\"/></a>"
      ]
    },
    {
      "cell_type": "markdown",
      "metadata": {
        "id": "d7gmBk__zmAT",
        "colab_type": "text"
      },
      "source": [
        "## Домашнее задание по теме \"Оценка точности модели, переобучение, регуляризация\""
      ]
    },
    {
      "cell_type": "markdown",
      "metadata": {
        "id": "9SBmVjOozmAs",
        "colab_type": "text"
      },
      "source": [
        "Дана статистика пользователей adult.csv.\n",
        "\n",
        "Получите значения AUC для различных моделей и их параметров.\n",
        "\n",
        "Решением будет ссылка на гитхаб с ноутбуком."
      ]
    },
    {
      "cell_type": "code",
      "metadata": {
        "ExecuteTime": {
          "end_time": "2019-07-12T16:34:13.235416Z",
          "start_time": "2019-07-12T16:34:12.740619Z"
        },
        "id": "Rygs6hOBzmAz",
        "colab_type": "code",
        "colab": {}
      },
      "source": [
        "import numpy as np\n",
        "import pandas as pd\n",
        "from sklearn.model_selection import train_test_split, GridSearchCV\n",
        "import matplotlib.pyplot as plt\n",
        "%matplotlib inline\n",
        "from sklearn.preprocessing import OneHotEncoder, StandardScaler\n",
        "from sklearn.compose import ColumnTransformer\n",
        "from sklearn.pipeline import Pipeline\n",
        "from sklearn.linear_model import LogisticRegression\n",
        "from sklearn.metrics import roc_auc_score, roc_curve, precision_recall_curve"
      ],
      "execution_count": 0,
      "outputs": []
    },
    {
      "cell_type": "code",
      "metadata": {
        "ExecuteTime": {
          "end_time": "2019-07-12T16:34:13.977173Z",
          "start_time": "2019-07-12T16:34:13.927960Z"
        },
        "id": "PBDB7nXszmBI",
        "colab_type": "code",
        "colab": {
          "base_uri": "https://localhost:8080/",
          "height": 394
        },
        "outputId": "2d08fa4d-9982-4b27-ade5-665d6cc5ef81"
      },
      "source": [
        "df = pd.read_csv('adult.csv')\n",
        "df.head()"
      ],
      "execution_count": 111,
      "outputs": [
        {
          "output_type": "execute_result",
          "data": {
            "text/html": [
              "<div>\n",
              "<style scoped>\n",
              "    .dataframe tbody tr th:only-of-type {\n",
              "        vertical-align: middle;\n",
              "    }\n",
              "\n",
              "    .dataframe tbody tr th {\n",
              "        vertical-align: top;\n",
              "    }\n",
              "\n",
              "    .dataframe thead th {\n",
              "        text-align: right;\n",
              "    }\n",
              "</style>\n",
              "<table border=\"1\" class=\"dataframe\">\n",
              "  <thead>\n",
              "    <tr style=\"text-align: right;\">\n",
              "      <th></th>\n",
              "      <th>age</th>\n",
              "      <th>workclass</th>\n",
              "      <th>fnlwgt</th>\n",
              "      <th>education</th>\n",
              "      <th>educational-num</th>\n",
              "      <th>marital-status</th>\n",
              "      <th>occupation</th>\n",
              "      <th>relationship</th>\n",
              "      <th>race</th>\n",
              "      <th>gender</th>\n",
              "      <th>capital-gain</th>\n",
              "      <th>capital-loss</th>\n",
              "      <th>hours-per-week</th>\n",
              "      <th>native-country</th>\n",
              "      <th>income</th>\n",
              "    </tr>\n",
              "  </thead>\n",
              "  <tbody>\n",
              "    <tr>\n",
              "      <th>0</th>\n",
              "      <td>25</td>\n",
              "      <td>Private</td>\n",
              "      <td>226802</td>\n",
              "      <td>11th</td>\n",
              "      <td>7</td>\n",
              "      <td>Never-married</td>\n",
              "      <td>Machine-op-inspct</td>\n",
              "      <td>Own-child</td>\n",
              "      <td>Black</td>\n",
              "      <td>Male</td>\n",
              "      <td>0</td>\n",
              "      <td>0</td>\n",
              "      <td>40</td>\n",
              "      <td>United-States</td>\n",
              "      <td>&lt;=50K</td>\n",
              "    </tr>\n",
              "    <tr>\n",
              "      <th>1</th>\n",
              "      <td>38</td>\n",
              "      <td>Private</td>\n",
              "      <td>89814</td>\n",
              "      <td>HS-grad</td>\n",
              "      <td>9</td>\n",
              "      <td>Married-civ-spouse</td>\n",
              "      <td>Farming-fishing</td>\n",
              "      <td>Husband</td>\n",
              "      <td>White</td>\n",
              "      <td>Male</td>\n",
              "      <td>0</td>\n",
              "      <td>0</td>\n",
              "      <td>50</td>\n",
              "      <td>United-States</td>\n",
              "      <td>&lt;=50K</td>\n",
              "    </tr>\n",
              "    <tr>\n",
              "      <th>2</th>\n",
              "      <td>28</td>\n",
              "      <td>Local-gov</td>\n",
              "      <td>336951</td>\n",
              "      <td>Assoc-acdm</td>\n",
              "      <td>12</td>\n",
              "      <td>Married-civ-spouse</td>\n",
              "      <td>Protective-serv</td>\n",
              "      <td>Husband</td>\n",
              "      <td>White</td>\n",
              "      <td>Male</td>\n",
              "      <td>0</td>\n",
              "      <td>0</td>\n",
              "      <td>40</td>\n",
              "      <td>United-States</td>\n",
              "      <td>&gt;50K</td>\n",
              "    </tr>\n",
              "    <tr>\n",
              "      <th>3</th>\n",
              "      <td>44</td>\n",
              "      <td>Private</td>\n",
              "      <td>160323</td>\n",
              "      <td>Some-college</td>\n",
              "      <td>10</td>\n",
              "      <td>Married-civ-spouse</td>\n",
              "      <td>Machine-op-inspct</td>\n",
              "      <td>Husband</td>\n",
              "      <td>Black</td>\n",
              "      <td>Male</td>\n",
              "      <td>7688</td>\n",
              "      <td>0</td>\n",
              "      <td>40</td>\n",
              "      <td>United-States</td>\n",
              "      <td>&gt;50K</td>\n",
              "    </tr>\n",
              "    <tr>\n",
              "      <th>4</th>\n",
              "      <td>18</td>\n",
              "      <td>?</td>\n",
              "      <td>103497</td>\n",
              "      <td>Some-college</td>\n",
              "      <td>10</td>\n",
              "      <td>Never-married</td>\n",
              "      <td>?</td>\n",
              "      <td>Own-child</td>\n",
              "      <td>White</td>\n",
              "      <td>Female</td>\n",
              "      <td>0</td>\n",
              "      <td>0</td>\n",
              "      <td>30</td>\n",
              "      <td>United-States</td>\n",
              "      <td>&lt;=50K</td>\n",
              "    </tr>\n",
              "  </tbody>\n",
              "</table>\n",
              "</div>"
            ],
            "text/plain": [
              "   age  workclass  fnlwgt  ... hours-per-week  native-country income\n",
              "0   25    Private  226802  ...             40   United-States  <=50K\n",
              "1   38    Private   89814  ...             50   United-States  <=50K\n",
              "2   28  Local-gov  336951  ...             40   United-States   >50K\n",
              "3   44    Private  160323  ...             40   United-States   >50K\n",
              "4   18          ?  103497  ...             30   United-States  <=50K\n",
              "\n",
              "[5 rows x 15 columns]"
            ]
          },
          "metadata": {
            "tags": []
          },
          "execution_count": 111
        }
      ]
    },
    {
      "cell_type": "code",
      "metadata": {
        "ExecuteTime": {
          "end_time": "2019-07-12T16:34:18.182556Z",
          "start_time": "2019-07-12T16:34:18.166384Z"
        },
        "id": "E0DUllUtzmBd",
        "colab_type": "code",
        "colab": {
          "base_uri": "https://localhost:8080/",
          "height": 357
        },
        "outputId": "f04c2df7-02a1-4367-b9a9-680b76d9635d"
      },
      "source": [
        "df.info()"
      ],
      "execution_count": 112,
      "outputs": [
        {
          "output_type": "stream",
          "text": [
            "<class 'pandas.core.frame.DataFrame'>\n",
            "RangeIndex: 48842 entries, 0 to 48841\n",
            "Data columns (total 15 columns):\n",
            "age                48842 non-null int64\n",
            "workclass          48842 non-null object\n",
            "fnlwgt             48842 non-null int64\n",
            "education          48842 non-null object\n",
            "educational-num    48842 non-null int64\n",
            "marital-status     48842 non-null object\n",
            "occupation         48842 non-null object\n",
            "relationship       48842 non-null object\n",
            "race               48842 non-null object\n",
            "gender             48842 non-null object\n",
            "capital-gain       48842 non-null int64\n",
            "capital-loss       48842 non-null int64\n",
            "hours-per-week     48842 non-null int64\n",
            "native-country     48842 non-null object\n",
            "income             48842 non-null object\n",
            "dtypes: int64(6), object(9)\n",
            "memory usage: 5.6+ MB\n"
          ],
          "name": "stdout"
        }
      ]
    },
    {
      "cell_type": "code",
      "metadata": {
        "id": "GH2cI3R2zmBy",
        "colab_type": "code",
        "colab": {
          "base_uri": "https://localhost:8080/",
          "height": 68
        },
        "outputId": "e3a4f9a5-00fd-4ef7-9d94-f55a71c820a9"
      },
      "source": [
        "df['income'].value_counts()"
      ],
      "execution_count": 113,
      "outputs": [
        {
          "output_type": "execute_result",
          "data": {
            "text/plain": [
              "<=50K    37155\n",
              ">50K     11687\n",
              "Name: income, dtype: int64"
            ]
          },
          "metadata": {
            "tags": []
          },
          "execution_count": 113
        }
      ]
    },
    {
      "cell_type": "markdown",
      "metadata": {
        "id": "BeFmkg-xBlub",
        "colab_type": "text"
      },
      "source": [
        "Заменим в целевом атрибуте '>50K' на 1 и '<=50K' на 0"
      ]
    },
    {
      "cell_type": "code",
      "metadata": {
        "id": "fmYiisL3BJXE",
        "colab_type": "code",
        "colab": {}
      },
      "source": [
        "df.replace('>50K', 1, inplace=True)\n",
        "df.replace('<=50K', 0, inplace=True)"
      ],
      "execution_count": 0,
      "outputs": []
    },
    {
      "cell_type": "markdown",
      "metadata": {
        "id": "X-M1CmPJB82X",
        "colab_type": "text"
      },
      "source": [
        "Разделим выборку на тренировочную и валидационную."
      ]
    },
    {
      "cell_type": "code",
      "metadata": {
        "id": "OEHtLyE2CNIu",
        "colab_type": "code",
        "colab": {}
      },
      "source": [
        "X = df.loc[:, df.columns != 'income']\n",
        "y = df[df.columns[-1]]"
      ],
      "execution_count": 0,
      "outputs": []
    },
    {
      "cell_type": "code",
      "metadata": {
        "id": "Aa3LwDrPB-TU",
        "colab_type": "code",
        "colab": {}
      },
      "source": [
        "X_train, X_val, y_train, y_val = train_test_split(X, y, test_size=0.2, stratify=y)"
      ],
      "execution_count": 0,
      "outputs": []
    },
    {
      "cell_type": "markdown",
      "metadata": {
        "id": "AMwE8bN2CbVn",
        "colab_type": "text"
      },
      "source": [
        "Разделим признаки на числовые и категориальные"
      ]
    },
    {
      "cell_type": "code",
      "metadata": {
        "id": "lFtS4B_eCdJ-",
        "colab_type": "code",
        "colab": {}
      },
      "source": [
        "num_columns = ['age', 'fnlwgt', 'educational-num', 'capital-gain', 'capital-loss', 'hours-per-week']\n",
        "cat_columns = ['workclass', 'education', 'marital-status', 'occupation', 'relationship', 'race', 'gender', 'native-country']"
      ],
      "execution_count": 0,
      "outputs": []
    },
    {
      "cell_type": "markdown",
      "metadata": {
        "id": "KVraKpWDCoe-",
        "colab_type": "text"
      },
      "source": [
        "Получим список значений для всех категорий, для OneHotEncoder-а"
      ]
    },
    {
      "cell_type": "code",
      "metadata": {
        "id": "UKoGTVm6Cpn-",
        "colab_type": "code",
        "colab": {}
      },
      "source": [
        "def get_cat_categories(df, cat_columns):\n",
        "    categories = []\n",
        "    for column in cat_columns:\n",
        "        categories.append(list(df[column].unique()))    \n",
        "    return categories"
      ],
      "execution_count": 0,
      "outputs": []
    },
    {
      "cell_type": "code",
      "metadata": {
        "id": "t-9Tyd2bCxDf",
        "colab_type": "code",
        "colab": {}
      },
      "source": [
        "categories = get_cat_categories(df, cat_columns)"
      ],
      "execution_count": 0,
      "outputs": []
    },
    {
      "cell_type": "markdown",
      "metadata": {
        "id": "qT_oQXbXFwey",
        "colab_type": "text"
      },
      "source": [
        "Категориальные признаки обрабатываем OneHotEncoder-ом, численные пропускаем через StandardScaler"
      ]
    },
    {
      "cell_type": "code",
      "metadata": {
        "id": "Dq95RFayFoli",
        "colab_type": "code",
        "colab": {}
      },
      "source": [
        "preprocessor = ColumnTransformer(\n",
        "    transformers=[\n",
        "        ('cat', OneHotEncoder(categories=categories), cat_columns),\n",
        "        ('num', StandardScaler(), num_columns)\n",
        "    ],\n",
        "    sparse_threshold=0,\n",
        "    remainder='drop'\n",
        ")"
      ],
      "execution_count": 0,
      "outputs": []
    },
    {
      "cell_type": "markdown",
      "metadata": {
        "id": "UeoIfXNPFQrO",
        "colab_type": "text"
      },
      "source": [
        "Соберем несколько моделей с разными параметрами и вычислим predict_proba для тестовой выборки"
      ]
    },
    {
      "cell_type": "code",
      "metadata": {
        "id": "eM_FSn8XFPQl",
        "colab_type": "code",
        "colab": {}
      },
      "source": [
        "results = {}"
      ],
      "execution_count": 0,
      "outputs": []
    },
    {
      "cell_type": "code",
      "metadata": {
        "id": "V20uZeVmFXdC",
        "colab_type": "code",
        "colab": {}
      },
      "source": [
        "penalty = 'l1'\n",
        "for c in np.logspace(-3, 3, 7):\n",
        "    clf = Pipeline(steps=[('preprocessor', preprocessor),\n",
        "                          ('classifier', LogisticRegression(penalty=penalty, C=c, solver='liblinear'))])\n",
        "    clf.fit(X_train, y_train)\n",
        "    y_prob = clf.predict_proba(X_val)[:, 1]\n",
        "    results[(penalty, c)] = y_prob"
      ],
      "execution_count": 0,
      "outputs": []
    },
    {
      "cell_type": "code",
      "metadata": {
        "id": "t666pnZPF9P7",
        "colab_type": "code",
        "colab": {}
      },
      "source": [
        "penalty = 'l2'\n",
        "for c in np.logspace(-3, 3, 7):\n",
        "    clf = Pipeline(steps=[('preprocessor', preprocessor),\n",
        "                          ('classifier', LogisticRegression(penalty=penalty, C=c, solver='liblinear'))])\n",
        "    clf.fit(X_train, y_train)\n",
        "    y_prob = clf.predict_proba(X_val)[:, 1]\n",
        "    results[(penalty, c)] = y_prob"
      ],
      "execution_count": 0,
      "outputs": []
    },
    {
      "cell_type": "markdown",
      "metadata": {
        "id": "bzDhXy-DGDWN",
        "colab_type": "text"
      },
      "source": [
        "Построим ROC AUC"
      ]
    },
    {
      "cell_type": "code",
      "metadata": {
        "id": "SLIx7zQIF_gV",
        "colab_type": "code",
        "colab": {
          "base_uri": "https://localhost:8080/",
          "height": 513
        },
        "outputId": "451de9a1-82be-49fa-9ec4-190a19103202"
      },
      "source": [
        "plt.figure(figsize=(8, 8))\n",
        "for (penalty, c), proba in results.items():\n",
        "    fpr, tpr, _ = roc_curve(y_val, proba)\n",
        "    plt.plot(fpr, tpr, label=f'penalty={penalty}, c={c}')\n",
        "plt.plot([0, 1], [0, 1], '--', color=(0.6, 0.6, 0.6))\n",
        "plt.xlabel('False Positive Rate')\n",
        "plt.ylabel('True Positive Rate')\n",
        "plt.title('ROC AUC')\n",
        "plt.legend(loc='lower right')\n",
        "plt.show()"
      ],
      "execution_count": 124,
      "outputs": [
        {
          "output_type": "display_data",
          "data": {
            "image/png": "[encoded data removed]",
            "text/plain": [
              "<Figure size 576x576 with 1 Axes>"
            ]
          },
          "metadata": {
            "tags": []
          }
        }
      ]
    },
    {
      "cell_type": "markdown",
      "metadata": {
        "id": "J3lRcom_GMVX",
        "colab_type": "text"
      },
      "source": [
        "Построим PR-curve"
      ]
    },
    {
      "cell_type": "code",
      "metadata": {
        "id": "gN0w70ASGODv",
        "colab_type": "code",
        "colab": {
          "base_uri": "https://localhost:8080/",
          "height": 513
        },
        "outputId": "ac80c9c6-9b69-484b-f0c5-fc58a02bdf61"
      },
      "source": [
        "plt.figure(figsize=(8, 8))\n",
        "for (penalty, c), proba in results.items():\n",
        "    precision, recall, _ = precision_recall_curve(y_val, proba)\n",
        "    plt.plot(recall, precision, label=f'penalty={penalty}, c={c}')\n",
        "plt.xlabel('Recall')\n",
        "plt.ylabel('Precision')\n",
        "plt.title('PR-curve')\n",
        "plt.legend(loc='lower left')\n",
        "plt.show()"
      ],
      "execution_count": 125,
      "outputs": [
        {
          "output_type": "display_data",
          "data": {
            "image/png": "[encoded data removed]",
            "text/plain": [
              "<Figure size 576x576 with 1 Axes>"
            ]
          },
          "metadata": {
            "tags": []
          }
        }
      ]
    }
  ]
}