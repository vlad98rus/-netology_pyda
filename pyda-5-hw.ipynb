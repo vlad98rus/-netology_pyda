{
 "cells": [
  {
   "cell_type": "markdown",
   "metadata": {},
   "source": [
    "# Домашняя работа №5"
   ]
  },
  {
   "cell_type": "code",
   "execution_count": 2,
   "metadata": {},
   "outputs": [],
   "source": [
    "import numpy as np"
   ]
  },
  {
   "cell_type": "markdown",
   "metadata": {},
   "source": [
    "## Задание 1\n",
    "Создайте numpy array с элементами от числа N до 0 (например, для N = 10 это будет array([9, 8, 7, 6, 5, 4, 3, 2, 1, 0]))."
   ]
  },
  {
   "cell_type": "code",
   "execution_count": 8,
   "metadata": {},
   "outputs": [
    {
     "data": {
      "text/plain": [
       "array([9, 8, 7, 6, 5, 4, 3, 2, 1, 0])"
      ]
     },
     "execution_count": 8,
     "metadata": {},
     "output_type": "execute_result"
    }
   ],
   "source": [
    "N = 10\n",
    "np.flip(np.arange(0, N))"
   ]
  },
  {
   "cell_type": "markdown",
   "metadata": {},
   "source": [
    "## Задание 2\n",
    "Создайте диагональную матрицу с элементами от N до 0. Посчитайте сумму ее значений на диагонали."
   ]
  },
  {
   "cell_type": "code",
   "execution_count": 10,
   "metadata": {},
   "outputs": [
    {
     "name": "stdout",
     "output_type": "stream",
     "text": [
      "Task 2. Diag matrix:\n",
      "[[9 0 0 0 0 0 0 0 0 0]\n",
      " [0 8 0 0 0 0 0 0 0 0]\n",
      " [0 0 7 0 0 0 0 0 0 0]\n",
      " [0 0 0 6 0 0 0 0 0 0]\n",
      " [0 0 0 0 5 0 0 0 0 0]\n",
      " [0 0 0 0 0 4 0 0 0 0]\n",
      " [0 0 0 0 0 0 3 0 0 0]\n",
      " [0 0 0 0 0 0 0 2 0 0]\n",
      " [0 0 0 0 0 0 0 0 1 0]\n",
      " [0 0 0 0 0 0 0 0 0 0]]\n",
      "Sum_of_diag_elems: 45\n"
     ]
    }
   ],
   "source": [
    "def create_diag_matrix(n):\n",
    "    return np.diag(np.arange(n - 1, -1, -1))\n",
    "print('Task 2. Diag matrix:')\n",
    "dm = create_diag_matrix(10)\n",
    "print(dm)\n",
    "print(f'Sum_of_diag_elems: {sum(dm.diagonal())}')"
   ]
  },
  {
   "cell_type": "markdown",
   "metadata": {},
   "source": [
    "## Задание 3\n",
    "Решите систему уравнений:\n",
    "\n",
    "4x + 2y + z = 4\n",
    "\n",
    "x + 3y = 12\n",
    "\n",
    "5y + 4z = -3"
   ]
  },
  {
   "cell_type": "code",
   "execution_count": 11,
   "metadata": {},
   "outputs": [
    {
     "name": "stdout",
     "output_type": "stream",
     "text": [
      "ОТВЕТ: x = 0.4666666666666668, y = 3.844444444444444, z = -5.555555555555555\n"
     ]
    }
   ],
   "source": [
    "left_side = np.array([\n",
    "    [4, 2, 1],\n",
    "    [1, 3, 0],\n",
    "    [0, 5, 4]\n",
    "])\n",
    "\n",
    "right_side = np.array([4, 12, -3])\n",
    "solution = linalg.solve(left_side, right_side)\n",
    "x, y, z = solution\n",
    "\n",
    "# Проверка решения\n",
    "if not np.allclose(np.dot(left_side, solution), right_side):\n",
    "    raise RuntimeError('Incorrect solution!')\n",
    "\n",
    "print(f'ОТВЕТ: x = {x}, y = {y}, z = {z}')"
   ]
  }
 ],
 "metadata": {
  "kernelspec": {
   "display_name": "Python 3",
   "language": "python",
   "name": "python3"
  },
  "language_info": {
   "codemirror_mode": {
    "name": "ipython",
    "version": 3
   },
   "file_extension": ".py",
   "mimetype": "text/x-python",
   "name": "python",
   "nbconvert_exporter": "python",
   "pygments_lexer": "ipython3",
   "version": "3.7.3"
  }
 },
 "nbformat": 4,
 "nbformat_minor": 2
}
