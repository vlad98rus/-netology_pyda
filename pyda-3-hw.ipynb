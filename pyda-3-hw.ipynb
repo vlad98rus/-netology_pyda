{
 "cells": [
  {
   "cell_type": "markdown",
   "metadata": {},
   "source": [
    "# Домашняя работа 3"
   ]
  },
  {
   "cell_type": "markdown",
   "metadata": {},
   "source": [
    "## Задание 1\n",
    "Дан список вида:"
   ]
  },
  {
   "cell_type": "code",
   "execution_count": 2,
   "metadata": {},
   "outputs": [],
   "source": [
    "data = [\n",
    "    [13, 25, 23, 34],\n",
    "    [45, 32, 44, 47],\n",
    "    [12, 33, 23, 95],\n",
    "    [13, 53, 34, 35]\n",
    "]"
   ]
  },
  {
   "cell_type": "markdown",
   "metadata": {},
   "source": [
    "Напишите функцию, которая возвращает сумму элементов на диагонали. Т. е. 13+32+23+35."
   ]
  },
  {
   "cell_type": "code",
   "execution_count": 3,
   "metadata": {},
   "outputs": [
    {
     "name": "stdout",
     "output_type": "stream",
     "text": [
      "103\n"
     ]
    }
   ],
   "source": [
    "def diagonal_sum(data):\n",
    "    pointer = 0\n",
    "    result = 0\n",
    "    for row in data:\n",
    "        result += row[pointer]\n",
    "        pointer +=1\n",
    "    return result       \n",
    "print (diagonal_sum(data))"
   ]
  },
  {
   "cell_type": "markdown",
   "metadata": {},
   "source": [
    "## Задание 2"
   ]
  },
  {
   "cell_type": "markdown",
   "metadata": {},
   "source": [
    "Дан список чисел, часть из которых имеют строковый тип или содержат буквы. Напишите функцию, которая возвращает сумму квадратов элементов, которые могут быть числами."
   ]
  },
  {
   "cell_type": "code",
   "execution_count": 4,
   "metadata": {},
   "outputs": [],
   "source": [
    "data = [1, '5', 'abc', 20, '2']"
   ]
  },
  {
   "cell_type": "code",
   "execution_count": 18,
   "metadata": {},
   "outputs": [
    {
     "name": "stdout",
     "output_type": "stream",
     "text": [
      "430\n"
     ]
    }
   ],
   "source": [
    "def sum_isnumeric(data):\n",
    "    sum_sq_num = 0\n",
    "    for i in data:\n",
    "        if str(i).isnumeric():\n",
    "            sum_sq_num += int(i) ** 2 \n",
    "    return sum_sq_num\n",
    "print(sum_isnumeric(data))"
   ]
  },
  {
   "cell_type": "markdown",
   "metadata": {},
   "source": [
    "## Задание 3"
   ]
  },
  {
   "cell_type": "markdown",
   "metadata": {},
   "source": [
    "Напишите функцию, возвращающую сумму первых n чисел Фибоначчи. https://ru.wikipedia.org/wiki/%D0%A7%D0%B8%D1%81%D0%BB%D0%B0_%D0%A4%D0%B8%D0%B1%D0%BE%D0%BD%D0%B0%D1%87%D1%87%D0%B8"
   ]
  },
  {
   "cell_type": "code",
   "execution_count": 11,
   "metadata": {},
   "outputs": [
    {
     "name": "stdout",
     "output_type": "stream",
     "text": [
      "143\n",
      "None\n"
     ]
    }
   ],
   "source": [
    "def fib(n):\n",
    "    seq = [0, 1]\n",
    "    for i in range(2, n + 1):\n",
    "        seq.append(seq[i-1] + seq[i-2])\n",
    "    print(sum(seq))  \n",
    "print(fib(10))"
   ]
  },
  {
   "cell_type": "markdown",
   "metadata": {},
   "source": [
    "## Задание 4"
   ]
  },
  {
   "cell_type": "markdown",
   "metadata": {},
   "source": [
    "Дан набор данных об обучении студентов на курсе программирования, который содержит: 1) имя 2) фамилию 3) пол 4) наличие у студента опыта в программировании 5) набор оценок за домашние работы 6) оценку за итоговую работу.\n",
    "\n",
    "Напишите программу, которая будет принимать команду от пользователя и возвращать соотвествующий результат. Список команд: 1 - вывести на экран среднюю оценку за все ДЗ по группе и вывести на экран среднюю оценку за экзамен по группе; 2 - вывести среднюю оценку за ДЗ и за экзамен по группе в разрезе пола студентов 3 - вывести среднюю оценку за ДЗ и за экзамен в разрезе наличия опыта в программировании у студентов.\n",
    "\n",
    "Прогрмма должна быть полностью декомпозирована на функции (кроме объявления функций и вызова итоговой функции в реализации ничего быть не должно)."
   ]
  },
  {
   "cell_type": "code",
   "execution_count": 12,
   "metadata": {},
   "outputs": [],
   "source": [
    "students_list = [\n",
    "    {'name': 'Василий', 'surname': 'Теркин', 'sex': 'м', 'program_exp': True, 'grade': [8, 8, 9, 10, 9], 'exam': 9},\n",
    "    {'name': 'Мария', 'surname': 'Павлова', 'sex': 'ж', 'program_exp': True, 'grade': [7, 8, 9, 7, 9], 'exam': 8},\n",
    "    {'name': 'Ирина', 'surname': 'Андреева', 'sex': 'ж', 'program_exp': True, 'grade': [10, 9, 8, 10, 10], 'exam': 10},\n",
    "    {'name': 'Татьяна', 'surname': 'Сидорова', 'sex': 'ж', 'program_exp': False, 'grade': [7, 8, 8, 9, 8], 'exam': 8},\n",
    "    {'name': 'Иван', 'surname': 'Васильев', 'sex': 'м', 'program_exp': False, 'grade': [9, 8, 9, 6, 9], 'exam': 10},\n",
    "    {'name': 'Роман', 'surname': 'Золотарев', 'sex': 'м', 'program_exp': False, 'grade': [8, 9, 9, 6, 9], 'exam': 10}\n",
    "]"
   ]
  },
  {
   "cell_type": "code",
   "execution_count": 17,
   "metadata": {},
   "outputs": [
    {
     "name": "stdout",
     "output_type": "stream",
     "text": [
      "введите команду 1,2,3 : 3\n",
      "Средняя оценка за ДЗ по группе опыт False: 8.13\n",
      "Средняя оценка за Экзамен по группе опыт False: 9.33\n",
      "Средняя оценка за ДЗ по группе опыт True: 8.73\n",
      "Средняя оценка за Экзамен по группе опыт True: 9.0\n",
      "None\n"
     ]
    }
   ],
   "source": [
    "def avr_dz(students_list, dop = ''):\n",
    "    print('Средняя оценка за ДЗ по группе '+dop+':', round(sum(sum(i['grade'])/len(i['grade']) for i in students_list)/len(students_list),2))\n",
    "    print('Средняя оценка за Экзамен по группе '+dop+':', round(sum(i['exam'] for i in students_list)/len(students_list),2))\n",
    "\n",
    "def avr_dz_sex(students_list):\n",
    "    for sex in {'м','ж'}: \n",
    "        ff_list = list(filter(lambda x: x['sex']==sex, students_list))\n",
    "        avr_dz(ff_list, 'пол '+sex)\n",
    "        \n",
    "def avr_dz_exp(students_list):\n",
    "    for exp in {True, False}: \n",
    "        ff_list = list(filter(lambda x: x['program_exp']==exp, students_list))\n",
    "        avr_dz(ff_list, 'опыт '+str(exp))\n",
    "    \n",
    "    \n",
    "def main():\n",
    "    com = int(input('введите команду 1,2,3 : '))\n",
    "    if com==1: return avr_dz(students_list)\n",
    "    elif com==2: return avr_dz_sex(students_list)\n",
    "    elif com==3: return avr_dz_exp(students_list)\n",
    "    return print('не верная команда')\n",
    "\n",
    "print(main())"
   ]
  }
 ],
 "metadata": {
  "kernelspec": {
   "display_name": "Python 3",
   "language": "python",
   "name": "python3"
  },
  "language_info": {
   "codemirror_mode": {
    "name": "ipython",
    "version": 3
   },
   "file_extension": ".py",
   "mimetype": "text/x-python",
   "name": "python",
   "nbconvert_exporter": "python",
   "pygments_lexer": "ipython3",
   "version": "3.7.3"
  }
 },
 "nbformat": 4,
 "nbformat_minor": 2
}
