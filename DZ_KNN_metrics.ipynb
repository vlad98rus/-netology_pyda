{
  "nbformat": 4,
  "nbformat_minor": 0,
  "metadata": {
    "kernelspec": {
      "display_name": "Python 3",
      "language": "python",
      "name": "python3"
    },
    "language_info": {
      "codemirror_mode": {
        "name": "ipython",
        "version": 3
      },
      "file_extension": ".py",
      "mimetype": "text/x-python",
      "name": "python",
      "nbconvert_exporter": "python",
      "pygments_lexer": "ipython3",
      "version": "3.7.2"
    },
    "colab": {
      "name": "DZ-KNN_metrics.ipynb",
      "provenance": [],
      "collapsed_sections": [],
      "include_colab_link": true
    }
  },
  "cells": [
    {
      "cell_type": "markdown",
      "metadata": {
        "id": "view-in-github",
        "colab_type": "text"
      },
      "source": [
        "<a href=\"https://colab.research.google.com/github/vlad98rus/-netology_pyda/blob/HomeWork-1/DZ_KNN_metrics.ipynb\" target=\"_parent\"><img src=\"https://colab.research.google.com/assets/colab-badge.svg\" alt=\"Open In Colab\"/></a>"
      ]
    },
    {
      "cell_type": "markdown",
      "metadata": {
        "id": "40EwvzqxP5Xy",
        "colab_type": "text"
      },
      "source": [
        "# Домашняя работа Полиномиальная регрессия и метрики близости (kNN)"
      ]
    },
    {
      "cell_type": "markdown",
      "metadata": {
        "id": "-zXG1WZMP5YL",
        "colab_type": "text"
      },
      "source": [
        "### Задание 1\n",
        "\n",
        "Завершаем практическое задание №2. Необходимо для каждой распознанной фамилии вывести на экран наиболее подходящий вариант из стартового протокола"
      ]
    },
    {
      "cell_type": "code",
      "metadata": {
        "id": "PuhO5RGURN8r",
        "colab_type": "code",
        "colab": {
          "base_uri": "https://localhost:8080/",
          "height": 224
        },
        "outputId": "6a339a6d-5ef8-4dc6-bc51-5a5ea96c3b65"
      },
      "source": [
        "pip install python-levenshtein"
      ],
      "execution_count": 2,
      "outputs": [
        {
          "output_type": "stream",
          "text": [
            "Collecting python-levenshtein\n",
            "\u001b[?25l  Downloading https://files.pythonhosted.org/packages/42/a9/d1785c85ebf9b7dfacd08938dd028209c34a0ea3b1bcdb895208bd40a67d/python-Levenshtein-0.12.0.tar.gz (48kB)\n",
            "\r\u001b[K     |██████▊                         | 10kB 17.3MB/s eta 0:00:01\r\u001b[K     |█████████████▌                  | 20kB 1.7MB/s eta 0:00:01\r\u001b[K     |████████████████████▏           | 30kB 2.4MB/s eta 0:00:01\r\u001b[K     |███████████████████████████     | 40kB 1.7MB/s eta 0:00:01\r\u001b[K     |████████████████████████████████| 51kB 1.6MB/s \n",
            "\u001b[?25hRequirement already satisfied: setuptools in /usr/local/lib/python3.6/dist-packages (from python-levenshtein) (45.1.0)\n",
            "Building wheels for collected packages: python-levenshtein\n",
            "  Building wheel for python-levenshtein (setup.py) ... \u001b[?25l\u001b[?25hdone\n",
            "  Created wheel for python-levenshtein: filename=python_Levenshtein-0.12.0-cp36-cp36m-linux_x86_64.whl size=144671 sha256=aa9abcc6b036ce94c535aa907bf48dfc945388572637efa88c38930a359712f3\n",
            "  Stored in directory: /root/.cache/pip/wheels/de/c2/93/660fd5f7559049268ad2dc6d81c4e39e9e36518766eaf7e342\n",
            "Successfully built python-levenshtein\n",
            "Installing collected packages: python-levenshtein\n",
            "Successfully installed python-levenshtein-0.12.0\n"
          ],
          "name": "stdout"
        }
      ]
    },
    {
      "cell_type": "code",
      "metadata": {
        "id": "MwduAwBsP5YU",
        "colab_type": "code",
        "colab": {}
      },
      "source": [
        "import Levenshtein"
      ],
      "execution_count": 0,
      "outputs": []
    },
    {
      "cell_type": "markdown",
      "metadata": {
        "id": "xrAJU6BsRiBb",
        "colab_type": "text"
      },
      "source": [
        "что было написано в заявке"
      ]
    },
    {
      "cell_type": "code",
      "metadata": {
        "id": "-q4_nvHjP5Yt",
        "colab_type": "code",
        "colab": {}
      },
      "source": [
        "claim_list = [\n",
        "    'Шехавцова Анна',\n",
        "    'Гречихина Наталья',\n",
        "    'Козлова Алена',\n",
        "    'Груздева Алина',\n",
        "    'Кущенко Анна',\n",
        "    'Чистякова Анастасия'\n",
        "]"
      ],
      "execution_count": 0,
      "outputs": []
    },
    {
      "cell_type": "markdown",
      "metadata": {
        "id": "D-aMiJ0HRoHz",
        "colab_type": "text"
      },
      "source": [
        "результат расшифровки речи диктора"
      ]
    },
    {
      "cell_type": "code",
      "metadata": {
        "id": "K4ZMUE5OP5ZD",
        "colab_type": "code",
        "colab": {}
      },
      "source": [
        "speech_recognition = [\n",
        "    'кучменко она',\n",
        "    'кущенко оксана',\n",
        "    'груздь алина',\n",
        "    'рычихина наталья',\n",
        "    'шиховцева на',\n",
        "    'чистова анастасия'\n",
        "]"
      ],
      "execution_count": 0,
      "outputs": []
    },
    {
      "cell_type": "code",
      "metadata": {
        "id": "mSjq9lT3P5ZX",
        "colab_type": "code",
        "colab": {}
      },
      "source": [
        "d = {}\n",
        "for real_name in claim_list:\n",
        "    d[real_name] = sorted({recognized_name: Levenshtein.distance(recognized_name, real_name) \n",
        "    for recognized_name in speech_recognition}.items(), key = lambda x: x[1])[0][0]"
      ],
      "execution_count": 0,
      "outputs": []
    },
    {
      "cell_type": "code",
      "metadata": {
        "id": "Bme6IVtbP5Zp",
        "colab_type": "code",
        "colab": {
          "base_uri": "https://localhost:8080/",
          "height": 170
        },
        "outputId": "4575a30e-a301-411e-cac9-4095cad3e2aa"
      },
      "source": [
        "print('Наиболее вероятные соотвествия:\\n')\n",
        "print(*[i + \" ~ \" + d[i] + \"\\n\" for i in d])"
      ],
      "execution_count": 7,
      "outputs": [
        {
          "output_type": "stream",
          "text": [
            "Наиболее вероятные соотвествия:\n",
            "\n",
            "Шехавцова Анна ~ шиховцева на\n",
            " Гречихина Наталья ~ рычихина наталья\n",
            " Козлова Алена ~ груздь алина\n",
            " Груздева Алина ~ груздь алина\n",
            " Кущенко Анна ~ кучменко она\n",
            " Чистякова Анастасия ~ чистова анастасия\n",
            "\n"
          ],
          "name": "stdout"
        }
      ]
    },
    {
      "cell_type": "markdown",
      "metadata": {
        "id": "6CNcBElfP5aE",
        "colab_type": "text"
      },
      "source": [
        "### Задание 2\n",
        "\n",
        "Постройте модель kNN для распознавания цифр. Посчитайте получившееся значение точности (последняя строка в файле 7. kNN digits.ipynb)"
      ]
    },
    {
      "cell_type": "code",
      "metadata": {
        "id": "VtYl4PkEP5aL",
        "colab_type": "code",
        "colab": {}
      },
      "source": [
        "from sklearn import datasets\n",
        "from sklearn.neighbors import KNeighborsClassifier"
      ],
      "execution_count": 0,
      "outputs": []
    },
    {
      "cell_type": "markdown",
      "metadata": {
        "id": "SaZraSP1P5af",
        "colab_type": "text"
      },
      "source": [
        "Загружаем наши данные"
      ]
    },
    {
      "cell_type": "code",
      "metadata": {
        "id": "-we6Rm01P5ak",
        "colab_type": "code",
        "colab": {}
      },
      "source": [
        "digits = datasets.load_digits()"
      ],
      "execution_count": 0,
      "outputs": []
    },
    {
      "cell_type": "markdown",
      "metadata": {
        "id": "OAGjj6C2P5a1",
        "colab_type": "text"
      },
      "source": [
        "Пример первой цифры"
      ]
    },
    {
      "cell_type": "code",
      "metadata": {
        "id": "Fe4G_eIaP5a7",
        "colab_type": "code",
        "colab": {
          "base_uri": "https://localhost:8080/",
          "height": 153
        },
        "outputId": "c4f0e24f-45af-483e-fadf-b41e47ab90ba"
      },
      "source": [
        "digits['data'][0].reshape(8, 8)"
      ],
      "execution_count": 12,
      "outputs": [
        {
          "output_type": "execute_result",
          "data": {
            "text/plain": [
              "array([[ 0.,  0.,  5., 13.,  9.,  1.,  0.,  0.],\n",
              "       [ 0.,  0., 13., 15., 10., 15.,  5.,  0.],\n",
              "       [ 0.,  3., 15.,  2.,  0., 11.,  8.,  0.],\n",
              "       [ 0.,  4., 12.,  0.,  0.,  8.,  8.,  0.],\n",
              "       [ 0.,  5.,  8.,  0.,  0.,  9.,  8.,  0.],\n",
              "       [ 0.,  4., 11.,  0.,  1., 12.,  7.,  0.],\n",
              "       [ 0.,  2., 14.,  5., 10., 12.,  0.,  0.],\n",
              "       [ 0.,  0.,  6., 13., 10.,  0.,  0.,  0.]])"
            ]
          },
          "metadata": {
            "tags": []
          },
          "execution_count": 12
        }
      ]
    },
    {
      "cell_type": "code",
      "metadata": {
        "id": "LuhbcEpTP5bP",
        "colab_type": "code",
        "colab": {
          "base_uri": "https://localhost:8080/",
          "height": 102
        },
        "outputId": "22d075f3-2970-4335-a339-809995e42abf"
      },
      "source": [
        "digits['data'][0]"
      ],
      "execution_count": 13,
      "outputs": [
        {
          "output_type": "execute_result",
          "data": {
            "text/plain": [
              "array([ 0.,  0.,  5., 13.,  9.,  1.,  0.,  0.,  0.,  0., 13., 15., 10.,\n",
              "       15.,  5.,  0.,  0.,  3., 15.,  2.,  0., 11.,  8.,  0.,  0.,  4.,\n",
              "       12.,  0.,  0.,  8.,  8.,  0.,  0.,  5.,  8.,  0.,  0.,  9.,  8.,\n",
              "        0.,  0.,  4., 11.,  0.,  1., 12.,  7.,  0.,  0.,  2., 14.,  5.,\n",
              "       10., 12.,  0.,  0.,  0.,  0.,  6., 13., 10.,  0.,  0.,  0.])"
            ]
          },
          "metadata": {
            "tags": []
          },
          "execution_count": 13
        }
      ]
    },
    {
      "cell_type": "code",
      "metadata": {
        "id": "iZc94ndUP5bg",
        "colab_type": "code",
        "colab": {
          "base_uri": "https://localhost:8080/",
          "height": 34
        },
        "outputId": "f503cbe9-79f1-4043-8003-00dbba0477f8"
      },
      "source": [
        "digits['target'][:20]"
      ],
      "execution_count": 14,
      "outputs": [
        {
          "output_type": "execute_result",
          "data": {
            "text/plain": [
              "array([0, 1, 2, 3, 4, 5, 6, 7, 8, 9, 0, 1, 2, 3, 4, 5, 6, 7, 8, 9])"
            ]
          },
          "metadata": {
            "tags": []
          },
          "execution_count": 14
        }
      ]
    },
    {
      "cell_type": "markdown",
      "metadata": {
        "id": "T_4Ksz-EP5by",
        "colab_type": "text"
      },
      "source": [
        "Нарисуем пример цифры"
      ]
    },
    {
      "cell_type": "code",
      "metadata": {
        "id": "RThDEQ-tP5b3",
        "colab_type": "code",
        "colab": {}
      },
      "source": [
        "import matplotlib.pyplot as plt"
      ],
      "execution_count": 0,
      "outputs": []
    },
    {
      "cell_type": "code",
      "metadata": {
        "id": "iuqLLLtlP5cH",
        "colab_type": "code",
        "colab": {
          "base_uri": "https://localhost:8080/",
          "height": 1000
        },
        "outputId": "df34a4c4-3ebb-4181-deec-481b9126ab79"
      },
      "source": [
        "plt.gray()\n",
        "for i in range(0, 6):\n",
        "    plt.matshow(digits.images[i])\n",
        "    \n",
        "plt.show() "
      ],
      "execution_count": 17,
      "outputs": [
        {
          "output_type": "display_data",
          "data": {
            "text/plain": [
              "<Figure size 432x288 with 0 Axes>"
            ]
          },
          "metadata": {
            "tags": []
          }
        },
        {
          "output_type": "display_data",
          "data": {
            "image/png": "[encoded data removed]",
            "text/plain": [
              "<Figure size 288x288 with 1 Axes>"
            ]
          },
          "metadata": {
            "tags": []
          }
        },
        {
          "output_type": "display_data",
          "data": {
            "image/png": "[encoded data removed]",
            "text/plain": [
              "<Figure size 288x288 with 1 Axes>"
            ]
          },
          "metadata": {
            "tags": []
          }
        },
        {
          "output_type": "display_data",
          "data": {
            "image/png": "[encoded data removed]",
            "text/plain": [
              "<Figure size 288x288 with 1 Axes>"
            ]
          },
          "metadata": {
            "tags": []
          }
        },
        {
          "output_type": "display_data",
          "data": {
            "image/png": "[encoded data removed]",
            "text/plain": [
              "<Figure size 288x288 with 1 Axes>"
            ]
          },
          "metadata": {
            "tags": []
          }
        },
        {
          "output_type": "display_data",
          "data": {
            "image/png": "[encoded data removed]",
            "text/plain": [
              "<Figure size 288x288 with 1 Axes>"
            ]
          },
          "metadata": {
            "tags": []
          }
        },
        {
          "output_type": "display_data",
          "data": {
            "image/png": "[encoded data removed]",
            "text/plain": [
              "<Figure size 288x288 with 1 Axes>"
            ]
          },
          "metadata": {
            "tags": []
          }
        }
      ]
    },
    {
      "cell_type": "markdown",
      "metadata": {
        "id": "9XL9JKovP5cV",
        "colab_type": "text"
      },
      "source": [
        "Признаки и целевая переменная"
      ]
    },
    {
      "cell_type": "code",
      "metadata": {
        "id": "AesksLNVP5cd",
        "colab_type": "code",
        "colab": {}
      },
      "source": [
        "X_digits = digits.data\n",
        "Y_digits = digits.target"
      ],
      "execution_count": 0,
      "outputs": []
    },
    {
      "cell_type": "markdown",
      "metadata": {
        "id": "q3tcanzwP5cu",
        "colab_type": "text"
      },
      "source": [
        "Количество цифр в данных"
      ]
    },
    {
      "cell_type": "code",
      "metadata": {
        "id": "i0NrYZG0P5c0",
        "colab_type": "code",
        "colab": {}
      },
      "source": [
        "n_samples = len( X_digits )"
      ],
      "execution_count": 0,
      "outputs": []
    },
    {
      "cell_type": "markdown",
      "metadata": {
        "id": "J9Euhx1gP5dG",
        "colab_type": "text"
      },
      "source": [
        "Разобьем данные на обучающую выборку и тест в пропорции 80 / 20"
      ]
    },
    {
      "cell_type": "code",
      "metadata": {
        "id": "jWPOpUZPP5dK",
        "colab_type": "code",
        "colab": {
          "base_uri": "https://localhost:8080/",
          "height": 34
        },
        "outputId": "6e8c9d99-d927-452c-eea0-820501ba409e"
      },
      "source": [
        "split = int( n_samples * .8 )\n",
        "split"
      ],
      "execution_count": 28,
      "outputs": [
        {
          "output_type": "execute_result",
          "data": {
            "text/plain": [
              "1437"
            ]
          },
          "metadata": {
            "tags": []
          },
          "execution_count": 28
        }
      ]
    },
    {
      "cell_type": "markdown",
      "metadata": {
        "id": "8mGJG-FqP5dZ",
        "colab_type": "text"
      },
      "source": [
        "Обучающая выборка"
      ]
    },
    {
      "cell_type": "code",
      "metadata": {
        "id": "lFw5UP6uP5de",
        "colab_type": "code",
        "colab": {}
      },
      "source": [
        "X_train = X_digits[:split]\n",
        "Y_train = Y_digits[:split]"
      ],
      "execution_count": 0,
      "outputs": []
    },
    {
      "cell_type": "markdown",
      "metadata": {
        "id": "rkqdazHTP5dt",
        "colab_type": "text"
      },
      "source": [
        "Формируем тестовую выборку и обучаем модель KNN"
      ]
    },
    {
      "cell_type": "code",
      "metadata": {
        "id": "vpHaK7cfP5dz",
        "colab_type": "code",
        "colab": {}
      },
      "source": [
        "X_test = X_digits[split:]\n",
        "Y_test = Y_digits[split:]"
      ],
      "execution_count": 0,
      "outputs": []
    },
    {
      "cell_type": "code",
      "metadata": {
        "id": "e7x6uXnqP5eC",
        "colab_type": "code",
        "colab": {}
      },
      "source": [
        "model = KNeighborsClassifier( n_neighbors = 5 )"
      ],
      "execution_count": 0,
      "outputs": []
    },
    {
      "cell_type": "code",
      "metadata": {
        "id": "RxtzUd--P5eU",
        "colab_type": "code",
        "colab": {
          "base_uri": "https://localhost:8080/",
          "height": 68
        },
        "outputId": "8bbf4632-fe34-4d25-f344-76156463eff7"
      },
      "source": [
        "model.fit(X_train, Y_train)"
      ],
      "execution_count": 32,
      "outputs": [
        {
          "output_type": "execute_result",
          "data": {
            "text/plain": [
              "KNeighborsClassifier(algorithm='auto', leaf_size=30, metric='minkowski',\n",
              "                     metric_params=None, n_jobs=None, n_neighbors=5, p=2,\n",
              "                     weights='uniform')"
            ]
          },
          "metadata": {
            "tags": []
          },
          "execution_count": 32
        }
      ]
    },
    {
      "cell_type": "code",
      "metadata": {
        "id": "QueVhu3UP5ei",
        "colab_type": "code",
        "colab": {}
      },
      "source": [
        "Y_pred = model.predict( X_test )"
      ],
      "execution_count": 0,
      "outputs": []
    },
    {
      "cell_type": "code",
      "metadata": {
        "collapsed": true,
        "id": "EvuHVF6dP5ew",
        "colab_type": "code",
        "colab": {
          "base_uri": "https://localhost:8080/",
          "height": 34
        },
        "outputId": "635a5c79-c0ff-4b1e-bfdd-dca37257bc49"
      },
      "source": [
        "from sklearn.metrics import accuracy_score\n",
        "accuracy_score(Y_test, Y_pred)"
      ],
      "execution_count": 34,
      "outputs": [
        {
          "output_type": "execute_result",
          "data": {
            "text/plain": [
              "0.9638888888888889"
            ]
          },
          "metadata": {
            "tags": []
          },
          "execution_count": 34
        }
      ]
    },
    {
      "cell_type": "code",
      "metadata": {
        "id": "lofeend4P5fB",
        "colab_type": "code",
        "colab": {
          "base_uri": "https://localhost:8080/",
          "height": 187
        },
        "outputId": "053fbb91-0671-4e48-e091-e557b15132f0"
      },
      "source": [
        "from sklearn.metrics import confusion_matrix\n",
        "print(confusion_matrix(Y_test, Y_pred))"
      ],
      "execution_count": 36,
      "outputs": [
        {
          "output_type": "stream",
          "text": [
            "[[34  0  0  0  1  0  0  0  0  0]\n",
            " [ 0 36  0  0  0  0  0  0  0  0]\n",
            " [ 0  0 35  0  0  0  0  0  0  0]\n",
            " [ 0  0  1 33  0  1  0  1  1  0]\n",
            " [ 0  0  0  0 35  0  0  1  1  0]\n",
            " [ 0  0  0  0  0 37  0  0  0  0]\n",
            " [ 0  0  0  0  0  0 37  0  0  0]\n",
            " [ 0  0  0  0  0  0  0 36  0  0]\n",
            " [ 0  2  0  0  0  0  0  1 30  0]\n",
            " [ 0  0  0  1  0  2  0  0  0 34]]\n"
          ],
          "name": "stdout"
        }
      ]
    },
    {
      "cell_type": "code",
      "metadata": {
        "id": "tFJ4Z1YQV4jJ",
        "colab_type": "code",
        "colab": {
          "base_uri": "https://localhost:8080/",
          "height": 34
        },
        "outputId": "8ac17851-371b-4e1b-a2a3-7b8324f91115"
      },
      "source": [
        "model.score( X_test, Y_test )"
      ],
      "execution_count": 38,
      "outputs": [
        {
          "output_type": "execute_result",
          "data": {
            "text/plain": [
              "0.9638888888888889"
            ]
          },
          "metadata": {
            "tags": []
          },
          "execution_count": 38
        }
      ]
    }
  ]
}