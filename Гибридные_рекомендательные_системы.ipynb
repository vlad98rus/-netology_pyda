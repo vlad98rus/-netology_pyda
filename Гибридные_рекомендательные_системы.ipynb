{
  "nbformat": 4,
  "nbformat_minor": 0,
  "metadata": {
    "kernelspec": {
      "display_name": "Python 3",
      "language": "python",
      "name": "python3"
    },
    "language_info": {
      "codemirror_mode": {
        "name": "ipython",
        "version": 3
      },
      "file_extension": ".py",
      "mimetype": "text/x-python",
      "name": "python",
      "nbconvert_exporter": "python",
      "pygments_lexer": "ipython3",
      "version": "3.7.2"
    },
    "colab": {
      "name": "Гибридные рекомендательные системы.ipynb",
      "provenance": [],
      "include_colab_link": true
    }
  },
  "cells": [
    {
      "cell_type": "markdown",
      "metadata": {
        "id": "view-in-github",
        "colab_type": "text"
      },
      "source": [
        "<a href=\"https://colab.research.google.com/github/vlad98rus/-netology_pyda/blob/HomeWork-1/%D0%93%D0%B8%D0%B1%D1%80%D0%B8%D0%B4%D0%BD%D1%8B%D0%B5_%D1%80%D0%B5%D0%BA%D0%BE%D0%BC%D0%B5%D0%BD%D0%B4%D0%B0%D1%82%D0%B5%D0%BB%D1%8C%D0%BD%D1%8B%D0%B5_%D1%81%D0%B8%D1%81%D1%82%D0%B5%D0%BC%D1%8B.ipynb\" target=\"_parent\"><img src=\"https://colab.research.google.com/assets/colab-badge.svg\" alt=\"Open In Colab\"/></a>"
      ]
    },
    {
      "cell_type": "markdown",
      "metadata": {
        "id": "Nc-k4xh0yVbn",
        "colab_type": "text"
      },
      "source": [
        "## Домашнее задание: «Гибридные рекомендательные системы»\n",
        "\n",
        "\n",
        "Что делать?\n",
        "-  1.Датасет ml-latest\n",
        "-  2.Вспомнить подходы, которые мы разбирали\n",
        "-  3.Выбрать понравившийся подход к гибридным системам\n",
        "-  4.Написать свою"
      ]
    },
    {
      "cell_type": "markdown",
      "metadata": {
        "id": "WKT-lNVoyVbp",
        "colab_type": "text"
      },
      "source": [
        "### Постановка задачи\n",
        "\n",
        "По 2-м наиболее интересным для пользователя жанров (из просмотренных последних 10 фильмов) опрашиваем экспертов (топ-100 по просмотру данных жанров) на предмет общих рекомендаций топ-20 фильмов для каждого жанра, которые дальше ранжируем по средней оценке всех пользователей, с выдачей 2-х лучших фильма на просмотр в ближайшие выходные))"
      ]
    },
    {
      "cell_type": "code",
      "metadata": {
        "id": "-EKhEBctyVbr",
        "colab_type": "code",
        "colab": {},
        "outputId": "012320ca-cd7a-4562-c33a-2991b60bbe2c"
      },
      "source": [
        "import pandas as pd\n",
        "import numpy as np\n",
        "from tqdm import tqdm\n",
        "from sklearn.feature_extraction.text import TfidfVectorizer\n",
        "import surprise as s\n",
        "tqdm.pandas()"
      ],
      "execution_count": 0,
      "outputs": [
        {
          "output_type": "stream",
          "text": [
            "/home/truename/anaconda3/lib/python3.7/site-packages/tqdm/_tqdm.py:634: FutureWarning: The Panel class is removed from pandas. Accessing it from the top-level namespace will also be removed in the next version\n",
            "  from pandas import Panel\n"
          ],
          "name": "stderr"
        }
      ]
    },
    {
      "cell_type": "code",
      "metadata": {
        "ExecuteTime": {
          "end_time": "2019-09-09T16:36:10.044052Z",
          "start_time": "2019-09-09T16:36:09.950303Z"
        },
        "id": "KqmKnEZeyVby",
        "colab_type": "code",
        "colab": {}
      },
      "source": [
        "df_movies = pd.read_csv(\"../data/ml-latest-small/movies.csv\")\n",
        "df_ratings = pd.read_csv(\"../data/ml-latest-small/ratings.csv\")"
      ],
      "execution_count": 0,
      "outputs": []
    },
    {
      "cell_type": "code",
      "metadata": {
        "ExecuteTime": {
          "end_time": "2019-09-09T16:36:15.660239Z",
          "start_time": "2019-09-09T16:36:15.634327Z"
        },
        "id": "KUAKVGskyVb3",
        "colab_type": "code",
        "colab": {},
        "outputId": "15dddcd7-bcae-4a48-b599-b726f1ffeeb2"
      },
      "source": [
        "df_movies.head()"
      ],
      "execution_count": 0,
      "outputs": [
        {
          "output_type": "execute_result",
          "data": {
            "text/html": [
              "<div>\n",
              "<style scoped>\n",
              "    .dataframe tbody tr th:only-of-type {\n",
              "        vertical-align: middle;\n",
              "    }\n",
              "\n",
              "    .dataframe tbody tr th {\n",
              "        vertical-align: top;\n",
              "    }\n",
              "\n",
              "    .dataframe thead th {\n",
              "        text-align: right;\n",
              "    }\n",
              "</style>\n",
              "<table border=\"1\" class=\"dataframe\">\n",
              "  <thead>\n",
              "    <tr style=\"text-align: right;\">\n",
              "      <th></th>\n",
              "      <th>movieId</th>\n",
              "      <th>title</th>\n",
              "      <th>genres</th>\n",
              "    </tr>\n",
              "  </thead>\n",
              "  <tbody>\n",
              "    <tr>\n",
              "      <td>0</td>\n",
              "      <td>1</td>\n",
              "      <td>Toy Story (1995)</td>\n",
              "      <td>Adventure|Animation|Children|Comedy|Fantasy</td>\n",
              "    </tr>\n",
              "    <tr>\n",
              "      <td>1</td>\n",
              "      <td>2</td>\n",
              "      <td>Jumanji (1995)</td>\n",
              "      <td>Adventure|Children|Fantasy</td>\n",
              "    </tr>\n",
              "    <tr>\n",
              "      <td>2</td>\n",
              "      <td>3</td>\n",
              "      <td>Grumpier Old Men (1995)</td>\n",
              "      <td>Comedy|Romance</td>\n",
              "    </tr>\n",
              "    <tr>\n",
              "      <td>3</td>\n",
              "      <td>4</td>\n",
              "      <td>Waiting to Exhale (1995)</td>\n",
              "      <td>Comedy|Drama|Romance</td>\n",
              "    </tr>\n",
              "    <tr>\n",
              "      <td>4</td>\n",
              "      <td>5</td>\n",
              "      <td>Father of the Bride Part II (1995)</td>\n",
              "      <td>Comedy</td>\n",
              "    </tr>\n",
              "  </tbody>\n",
              "</table>\n",
              "</div>"
            ],
            "text/plain": [
              "   movieId                               title  \\\n",
              "0        1                    Toy Story (1995)   \n",
              "1        2                      Jumanji (1995)   \n",
              "2        3             Grumpier Old Men (1995)   \n",
              "3        4            Waiting to Exhale (1995)   \n",
              "4        5  Father of the Bride Part II (1995)   \n",
              "\n",
              "                                        genres  \n",
              "0  Adventure|Animation|Children|Comedy|Fantasy  \n",
              "1                   Adventure|Children|Fantasy  \n",
              "2                               Comedy|Romance  \n",
              "3                         Comedy|Drama|Romance  \n",
              "4                                       Comedy  "
            ]
          },
          "metadata": {
            "tags": []
          },
          "execution_count": 3
        }
      ]
    },
    {
      "cell_type": "code",
      "metadata": {
        "ExecuteTime": {
          "end_time": "2019-09-09T16:36:21.883419Z",
          "start_time": "2019-09-09T16:36:21.874961Z"
        },
        "id": "6F-DkFAFyVb8",
        "colab_type": "code",
        "colab": {},
        "outputId": "23117361-944b-4b1b-b729-8042ad726661"
      },
      "source": [
        "df_ratings.head()"
      ],
      "execution_count": 0,
      "outputs": [
        {
          "output_type": "execute_result",
          "data": {
            "text/html": [
              "<div>\n",
              "<style scoped>\n",
              "    .dataframe tbody tr th:only-of-type {\n",
              "        vertical-align: middle;\n",
              "    }\n",
              "\n",
              "    .dataframe tbody tr th {\n",
              "        vertical-align: top;\n",
              "    }\n",
              "\n",
              "    .dataframe thead th {\n",
              "        text-align: right;\n",
              "    }\n",
              "</style>\n",
              "<table border=\"1\" class=\"dataframe\">\n",
              "  <thead>\n",
              "    <tr style=\"text-align: right;\">\n",
              "      <th></th>\n",
              "      <th>userId</th>\n",
              "      <th>movieId</th>\n",
              "      <th>rating</th>\n",
              "      <th>timestamp</th>\n",
              "    </tr>\n",
              "  </thead>\n",
              "  <tbody>\n",
              "    <tr>\n",
              "      <td>0</td>\n",
              "      <td>1</td>\n",
              "      <td>1</td>\n",
              "      <td>4.0</td>\n",
              "      <td>964982703</td>\n",
              "    </tr>\n",
              "    <tr>\n",
              "      <td>1</td>\n",
              "      <td>1</td>\n",
              "      <td>3</td>\n",
              "      <td>4.0</td>\n",
              "      <td>964981247</td>\n",
              "    </tr>\n",
              "    <tr>\n",
              "      <td>2</td>\n",
              "      <td>1</td>\n",
              "      <td>6</td>\n",
              "      <td>4.0</td>\n",
              "      <td>964982224</td>\n",
              "    </tr>\n",
              "    <tr>\n",
              "      <td>3</td>\n",
              "      <td>1</td>\n",
              "      <td>47</td>\n",
              "      <td>5.0</td>\n",
              "      <td>964983815</td>\n",
              "    </tr>\n",
              "    <tr>\n",
              "      <td>4</td>\n",
              "      <td>1</td>\n",
              "      <td>50</td>\n",
              "      <td>5.0</td>\n",
              "      <td>964982931</td>\n",
              "    </tr>\n",
              "  </tbody>\n",
              "</table>\n",
              "</div>"
            ],
            "text/plain": [
              "   userId  movieId  rating  timestamp\n",
              "0       1        1     4.0  964982703\n",
              "1       1        3     4.0  964981247\n",
              "2       1        6     4.0  964982224\n",
              "3       1       47     5.0  964983815\n",
              "4       1       50     5.0  964982931"
            ]
          },
          "metadata": {
            "tags": []
          },
          "execution_count": 4
        }
      ]
    },
    {
      "cell_type": "code",
      "metadata": {
        "id": "GLQYpPvayVcA",
        "colab_type": "code",
        "colab": {},
        "outputId": "3e08b32d-79e6-4345-f980-b7d09e72480b"
      },
      "source": [
        "df_movies['genres_spaced'] = df_movies.progress_apply(lambda r: r['genres'].replace('|',' '), axis=1)\n",
        "df_movies.head()"
      ],
      "execution_count": 0,
      "outputs": [
        {
          "output_type": "stream",
          "text": [
            "100%|██████████| 9742/9742 [00:00<00:00, 42345.54it/s]\n"
          ],
          "name": "stderr"
        },
        {
          "output_type": "execute_result",
          "data": {
            "text/html": [
              "<div>\n",
              "<style scoped>\n",
              "    .dataframe tbody tr th:only-of-type {\n",
              "        vertical-align: middle;\n",
              "    }\n",
              "\n",
              "    .dataframe tbody tr th {\n",
              "        vertical-align: top;\n",
              "    }\n",
              "\n",
              "    .dataframe thead th {\n",
              "        text-align: right;\n",
              "    }\n",
              "</style>\n",
              "<table border=\"1\" class=\"dataframe\">\n",
              "  <thead>\n",
              "    <tr style=\"text-align: right;\">\n",
              "      <th></th>\n",
              "      <th>movieId</th>\n",
              "      <th>title</th>\n",
              "      <th>genres</th>\n",
              "      <th>genres_spaced</th>\n",
              "    </tr>\n",
              "  </thead>\n",
              "  <tbody>\n",
              "    <tr>\n",
              "      <td>0</td>\n",
              "      <td>1</td>\n",
              "      <td>Toy Story (1995)</td>\n",
              "      <td>Adventure|Animation|Children|Comedy|Fantasy</td>\n",
              "      <td>Adventure Animation Children Comedy Fantasy</td>\n",
              "    </tr>\n",
              "    <tr>\n",
              "      <td>1</td>\n",
              "      <td>2</td>\n",
              "      <td>Jumanji (1995)</td>\n",
              "      <td>Adventure|Children|Fantasy</td>\n",
              "      <td>Adventure Children Fantasy</td>\n",
              "    </tr>\n",
              "    <tr>\n",
              "      <td>2</td>\n",
              "      <td>3</td>\n",
              "      <td>Grumpier Old Men (1995)</td>\n",
              "      <td>Comedy|Romance</td>\n",
              "      <td>Comedy Romance</td>\n",
              "    </tr>\n",
              "    <tr>\n",
              "      <td>3</td>\n",
              "      <td>4</td>\n",
              "      <td>Waiting to Exhale (1995)</td>\n",
              "      <td>Comedy|Drama|Romance</td>\n",
              "      <td>Comedy Drama Romance</td>\n",
              "    </tr>\n",
              "    <tr>\n",
              "      <td>4</td>\n",
              "      <td>5</td>\n",
              "      <td>Father of the Bride Part II (1995)</td>\n",
              "      <td>Comedy</td>\n",
              "      <td>Comedy</td>\n",
              "    </tr>\n",
              "  </tbody>\n",
              "</table>\n",
              "</div>"
            ],
            "text/plain": [
              "   movieId                               title  \\\n",
              "0        1                    Toy Story (1995)   \n",
              "1        2                      Jumanji (1995)   \n",
              "2        3             Grumpier Old Men (1995)   \n",
              "3        4            Waiting to Exhale (1995)   \n",
              "4        5  Father of the Bride Part II (1995)   \n",
              "\n",
              "                                        genres  \\\n",
              "0  Adventure|Animation|Children|Comedy|Fantasy   \n",
              "1                   Adventure|Children|Fantasy   \n",
              "2                               Comedy|Romance   \n",
              "3                         Comedy|Drama|Romance   \n",
              "4                                       Comedy   \n",
              "\n",
              "                                 genres_spaced  \n",
              "0  Adventure Animation Children Comedy Fantasy  \n",
              "1                   Adventure Children Fantasy  \n",
              "2                               Comedy Romance  \n",
              "3                         Comedy Drama Romance  \n",
              "4                                       Comedy  "
            ]
          },
          "metadata": {
            "tags": []
          },
          "execution_count": 5
        }
      ]
    },
    {
      "cell_type": "code",
      "metadata": {
        "ExecuteTime": {
          "end_time": "2019-09-09T17:02:55.428035Z",
          "start_time": "2019-09-09T17:02:55.425244Z"
        },
        "id": "P2Mt3qOHyVcE",
        "colab_type": "code",
        "colab": {}
      },
      "source": [
        "tfidf = TfidfVectorizer()"
      ],
      "execution_count": 0,
      "outputs": []
    },
    {
      "cell_type": "code",
      "metadata": {
        "id": "1_IUrgvCyVcI",
        "colab_type": "code",
        "colab": {}
      },
      "source": [
        "features = tfidf.fit_transform(df_movies['genres_spaced'])"
      ],
      "execution_count": 0,
      "outputs": []
    },
    {
      "cell_type": "code",
      "metadata": {
        "ExecuteTime": {
          "end_time": "2019-09-09T17:03:09.780766Z",
          "start_time": "2019-09-09T17:03:09.777867Z"
        },
        "id": "UPzUknmFyVcN",
        "colab_type": "code",
        "colab": {}
      },
      "source": [
        "columns = [(k, tfidf.vocabulary_[k]) for k in tfidf.vocabulary_]"
      ],
      "execution_count": 0,
      "outputs": []
    },
    {
      "cell_type": "code",
      "metadata": {
        "ExecuteTime": {
          "end_time": "2019-09-09T17:03:11.052399Z",
          "start_time": "2019-09-09T17:03:11.049288Z"
        },
        "id": "snkTnRBIyVcU",
        "colab_type": "code",
        "colab": {}
      },
      "source": [
        "columns = sorted(columns, key=lambda c: c[1])"
      ],
      "execution_count": 0,
      "outputs": []
    },
    {
      "cell_type": "code",
      "metadata": {
        "ExecuteTime": {
          "end_time": "2019-09-09T17:03:11.731535Z",
          "start_time": "2019-09-09T17:03:11.728774Z"
        },
        "id": "u9A_JtmByVcX",
        "colab_type": "code",
        "colab": {}
      },
      "source": [
        "columns = [c[0] for c in columns]"
      ],
      "execution_count": 0,
      "outputs": []
    },
    {
      "cell_type": "code",
      "metadata": {
        "ExecuteTime": {
          "end_time": "2019-09-09T17:03:14.985436Z",
          "start_time": "2019-09-09T17:03:14.982401Z"
        },
        "id": "FWSB93qvyVca",
        "colab_type": "code",
        "colab": {}
      },
      "source": [
        "features = features.todense()"
      ],
      "execution_count": 0,
      "outputs": []
    },
    {
      "cell_type": "code",
      "metadata": {
        "ExecuteTime": {
          "end_time": "2019-09-09T17:03:16.273823Z",
          "start_time": "2019-09-09T17:03:16.269990Z"
        },
        "id": "tMO0mShlyVce",
        "colab_type": "code",
        "colab": {}
      },
      "source": [
        "df_features = pd.DataFrame(features, columns=columns)"
      ],
      "execution_count": 0,
      "outputs": []
    },
    {
      "cell_type": "code",
      "metadata": {
        "ExecuteTime": {
          "end_time": "2019-09-09T17:03:17.394321Z",
          "start_time": "2019-09-09T17:03:17.386397Z"
        },
        "id": "j_d3vzRGyVcj",
        "colab_type": "code",
        "colab": {}
      },
      "source": [
        "df_result = pd.concat((df_movies, df_features), axis=1).drop(['genres', 'genres_spaced'], axis=1)\n",
        "columns.remove('genres')"
      ],
      "execution_count": 0,
      "outputs": []
    },
    {
      "cell_type": "code",
      "metadata": {
        "ExecuteTime": {
          "end_time": "2019-09-09T17:03:20.541816Z",
          "start_time": "2019-09-09T17:03:20.537185Z"
        },
        "id": "hlyVRL0OyVcm",
        "colab_type": "code",
        "colab": {},
        "outputId": "5acb16de-f98d-433f-90e2-98cd492cdda3"
      },
      "source": [
        "df_result.columns"
      ],
      "execution_count": 0,
      "outputs": [
        {
          "output_type": "execute_result",
          "data": {
            "text/plain": [
              "Index(['movieId', 'title', 'action', 'adventure', 'animation', 'children',\n",
              "       'comedy', 'crime', 'documentary', 'drama', 'fantasy', 'fi', 'film',\n",
              "       'horror', 'imax', 'listed', 'musical', 'mystery', 'no', 'noir',\n",
              "       'romance', 'sci', 'thriller', 'war', 'western'],\n",
              "      dtype='object')"
            ]
          },
          "metadata": {
            "tags": []
          },
          "execution_count": 14
        }
      ]
    },
    {
      "cell_type": "code",
      "metadata": {
        "ExecuteTime": {
          "end_time": "2019-09-09T17:04:01.507770Z",
          "start_time": "2019-09-09T17:04:01.484400Z"
        },
        "id": "d68mddCHyVcp",
        "colab_type": "code",
        "colab": {},
        "outputId": "c7a1b67d-2303-4884-e46f-6c97d1a2176a"
      },
      "source": [
        "df_result.head()"
      ],
      "execution_count": 0,
      "outputs": [
        {
          "output_type": "execute_result",
          "data": {
            "text/html": [
              "<div>\n",
              "<style scoped>\n",
              "    .dataframe tbody tr th:only-of-type {\n",
              "        vertical-align: middle;\n",
              "    }\n",
              "\n",
              "    .dataframe tbody tr th {\n",
              "        vertical-align: top;\n",
              "    }\n",
              "\n",
              "    .dataframe thead th {\n",
              "        text-align: right;\n",
              "    }\n",
              "</style>\n",
              "<table border=\"1\" class=\"dataframe\">\n",
              "  <thead>\n",
              "    <tr style=\"text-align: right;\">\n",
              "      <th></th>\n",
              "      <th>movieId</th>\n",
              "      <th>title</th>\n",
              "      <th>action</th>\n",
              "      <th>adventure</th>\n",
              "      <th>animation</th>\n",
              "      <th>children</th>\n",
              "      <th>comedy</th>\n",
              "      <th>crime</th>\n",
              "      <th>documentary</th>\n",
              "      <th>drama</th>\n",
              "      <th>...</th>\n",
              "      <th>listed</th>\n",
              "      <th>musical</th>\n",
              "      <th>mystery</th>\n",
              "      <th>no</th>\n",
              "      <th>noir</th>\n",
              "      <th>romance</th>\n",
              "      <th>sci</th>\n",
              "      <th>thriller</th>\n",
              "      <th>war</th>\n",
              "      <th>western</th>\n",
              "    </tr>\n",
              "  </thead>\n",
              "  <tbody>\n",
              "    <tr>\n",
              "      <td>0</td>\n",
              "      <td>1</td>\n",
              "      <td>Toy Story (1995)</td>\n",
              "      <td>0.0</td>\n",
              "      <td>0.416846</td>\n",
              "      <td>0.516225</td>\n",
              "      <td>0.504845</td>\n",
              "      <td>0.267586</td>\n",
              "      <td>0.0</td>\n",
              "      <td>0.0</td>\n",
              "      <td>0.000000</td>\n",
              "      <td>...</td>\n",
              "      <td>0.0</td>\n",
              "      <td>0.0</td>\n",
              "      <td>0.0</td>\n",
              "      <td>0.0</td>\n",
              "      <td>0.0</td>\n",
              "      <td>0.000000</td>\n",
              "      <td>0.0</td>\n",
              "      <td>0.0</td>\n",
              "      <td>0.0</td>\n",
              "      <td>0.0</td>\n",
              "    </tr>\n",
              "    <tr>\n",
              "      <td>1</td>\n",
              "      <td>2</td>\n",
              "      <td>Jumanji (1995)</td>\n",
              "      <td>0.0</td>\n",
              "      <td>0.512361</td>\n",
              "      <td>0.000000</td>\n",
              "      <td>0.620525</td>\n",
              "      <td>0.000000</td>\n",
              "      <td>0.0</td>\n",
              "      <td>0.0</td>\n",
              "      <td>0.000000</td>\n",
              "      <td>...</td>\n",
              "      <td>0.0</td>\n",
              "      <td>0.0</td>\n",
              "      <td>0.0</td>\n",
              "      <td>0.0</td>\n",
              "      <td>0.0</td>\n",
              "      <td>0.000000</td>\n",
              "      <td>0.0</td>\n",
              "      <td>0.0</td>\n",
              "      <td>0.0</td>\n",
              "      <td>0.0</td>\n",
              "    </tr>\n",
              "    <tr>\n",
              "      <td>2</td>\n",
              "      <td>3</td>\n",
              "      <td>Grumpier Old Men (1995)</td>\n",
              "      <td>0.0</td>\n",
              "      <td>0.000000</td>\n",
              "      <td>0.000000</td>\n",
              "      <td>0.000000</td>\n",
              "      <td>0.570915</td>\n",
              "      <td>0.0</td>\n",
              "      <td>0.0</td>\n",
              "      <td>0.000000</td>\n",
              "      <td>...</td>\n",
              "      <td>0.0</td>\n",
              "      <td>0.0</td>\n",
              "      <td>0.0</td>\n",
              "      <td>0.0</td>\n",
              "      <td>0.0</td>\n",
              "      <td>0.821009</td>\n",
              "      <td>0.0</td>\n",
              "      <td>0.0</td>\n",
              "      <td>0.0</td>\n",
              "      <td>0.0</td>\n",
              "    </tr>\n",
              "    <tr>\n",
              "      <td>3</td>\n",
              "      <td>4</td>\n",
              "      <td>Waiting to Exhale (1995)</td>\n",
              "      <td>0.0</td>\n",
              "      <td>0.000000</td>\n",
              "      <td>0.000000</td>\n",
              "      <td>0.000000</td>\n",
              "      <td>0.505015</td>\n",
              "      <td>0.0</td>\n",
              "      <td>0.0</td>\n",
              "      <td>0.466405</td>\n",
              "      <td>...</td>\n",
              "      <td>0.0</td>\n",
              "      <td>0.0</td>\n",
              "      <td>0.0</td>\n",
              "      <td>0.0</td>\n",
              "      <td>0.0</td>\n",
              "      <td>0.726241</td>\n",
              "      <td>0.0</td>\n",
              "      <td>0.0</td>\n",
              "      <td>0.0</td>\n",
              "      <td>0.0</td>\n",
              "    </tr>\n",
              "    <tr>\n",
              "      <td>4</td>\n",
              "      <td>5</td>\n",
              "      <td>Father of the Bride Part II (1995)</td>\n",
              "      <td>0.0</td>\n",
              "      <td>0.000000</td>\n",
              "      <td>0.000000</td>\n",
              "      <td>0.000000</td>\n",
              "      <td>1.000000</td>\n",
              "      <td>0.0</td>\n",
              "      <td>0.0</td>\n",
              "      <td>0.000000</td>\n",
              "      <td>...</td>\n",
              "      <td>0.0</td>\n",
              "      <td>0.0</td>\n",
              "      <td>0.0</td>\n",
              "      <td>0.0</td>\n",
              "      <td>0.0</td>\n",
              "      <td>0.000000</td>\n",
              "      <td>0.0</td>\n",
              "      <td>0.0</td>\n",
              "      <td>0.0</td>\n",
              "      <td>0.0</td>\n",
              "    </tr>\n",
              "  </tbody>\n",
              "</table>\n",
              "<p>5 rows × 25 columns</p>\n",
              "</div>"
            ],
            "text/plain": [
              "   movieId                               title  action  adventure  animation  \\\n",
              "0        1                    Toy Story (1995)     0.0   0.416846   0.516225   \n",
              "1        2                      Jumanji (1995)     0.0   0.512361   0.000000   \n",
              "2        3             Grumpier Old Men (1995)     0.0   0.000000   0.000000   \n",
              "3        4            Waiting to Exhale (1995)     0.0   0.000000   0.000000   \n",
              "4        5  Father of the Bride Part II (1995)     0.0   0.000000   0.000000   \n",
              "\n",
              "   children    comedy  crime  documentary     drama  ...  listed  musical  \\\n",
              "0  0.504845  0.267586    0.0          0.0  0.000000  ...     0.0      0.0   \n",
              "1  0.620525  0.000000    0.0          0.0  0.000000  ...     0.0      0.0   \n",
              "2  0.000000  0.570915    0.0          0.0  0.000000  ...     0.0      0.0   \n",
              "3  0.000000  0.505015    0.0          0.0  0.466405  ...     0.0      0.0   \n",
              "4  0.000000  1.000000    0.0          0.0  0.000000  ...     0.0      0.0   \n",
              "\n",
              "   mystery   no  noir   romance  sci  thriller  war  western  \n",
              "0      0.0  0.0   0.0  0.000000  0.0       0.0  0.0      0.0  \n",
              "1      0.0  0.0   0.0  0.000000  0.0       0.0  0.0      0.0  \n",
              "2      0.0  0.0   0.0  0.821009  0.0       0.0  0.0      0.0  \n",
              "3      0.0  0.0   0.0  0.726241  0.0       0.0  0.0      0.0  \n",
              "4      0.0  0.0   0.0  0.000000  0.0       0.0  0.0      0.0  \n",
              "\n",
              "[5 rows x 25 columns]"
            ]
          },
          "metadata": {
            "tags": []
          },
          "execution_count": 15
        }
      ]
    },
    {
      "cell_type": "code",
      "metadata": {
        "ExecuteTime": {
          "end_time": "2019-09-09T17:06:44.687821Z",
          "start_time": "2019-09-09T17:06:44.623613Z"
        },
        "id": "qWySh8layVcs",
        "colab_type": "code",
        "colab": {}
      },
      "source": [
        "df_joined = df_ratings.merge(df_result, on='movieId')"
      ],
      "execution_count": 0,
      "outputs": []
    },
    {
      "cell_type": "code",
      "metadata": {
        "ExecuteTime": {
          "end_time": "2019-09-09T17:04:09.057691Z",
          "start_time": "2019-09-09T17:04:09.055291Z"
        },
        "id": "21TLQaMDyVcw",
        "colab_type": "code",
        "colab": {}
      },
      "source": [
        "user_id = 320"
      ],
      "execution_count": 0,
      "outputs": []
    },
    {
      "cell_type": "code",
      "metadata": {
        "ExecuteTime": {
          "end_time": "2019-09-09T17:07:01.688283Z",
          "start_time": "2019-09-09T17:07:01.682962Z"
        },
        "id": "o7bhL2huyVcz",
        "colab_type": "code",
        "colab": {}
      },
      "source": [
        "def get_last_films_genre(user_id, last_film_count = 10, top_genres_count = 2):\n",
        "    ''' Get genres from the most recent films '''\n",
        "    user_films = df_joined[df_joined['userId'] == user_id]\n",
        "    user_films = user_films.sort_values('timestamp', ascending=False)\n",
        "    last_ = user_films.head(last_film_count)\n",
        "    \n",
        "    # Count films for each genre from this last_film_count for this user_id\n",
        "    last_ = last_[columns].replace(0,np.nan).count(axis=0).reset_index()\n",
        "    # Get top (top_genres_count) genres by count\n",
        "    genres = last_.sort_values(0, ascending=False).head(top_genres_count)['index'].values\n",
        "    \n",
        "    return list(genres)"
      ],
      "execution_count": 0,
      "outputs": []
    },
    {
      "cell_type": "code",
      "metadata": {
        "id": "5RqfSIflyVc2",
        "colab_type": "code",
        "colab": {},
        "outputId": "9b6694c9-5dc6-41c4-bdfc-75ea379405fc"
      },
      "source": [
        "genres = get_last_films_genre(user_id)\n",
        "genres"
      ],
      "execution_count": 0,
      "outputs": [
        {
          "output_type": "execute_result",
          "data": {
            "text/plain": [
              "['action', 'fi']"
            ]
          },
          "metadata": {
            "tags": []
          },
          "execution_count": 19
        }
      ]
    },
    {
      "cell_type": "code",
      "metadata": {
        "ExecuteTime": {
          "end_time": "2019-09-09T16:35:46.937036Z",
          "start_time": "2019-09-09T16:35:46.380599Z"
        },
        "id": "UHJ64AzMyVc5",
        "colab_type": "code",
        "colab": {}
      },
      "source": [
        "def get_expert_recommendations(user_id, genres, expert_value = 100, expert_film_list_count = 20):\n",
        "    ''' For user_id ask expert who in TOP-100 of user_id who seen films of genres about list of recommendations not from seen by user_id '''\n",
        "    # Find experts (exclude user_id) in these genres\n",
        "    experts = df_joined[df_joined['userId']!=user_id]\n",
        "    # Count films for each user\n",
        "    experts = experts.replace(0,np.nan).groupby('userId').agg('count').reset_index()\n",
        "    # Get TOP experts (expert_value)\n",
        "    experts = experts.sort_values(genres, ascending=False).head(expert_value)['userId'].values\n",
        "    # Find films seen by experts and not seen by user_id of these genres\n",
        "    seen_films = df_joined[df_joined['userId'] == user_id]['movieId'].unique()\n",
        "    not_seen_films_from_experts = df_joined[(df_joined['userId'].isin(experts))][~df_joined['movieId'].isin(seen_films)]\n",
        "    # Filter not_seen_films_from_expert only with genres\n",
        "    movieId_same_genres = df_result[df_result['movieId'].isin(not_seen_films_from_experts['movieId'].unique())][['movieId']+genres].replace(0,np.nan).dropna()['movieId'].values\n",
        "    not_seen_films_from_experts = not_seen_films_from_experts[not_seen_films_from_experts['movieId'].isin(movieId_same_genres)]\n",
        "    # Find list of recommendations from experts (from films seen by experts but not seen by user_id)\n",
        "    df_for_surprise = not_seen_films_from_experts[['userId', 'movieId', 'rating']]\n",
        "    reader = s.reader.Reader(rating_scale=(0.5, 5))\n",
        "    dataset = s.dataset.Dataset.load_from_df(df_for_surprise, reader)\n",
        "    dataset, _ = s.model_selection.train_test_split(dataset, test_size=0.01)\n",
        "    algorithm = s.SVD()\n",
        "    algorithm.fit(dataset)\n",
        "    recommendations = pd.DataFrame(movieId_same_genres, columns=['movieId'])\n",
        "    recommendations['Score'] = recommendations.apply(lambda r: algorithm.predict(user_id, r['movieId']).est, axis=1)\n",
        "    recommendations = recommendations.sort_values('Score', ascending=False).head(expert_film_list_count)\n",
        "    \n",
        "    return recommendations"
      ],
      "execution_count": 0,
      "outputs": []
    },
    {
      "cell_type": "code",
      "metadata": {
        "ExecuteTime": {
          "end_time": "2019-09-09T17:20:38.563530Z",
          "start_time": "2019-09-09T17:20:38.496605Z"
        },
        "id": "WjLHI5DOyVc8",
        "colab_type": "code",
        "colab": {},
        "outputId": "b331dacb-4268-4adc-aee2-cc081cabf0b9"
      },
      "source": [
        "top_by_experts = get_expert_recommendations(user_id, genres)\n",
        "top_by_experts"
      ],
      "execution_count": 0,
      "outputs": [
        {
          "output_type": "stream",
          "text": [
            "/home/truename/anaconda3/lib/python3.7/site-packages/ipykernel_launcher.py:11: UserWarning: Boolean Series key will be reindexed to match DataFrame index.\n",
            "  # This is added back by InteractiveShellApp.init_path()\n"
          ],
          "name": "stderr"
        },
        {
          "output_type": "execute_result",
          "data": {
            "text/html": [
              "<div>\n",
              "<style scoped>\n",
              "    .dataframe tbody tr th:only-of-type {\n",
              "        vertical-align: middle;\n",
              "    }\n",
              "\n",
              "    .dataframe tbody tr th {\n",
              "        vertical-align: top;\n",
              "    }\n",
              "\n",
              "    .dataframe thead th {\n",
              "        text-align: right;\n",
              "    }\n",
              "</style>\n",
              "<table border=\"1\" class=\"dataframe\">\n",
              "  <thead>\n",
              "    <tr style=\"text-align: right;\">\n",
              "      <th></th>\n",
              "      <th>movieId</th>\n",
              "      <th>Score</th>\n",
              "    </tr>\n",
              "  </thead>\n",
              "  <tbody>\n",
              "    <tr>\n",
              "      <td>30</td>\n",
              "      <td>1196</td>\n",
              "      <td>4.414209</td>\n",
              "    </tr>\n",
              "    <tr>\n",
              "      <td>73</td>\n",
              "      <td>2571</td>\n",
              "      <td>4.351309</td>\n",
              "    </tr>\n",
              "    <tr>\n",
              "      <td>7</td>\n",
              "      <td>260</td>\n",
              "      <td>4.344188</td>\n",
              "    </tr>\n",
              "    <tr>\n",
              "      <td>278</td>\n",
              "      <td>79132</td>\n",
              "      <td>4.238984</td>\n",
              "    </tr>\n",
              "    <tr>\n",
              "      <td>32</td>\n",
              "      <td>1210</td>\n",
              "      <td>4.184925</td>\n",
              "    </tr>\n",
              "    <tr>\n",
              "      <td>17</td>\n",
              "      <td>541</td>\n",
              "      <td>4.163679</td>\n",
              "    </tr>\n",
              "    <tr>\n",
              "      <td>348</td>\n",
              "      <td>112852</td>\n",
              "      <td>4.147250</td>\n",
              "    </tr>\n",
              "    <tr>\n",
              "      <td>19</td>\n",
              "      <td>589</td>\n",
              "      <td>4.136406</td>\n",
              "    </tr>\n",
              "    <tr>\n",
              "      <td>31</td>\n",
              "      <td>1200</td>\n",
              "      <td>4.103443</td>\n",
              "    </tr>\n",
              "    <tr>\n",
              "      <td>354</td>\n",
              "      <td>122882</td>\n",
              "      <td>4.000170</td>\n",
              "    </tr>\n",
              "    <tr>\n",
              "      <td>33</td>\n",
              "      <td>1240</td>\n",
              "      <td>3.995765</td>\n",
              "    </tr>\n",
              "    <tr>\n",
              "      <td>408</td>\n",
              "      <td>168252</td>\n",
              "      <td>3.985743</td>\n",
              "    </tr>\n",
              "    <tr>\n",
              "      <td>149</td>\n",
              "      <td>6502</td>\n",
              "      <td>3.980453</td>\n",
              "    </tr>\n",
              "    <tr>\n",
              "      <td>220</td>\n",
              "      <td>48774</td>\n",
              "      <td>3.978943</td>\n",
              "    </tr>\n",
              "    <tr>\n",
              "      <td>59</td>\n",
              "      <td>2288</td>\n",
              "      <td>3.971015</td>\n",
              "    </tr>\n",
              "    <tr>\n",
              "      <td>146</td>\n",
              "      <td>6350</td>\n",
              "      <td>3.950821</td>\n",
              "    </tr>\n",
              "    <tr>\n",
              "      <td>298</td>\n",
              "      <td>89745</td>\n",
              "      <td>3.943967</td>\n",
              "    </tr>\n",
              "    <tr>\n",
              "      <td>84</td>\n",
              "      <td>2716</td>\n",
              "      <td>3.942879</td>\n",
              "    </tr>\n",
              "    <tr>\n",
              "      <td>216</td>\n",
              "      <td>44191</td>\n",
              "      <td>3.917514</td>\n",
              "    </tr>\n",
              "    <tr>\n",
              "      <td>67</td>\n",
              "      <td>2529</td>\n",
              "      <td>3.913556</td>\n",
              "    </tr>\n",
              "  </tbody>\n",
              "</table>\n",
              "</div>"
            ],
            "text/plain": [
              "     movieId     Score\n",
              "30      1196  4.414209\n",
              "73      2571  4.351309\n",
              "7        260  4.344188\n",
              "278    79132  4.238984\n",
              "32      1210  4.184925\n",
              "17       541  4.163679\n",
              "348   112852  4.147250\n",
              "19       589  4.136406\n",
              "31      1200  4.103443\n",
              "354   122882  4.000170\n",
              "33      1240  3.995765\n",
              "408   168252  3.985743\n",
              "149     6502  3.980453\n",
              "220    48774  3.978943\n",
              "59      2288  3.971015\n",
              "146     6350  3.950821\n",
              "298    89745  3.943967\n",
              "84      2716  3.942879\n",
              "216    44191  3.917514\n",
              "67      2529  3.913556"
            ]
          },
          "metadata": {
            "tags": []
          },
          "execution_count": 21
        }
      ]
    },
    {
      "cell_type": "code",
      "metadata": {
        "ExecuteTime": {
          "end_time": "2019-09-09T17:20:57.804992Z",
          "start_time": "2019-09-09T17:20:57.800502Z"
        },
        "id": "2VaeSQweyVc_",
        "colab_type": "code",
        "colab": {}
      },
      "source": [
        "def rating_for_user(user_id, top_by_experts, film_count = 2):\n",
        "    ''' Get only (film_count) films with highest average rating '''\n",
        "    movieIds = top_by_experts['movieId'].values\n",
        "    df = df_joined[df_joined['movieId'].isin(movieIds)][['movieId', 'rating']]\n",
        "    # Calc mean rating for recommended films by experts and get only top (film_count) films\n",
        "    df = df.groupby('movieId').agg('mean').reset_index().sort_values('rating', ascending = False).head(film_count)\n",
        "    # Add title to result\n",
        "    df = df.merge(df_movies, on='movieId')[['movieId', 'title', 'rating']]\n",
        "    \n",
        "    return df"
      ],
      "execution_count": 0,
      "outputs": []
    },
    {
      "cell_type": "code",
      "metadata": {
        "id": "BEGekGOVyVdB",
        "colab_type": "code",
        "colab": {},
        "outputId": "9f8bc954-8907-48ce-b4bb-f35eb340257a"
      },
      "source": [
        "# Final list of films for weekend\n",
        "rating_for_user(user_id, top_by_experts)"
      ],
      "execution_count": 0,
      "outputs": [
        {
          "output_type": "execute_result",
          "data": {
            "text/html": [
              "<div>\n",
              "<style scoped>\n",
              "    .dataframe tbody tr th:only-of-type {\n",
              "        vertical-align: middle;\n",
              "    }\n",
              "\n",
              "    .dataframe tbody tr th {\n",
              "        vertical-align: top;\n",
              "    }\n",
              "\n",
              "    .dataframe thead th {\n",
              "        text-align: right;\n",
              "    }\n",
              "</style>\n",
              "<table border=\"1\" class=\"dataframe\">\n",
              "  <thead>\n",
              "    <tr style=\"text-align: right;\">\n",
              "      <th></th>\n",
              "      <th>movieId</th>\n",
              "      <th>title</th>\n",
              "      <th>rating</th>\n",
              "    </tr>\n",
              "  </thead>\n",
              "  <tbody>\n",
              "    <tr>\n",
              "      <td>0</td>\n",
              "      <td>168252</td>\n",
              "      <td>Logan (2017)</td>\n",
              "      <td>4.280000</td>\n",
              "    </tr>\n",
              "    <tr>\n",
              "      <td>1</td>\n",
              "      <td>260</td>\n",
              "      <td>Star Wars: Episode IV - A New Hope (1977)</td>\n",
              "      <td>4.231076</td>\n",
              "    </tr>\n",
              "  </tbody>\n",
              "</table>\n",
              "</div>"
            ],
            "text/plain": [
              "   movieId                                      title    rating\n",
              "0   168252                               Logan (2017)  4.280000\n",
              "1      260  Star Wars: Episode IV - A New Hope (1977)  4.231076"
            ]
          },
          "metadata": {
            "tags": []
          },
          "execution_count": 23
        }
      ]
    }
  ]
}