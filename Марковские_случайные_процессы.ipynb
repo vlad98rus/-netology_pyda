{
  "nbformat": 4,
  "nbformat_minor": 0,
  "metadata": {
    "kernelspec": {
      "display_name": "Python 3",
      "language": "python",
      "name": "python3"
    },
    "language_info": {
      "codemirror_mode": {
        "name": "ipython",
        "version": 3
      },
      "file_extension": ".py",
      "mimetype": "text/x-python",
      "name": "python",
      "nbconvert_exporter": "python",
      "pygments_lexer": "ipython3",
      "version": "3.7.2"
    },
    "colab": {
      "name": "Марковские случайные процессы.ipynb",
      "provenance": [],
      "toc_visible": true,
      "include_colab_link": true
    }
  },
  "cells": [
    {
      "cell_type": "markdown",
      "metadata": {
        "id": "view-in-github",
        "colab_type": "text"
      },
      "source": [
        "<a href=\"https://colab.research.google.com/github/vlad98rus/-netology_pyda/blob/HomeWork-1/%D0%9C%D0%B0%D1%80%D0%BA%D0%BE%D0%B2%D1%81%D0%BA%D0%B8%D0%B5_%D1%81%D0%BB%D1%83%D1%87%D0%B0%D0%B9%D0%BD%D1%8B%D0%B5_%D0%BF%D1%80%D0%BE%D1%86%D0%B5%D1%81%D1%81%D1%8B.ipynb\" target=\"_parent\"><img src=\"https://colab.research.google.com/assets/colab-badge.svg\" alt=\"Open In Colab\"/></a>"
      ]
    },
    {
      "cell_type": "markdown",
      "metadata": {
        "id": "fi3KwQ3vvEoh",
        "colab_type": "text"
      },
      "source": [
        "# Домашнее задание \"Марковские случайные процессы\""
      ]
    },
    {
      "cell_type": "markdown",
      "metadata": {
        "id": "jA3BW7vBvEoj",
        "colab_type": "text"
      },
      "source": [
        "— Скачайте текст войны и мир (ссылка на github и гугл диск). Очистите его, оставив только русские буквы и символы пробела. Постройте матрицу переходных вероятностей. Посчитайте вероятность встретить строку из 4-х символов, которая начинается п, а кончается на р; Используя матрицу переходных вероятностей сгенерируйте слово, начинающееся с буквы “Б” и имеющее длину 8-мь символов\n",
        "\n",
        "— Выберите ряд из предыдущих домашних заданий по временным рядам и оцените его через HMM. Попробуйте “построить” (через среднее каждой компоненты) наивный прогноз ряда."
      ]
    },
    {
      "cell_type": "code",
      "metadata": {
        "id": "Zd2cloS9wAVA",
        "colab_type": "code",
        "colab": {
          "base_uri": "https://localhost:8080/",
          "height": 190
        },
        "outputId": "4252d346-e988-458e-a216-cf63de755a5d"
      },
      "source": [
        "pip install hmmlearn"
      ],
      "execution_count": 2,
      "outputs": [
        {
          "output_type": "stream",
          "text": [
            "Collecting hmmlearn\n",
            "\u001b[?25l  Downloading https://files.pythonhosted.org/packages/ff/7b/33f629a443a0671161c019e55c3f1b511c7e9fdce5ab8c8c3c33470eb939/hmmlearn-0.2.3-cp36-cp36m-manylinux1_x86_64.whl (363kB)\n",
            "\u001b[K     |████████████████████████████████| 368kB 2.7MB/s \n",
            "\u001b[?25hRequirement already satisfied: numpy>=1.10 in /usr/local/lib/python3.6/dist-packages (from hmmlearn) (1.18.5)\n",
            "Requirement already satisfied: scipy>=0.15 in /usr/local/lib/python3.6/dist-packages (from hmmlearn) (1.4.1)\n",
            "Requirement already satisfied: scikit-learn>=0.16 in /usr/local/lib/python3.6/dist-packages (from hmmlearn) (0.22.2.post1)\n",
            "Requirement already satisfied: joblib>=0.11 in /usr/local/lib/python3.6/dist-packages (from scikit-learn>=0.16->hmmlearn) (0.16.0)\n",
            "Installing collected packages: hmmlearn\n",
            "Successfully installed hmmlearn-0.2.3\n"
          ],
          "name": "stdout"
        }
      ]
    },
    {
      "cell_type": "code",
      "metadata": {
        "ExecuteTime": {
          "end_time": "2019-12-04T16:21:22.082489Z",
          "start_time": "2019-12-04T16:21:20.490581Z"
        },
        "id": "GLqasDU9vEok",
        "colab_type": "code",
        "colab": {}
      },
      "source": [
        "import numpy as np\n",
        "import re\n",
        "import matplotlib.pyplot as plt\n",
        "import seaborn as sns\n",
        "import pandas as pd\n",
        "from hmmlearn.hmm import GaussianHMM\n",
        "\n",
        "%matplotlib inline\n",
        "sns.set()"
      ],
      "execution_count": 3,
      "outputs": []
    },
    {
      "cell_type": "code",
      "metadata": {
        "ExecuteTime": {
          "end_time": "2019-12-04T16:21:22.105164Z",
          "start_time": "2019-12-04T16:21:22.085894Z"
        },
        "id": "E3m5VxYlvEoq",
        "colab_type": "code",
        "colab": {}
      },
      "source": [
        "with open('TolstoyLev_VoynaIMir_tom1.txt', 'r') as f:\n",
        "    text = f.read().lower()\n",
        "text = re.sub('[^а-я]','', text)"
      ],
      "execution_count": 4,
      "outputs": []
    },
    {
      "cell_type": "code",
      "metadata": {
        "ExecuteTime": {
          "end_time": "2019-12-04T16:21:22.110466Z",
          "start_time": "2019-12-04T16:21:22.107189Z"
        },
        "id": "tz_a_yxZvEou",
        "colab_type": "code",
        "colab": {}
      },
      "source": [
        "RUSSIAN = 'абвгдеёжзийклмнопрстуфхцчшщъыьэюя'\n",
        "POS = {l: i for i, l in enumerate(RUSSIAN)}"
      ],
      "execution_count": 5,
      "outputs": []
    },
    {
      "cell_type": "code",
      "metadata": {
        "ExecuteTime": {
          "end_time": "2019-12-04T16:21:22.118330Z",
          "start_time": "2019-12-04T16:21:22.114822Z"
        },
        "id": "6nKIuSirvEo0",
        "colab_type": "code",
        "colab": {}
      },
      "source": [
        "probabilities = np.zeros((len(RUSSIAN), len(RUSSIAN)))"
      ],
      "execution_count": 6,
      "outputs": []
    },
    {
      "cell_type": "code",
      "metadata": {
        "ExecuteTime": {
          "end_time": "2019-12-04T16:21:22.209934Z",
          "start_time": "2019-12-04T16:21:22.123092Z"
        },
        "id": "X0nBSDXovEo3",
        "colab_type": "code",
        "colab": {}
      },
      "source": [
        "for cp, cn in zip(text[:-1], text[1:]):\n",
        "    probabilities[POS[cp], POS[cn]] += 1"
      ],
      "execution_count": 7,
      "outputs": []
    },
    {
      "cell_type": "code",
      "metadata": {
        "ExecuteTime": {
          "end_time": "2019-12-04T16:21:22.216332Z",
          "start_time": "2019-12-04T16:21:22.212227Z"
        },
        "id": "K8C331muvEo7",
        "colab_type": "code",
        "colab": {
          "base_uri": "https://localhost:8080/",
          "height": 51
        },
        "outputId": "f76529c0-33b2-4b94-fef4-99fdc6cfc662"
      },
      "source": [
        "probabilities = (probabilities / probabilities.sum(axis=1)[:, None])"
      ],
      "execution_count": 8,
      "outputs": [
        {
          "output_type": "stream",
          "text": [
            "/usr/local/lib/python3.6/dist-packages/ipykernel_launcher.py:1: RuntimeWarning: invalid value encountered in true_divide\n",
            "  \"\"\"Entry point for launching an IPython kernel.\n"
          ],
          "name": "stderr"
        }
      ]
    },
    {
      "cell_type": "code",
      "metadata": {
        "ExecuteTime": {
          "end_time": "2019-12-04T16:21:22.224530Z",
          "start_time": "2019-12-04T16:21:22.220450Z"
        },
        "id": "mALyKhOavEo_",
        "colab_type": "code",
        "colab": {}
      },
      "source": [
        "df = pd.DataFrame(probabilities, index=(c for c in RUSSIAN), columns=(c for c in RUSSIAN))"
      ],
      "execution_count": 9,
      "outputs": []
    },
    {
      "cell_type": "markdown",
      "metadata": {
        "id": "-kQDE4trvEpE",
        "colab_type": "text"
      },
      "source": [
        "### Матрица переходных вероятностей"
      ]
    },
    {
      "cell_type": "code",
      "metadata": {
        "ExecuteTime": {
          "end_time": "2019-12-04T16:21:25.999947Z",
          "start_time": "2019-12-04T16:21:22.374584Z"
        },
        "id": "qkkZL9qGvEpE",
        "colab_type": "code",
        "colab": {
          "base_uri": "https://localhost:8080/",
          "height": 866
        },
        "outputId": "f28de539-62e1-4b32-bdba-e42a72d728cd"
      },
      "source": [
        "plt.figure(figsize=(15,15))\n",
        "sns.heatmap(df)\n",
        "plt.show()"
      ],
      "execution_count": 10,
      "outputs": [
        {
          "output_type": "display_data",
          "data": {
            "image/png": "[encoded data removed]",
            "text/plain": [
              "<Figure size 1080x1080 with 2 Axes>"
            ]
          },
          "metadata": {
            "tags": []
          }
        }
      ]
    },
    {
      "cell_type": "markdown",
      "metadata": {
        "id": "gOjb_jAOvEpI",
        "colab_type": "text"
      },
      "source": [
        "### Вероятность встретить строку из 4-х символов, которая начинается п, а кончается на р"
      ]
    },
    {
      "cell_type": "code",
      "metadata": {
        "ExecuteTime": {
          "end_time": "2019-12-04T16:21:27.553977Z",
          "start_time": "2019-12-04T16:21:27.546102Z"
        },
        "id": "72c6pGlovEpI",
        "colab_type": "code",
        "colab": {
          "base_uri": "https://localhost:8080/",
          "height": 1000
        },
        "outputId": "0c387533-3569-4678-d528-d794dac10d76"
      },
      "source": [
        "start = POS['п']\n",
        "end = POS['р']\n",
        "prior = 1. / len(RUSSIAN)\n",
        "for c1 in RUSSIAN:\n",
        "    for c2 in RUSSIAN:\n",
        "        proba = prior * probabilities[start, POS[c1]] * probabilities[POS[c1], POS[c2]] * probabilities[POS[c2], end]\n",
        "        if proba > 0:\n",
        "            print(''.join(['п', c1, c2, 'р']), proba)"
      ],
      "execution_count": 11,
      "outputs": [
        {
          "output_type": "stream",
          "text": [
            "паар 2.547545243322798e-07\n",
            "пабр 2.146667655447307e-06\n",
            "павр 1.8583700628697537e-06\n",
            "пагр 2.2786001191850735e-06\n",
            "падр 4.320623190576904e-06\n",
            "паер 2.877480680375452e-06\n",
            "пажр 2.1278990041774906e-09\n",
            "пазр 1.312617668058892e-06\n",
            "паир 5.423214614255591e-07\n",
            "пайр 5.644364878480318e-07\n",
            "пакр 6.583799448149369e-06\n",
            "палр 1.1997188479876228e-06\n",
            "памр 6.025766840200911e-07\n",
            "панр 3.977338842341425e-07\n",
            "паор 1.9129302864905798e-06\n",
            "папр 1.3049346215370881e-05\n",
            "парр 1.0876639955847687e-07\n",
            "паср 8.959579723993165e-07\n",
            "патр 6.766454138408345e-06\n",
            "паур 3.2244085450785337e-07\n",
            "пафр 2.939553262363832e-06\n",
            "пахр 5.172315651560583e-07\n",
            "пацр 2.9993926730976475e-09\n",
            "пачр 6.539154509011177e-08\n",
            "пашр 2.248962901901626e-08\n",
            "пащр 5.630626602075052e-09\n",
            "паэр 7.514594553413136e-08\n",
            "паюр 4.6914688278068984e-07\n",
            "паяр 7.705695518935896e-07\n",
            "пбар 3.483754597647501e-09\n",
            "пббр 1.0764164423595634e-10\n",
            "пбвр 1.1792568521576925e-10\n",
            "пбгр 5.927123634732714e-11\n",
            "пбдр 1.3581924584971456e-10\n",
            "пбер 1.5138067730379713e-08\n",
            "пбжр 5.971230153540564e-14\n",
            "пбзр 3.846905821902123e-12\n",
            "пбир 1.0711244598587336e-09\n",
            "пбкр 1.1144547435079086e-09\n",
            "пблр 3.7384829515628855e-10\n",
            "пбмр 3.116762948310659e-11\n",
            "пбнр 6.140499975342123e-11\n",
            "пбор 1.077075430502186e-08\n",
            "пбпр 1.6475229097590385e-10\n",
            "пбрр 1.431816223495444e-10\n",
            "пбср 4.0031356360011204e-11\n",
            "пбтр 4.261074468748292e-11\n",
            "пбур 2.5948783771743893e-09\n",
            "пбхр 1.0250890142606103e-10\n",
            "пбцр 4.805241266882603e-13\n",
            "пбчр 5.801962483265648e-12\n",
            "пбшр 3.156216831284199e-13\n",
            "пбщр 1.6859907076738788e-11\n",
            "пбыр 6.049452702493282e-09\n",
            "пбьр 3.16573242537557e-11\n",
            "пбэр 3.0012111824360074e-11\n",
            "пбюр 1.2944696712970166e-11\n",
            "пбяр 4.521021022517494e-10\n",
            "пвар 6.862749022421088e-09\n",
            "пвбр 4.693467435777579e-10\n",
            "пввр 2.028747132066906e-10\n",
            "пвгр 7.406954336756284e-10\n",
            "пвдр 1.4126865129362277e-09\n",
            "пвер 1.2638668577030687e-08\n",
            "пвжр 1.1047380761457024e-13\n",
            "пвзр 2.536925129336332e-10\n",
            "пвир 1.7433844260987488e-09\n",
            "пвйр 7.404097667411028e-13\n",
            "пвкр 1.0602812979423659e-09\n",
            "пвлр 1.8238373124558624e-10\n",
            "пвмр 8.75711123856977e-11\n",
            "пвнр 1.3553254824560196e-10\n",
            "пвор 1.3958829880654942e-08\n",
            "пвпр 6.751372649975289e-09\n",
            "пврр 3.4100247623217724e-11\n",
            "пвср 8.449879154683564e-10\n",
            "пвтр 1.0083147818174548e-09\n",
            "пвур 7.965402642818966e-10\n",
            "пвфр 7.108625749127198e-11\n",
            "пвхр 5.567199566542695e-11\n",
            "пвцр 1.4646269538726161e-12\n",
            "пвчр 1.5417454040030547e-11\n",
            "пвшр 2.3584499155899082e-11\n",
            "пвщр 3.3606646869148634e-13\n",
            "пвыр 1.6035215740049685e-09\n",
            "пвьр 5.96123253323874e-11\n",
            "пвэр 8.910024913474284e-11\n",
            "пвюр 3.138477877065783e-12\n",
            "пвяр 6.734868289454636e-11\n",
            "пгар 2.9286916357349912e-08\n",
            "пгбр 1.6208797561446305e-09\n",
            "пгвр 1.3956469073307615e-09\n",
            "пггр 5.312576291307292e-10\n",
            "пгдр 5.5267416382584164e-08\n",
            "пгер 3.312315416140825e-08\n",
            "пгжр 3.1035902250806933e-13\n",
            "пгзр 4.678729919442551e-10\n",
            "пгир 1.0973416618281432e-08\n",
            "пгкр 5.108274288321801e-09\n",
            "пглр 6.852506748725956e-09\n",
            "пгмр 1.6331843356039409e-10\n",
            "пгнр 6.930265078199471e-10\n",
            "пгор 4.2264427467146723e-07\n",
            "пгпр 1.734865857605357e-08\n",
            "пгрр 1.5486582856580877e-09\n",
            "пгср 7.980166556491988e-10\n",
            "пгтр 1.1164018872486853e-09\n",
            "пгур 1.5229497519836895e-08\n",
            "пгфр 4.422057252555416e-10\n",
            "пгхр 7.421107445016812e-11\n",
            "пгчр 6.860517583295128e-11\n",
            "пгшр 4.950693885856123e-12\n",
            "пгыр 2.321795541982957e-11\n",
            "пгэр 9.45945978868701e-11\n",
            "пгюр 1.0933162660281832e-10\n",
            "пгяр 5.4720708471242056e-11\n",
            "пдар 2.2885850906498954e-08\n",
            "пдбр 7.297938736070941e-10\n",
            "пдвр 2.14483003744605e-09\n",
            "пдгр 5.326434756912409e-10\n",
            "пддр 5.784876659334966e-10\n",
            "пдер 5.562954357541615e-08\n",
            "пджр 1.9262819932242766e-13\n",
            "пдзр 7.663101363885535e-11\n",
            "пдир 6.0851890757781154e-09\n",
            "пдкр 1.8875438510585867e-09\n",
            "пдлр 5.550925145439184e-10\n",
            "пдмр 1.7272168712304112e-10\n",
            "пднр 6.330585960153621e-10\n",
            "пдор 3.174519292424248e-08\n",
            "пдпр 6.17645021115189e-09\n",
            "пдрр 4.234279829270512e-10\n",
            "пдср 4.1970072589391287e-10\n",
            "пдтр 1.9731184739186117e-09\n",
            "пдур 6.930270457720213e-09\n",
            "пдфр 4.4028038587651533e-10\n",
            "пдхр 1.544930146290119e-10\n",
            "пдцр 2.2191009080406124e-11\n",
            "пдчр 1.875576615192431e-11\n",
            "пдшр 1.103024075473514e-11\n",
            "пдщр 1.1644552953144993e-13\n",
            "пдыр 1.7589833279945852e-09\n",
            "пдьр 6.638097320345964e-10\n",
            "пдэр 2.1405167776418053e-11\n",
            "пдюр 2.997063347632347e-10\n",
            "пдяр 7.553249792488682e-10\n",
            "пеар 3.6023343883857783e-07\n",
            "пебр 8.073629592868314e-06\n",
            "певр 2.816816932428474e-06\n",
            "пегр 1.579553424783849e-05\n",
            "педр 1.3081437485962532e-05\n",
            "пеер 1.012155445193421e-05\n",
            "пежр 5.369927638685443e-09\n",
            "пезр 1.3030304706014928e-06\n",
            "пеир 1.2498768709111616e-06\n",
            "пейр 4.584142952528285e-06\n",
            "пекр 5.114262994650264e-06\n",
            "пелр 2.0289769694058878e-06\n",
            "пемр 2.038249490023017e-06\n",
            "пенр 1.2119930998487603e-06\n",
            "пеор 4.760380283339226e-06\n",
            "пепр 3.5994017229716875e-05\n",
            "перр 5.925836014297026e-07\n",
            "песр 2.156060736991436e-06\n",
            "петр 1.2138577254828832e-05\n",
            "пеур 8.223449286645841e-07\n",
            "пефр 4.255851956351147e-07\n",
            "пехр 1.3927253544452743e-06\n",
            "пецр 1.7120137984258285e-08\n",
            "печр 1.8636711741793994e-07\n",
            "пешр 3.081496523266119e-08\n",
            "пещр 4.085889516181279e-08\n",
            "пеэр 1.1730052221724876e-07\n",
            "пеюр 4.960481798728547e-07\n",
            "пеяр 3.68141632855099e-07\n",
            "пиар 2.2700525339340962e-07\n",
            "пибр 1.8857370353163412e-06\n",
            "пивр 1.6570949021370867e-06\n",
            "пигр 1.60915224634511e-06\n",
            "пидр 3.8125242594519695e-06\n",
            "пиер 5.5994214261709775e-06\n",
            "пижр 8.34301053778568e-10\n",
            "пизр 6.192147891478873e-07\n",
            "пиир 6.436362647668813e-07\n",
            "пийр 8.732728762037122e-07\n",
            "пикр 3.120610967315128e-06\n",
            "пилр 6.249773299907067e-07\n",
            "пимр 5.383816954303501e-07\n",
            "пинр 2.807762223461973e-07\n",
            "пиор 2.1973203747741713e-06\n",
            "пипр 1.176523364645007e-05\n",
            "пирр 3.537664386714815e-08\n",
            "писр 7.421295113656811e-07\n",
            "питр 4.56862639504418e-06\n",
            "пиур 3.023498877851104e-07\n",
            "пифр 4.703505761819833e-07\n",
            "пихр 8.168910616047536e-07\n",
            "пицр 3.017829951101108e-08\n",
            "пичр 8.727414033190694e-08\n",
            "пишр 7.0572980656883065e-09\n",
            "пищр 3.306161616945847e-09\n",
            "пиьр 1.817815851496722e-10\n",
            "пиэр 4.625598758314499e-08\n",
            "пиюр 1.7437955659322255e-07\n",
            "пияр 4.166041791247427e-07\n",
            "пкар 1.086501581713544e-06\n",
            "пкбр 1.2054011268292783e-07\n",
            "пквр 3.449776209834162e-08\n",
            "пкгр 3.844568229315922e-08\n",
            "пкдр 6.051015673937239e-08\n",
            "пкер 1.8386149752049564e-07\n",
            "пкжр 4.7330259587121904e-11\n",
            "пкзр 4.235471118871987e-09\n",
            "пкир 1.7430777665511385e-07\n",
            "пкйр 8.98047435882307e-11\n",
            "пккр 6.576579349625171e-08\n",
            "пклр 8.826545722176814e-09\n",
            "пкмр 5.467899866499416e-09\n",
            "пкнр 2.3698872259000657e-08\n",
            "пкор 1.945528484426997e-06\n",
            "пкпр 3.0514129614738154e-07\n",
            "пкрр 9.523886308841331e-09\n",
            "пкср 1.463837379505992e-08\n",
            "пктр 1.1871891863339513e-07\n",
            "пкур 1.6284531983372886e-07\n",
            "пкфр 1.2394261133199113e-08\n",
            "пкхр 3.918855607579733e-09\n",
            "пкцр 8.720778084925718e-11\n",
            "пкчр 1.3240090933533678e-09\n",
            "пкшр 4.455150701627167e-11\n",
            "пкщр 9.406546858384385e-12\n",
            "пкэр 3.285334847719874e-09\n",
            "пкюр 1.1420035782933471e-09\n",
            "пкяр 3.3008467028325216e-09\n",
            "плар 6.54754456212414e-06\n",
            "плбр 4.802278641527732e-07\n",
            "плвр 2.757687131969165e-07\n",
            "плгр 5.980359827999773e-07\n",
            "плдр 8.6627826951439e-07\n",
            "плер 8.49003823238151e-06\n",
            "плжр 6.64434505043186e-10\n",
            "плзр 4.203486705116702e-08\n",
            "плир 2.530827091990792e-06\n",
            "плйр 1.0806020300228233e-09\n",
            "плкр 1.5201250965604292e-06\n",
            "пллр 2.1582376636091808e-08\n",
            "плмр 2.155324481887808e-08\n",
            "плнр 5.798654629355268e-08\n",
            "плор 9.425755167463444e-06\n",
            "плпр 4.443353636674183e-06\n",
            "плрр 9.007112443306045e-09\n",
            "плср 3.227190396725953e-07\n",
            "плтр 3.7651592070373653e-07\n",
            "плур 8.898259850267047e-07\n",
            "плфр 1.1023213759796271e-07\n",
            "плхр 1.2332789774648102e-08\n",
            "плцр 2.331896246460711e-10\n",
            "плчр 3.0713360830204355e-08\n",
            "плшр 8.599602730013517e-10\n",
            "плщр 1.320515534995447e-10\n",
            "плыр 5.205547397321497e-07\n",
            "пльр 8.446297662682078e-07\n",
            "плэр 2.1673113640465402e-08\n",
            "плюр 6.33482893834829e-07\n",
            "пляр 4.782257072044683e-07\n",
            "пмар 5.4595914711103435e-09\n",
            "пмбр 9.558839066173777e-10\n",
            "пмвр 5.437057116219854e-10\n",
            "пмгр 1.0773832302926188e-09\n",
            "пмдр 1.0926342657652354e-09\n",
            "пмер 1.240547422990447e-08\n",
            "пмжр 3.851108845649415e-13\n",
            "пмзр 9.403486077980662e-11\n",
            "пмир 3.2527065232389554e-09\n",
            "пмйр 1.1269430114895863e-12\n",
            "пмкр 1.4355140082284976e-09\n",
            "пмлр 6.436476553399756e-11\n",
            "пммр 7.939436250033605e-11\n",
            "пмнр 2.258102399699634e-10\n",
            "пмор 1.148344365069018e-08\n",
            "пмпр 1.022288797933988e-08\n",
            "пмрр 1.4806509751661203e-11\n",
            "пмср 3.1857460527496596e-10\n",
            "пмтр 6.235877194585917e-10\n",
            "пмур 3.482380157431704e-09\n",
            "пмфр 2.77254970181832e-10\n",
            "пмхр 7.036092355811314e-11\n",
            "пмцр 1.783392045051906e-12\n",
            "пмчр 4.547643756594165e-11\n",
            "пмшр 1.653911183160972e-12\n",
            "пмщр 5.115110244355854e-13\n",
            "пмыр 6.348375542656325e-10\n",
            "пмьр 1.3240027122623395e-11\n",
            "пмэр 3.001618952231771e-11\n",
            "пмюр 4.012621294431115e-11\n",
            "пмяр 2.723791290607867e-10\n",
            "пнар 7.189825158626463e-07\n",
            "пнбр 3.49415583341068e-08\n",
            "пнвр 1.2699274631303345e-08\n",
            "пнгр 2.78257622979979e-08\n",
            "пндр 1.4548992412133647e-07\n",
            "пнер 1.4033215581366379e-06\n",
            "пнжр 5.82428261134247e-12\n",
            "пнзр 3.821027324108578e-09\n",
            "пнир 2.1444129822717517e-07\n",
            "пнкр 3.5920533995516044e-08\n",
            "пнлр 3.604080711303212e-10\n",
            "пнмр 1.3173600810203993e-09\n",
            "пннр 1.400185543009457e-08\n",
            "пнор 8.691004600381923e-07\n",
            "пнпр 2.196691041336076e-07\n",
            "пнрр 4.083952613077674e-10\n",
            "пнср 1.1926779363313252e-08\n",
            "пнтр 5.08146467685686e-08\n",
            "пнур 1.2772482384966045e-07\n",
            "пнфр 8.229399410721222e-09\n",
            "пнхр 1.895572342388114e-09\n",
            "пнцр 8.675391312644443e-10\n",
            "пнчр 1.2690712255107603e-09\n",
            "пншр 4.5023715910311627e-11\n",
            "пнщр 2.2955829532391634e-10\n",
            "пныр 1.0090422204473967e-07\n",
            "пньр 1.983392188337218e-08\n",
            "пнэр 4.0126649724798434e-10\n",
            "пнюр 7.1811156089914925e-09\n",
            "пняр 6.196936775190908e-08\n",
            "поар 9.193002740475507e-07\n",
            "побр 4.34767819221278e-05\n",
            "повр 2.3148176525201353e-05\n",
            "погр 4.9407733354149525e-05\n",
            "подр 5.104255622277969e-05\n",
            "поер 3.513323009174804e-05\n",
            "пожр 2.135487007741757e-08\n",
            "позр 2.4053786647087764e-06\n",
            "поир 4.701938987278147e-06\n",
            "пойр 1.586100303204793e-05\n",
            "покр 1.8357322347923525e-05\n",
            "полр 5.2806063427521265e-06\n",
            "помр 5.764016950325187e-06\n",
            "понр 3.1967489886598595e-06\n",
            "поор 1.684444128677421e-05\n",
            "попр 0.00010211985354703888\n",
            "порр 1.3296352240114068e-06\n",
            "поср 8.581720735972585e-06\n",
            "потр 5.410617324689852e-05\n",
            "поур 2.1628331956387794e-06\n",
            "пофр 9.921063628147404e-06\n",
            "похр 2.228749764732356e-06\n",
            "поцр 1.93495206976398e-08\n",
            "почр 7.71337489206516e-07\n",
            "пошр 1.1452906088821397e-07\n",
            "пощр 2.2334615094937306e-08\n",
            "поьр 1.1335538928812517e-09\n",
            "поэр 4.663515319067775e-07\n",
            "поюр 2.2165085943072454e-06\n",
            "пояр 1.4931915497452066e-06\n",
            "ппар 1.555344051175603e-07\n",
            "ппбр 2.047476844531436e-10\n",
            "ппвр 4.8762869323325964e-11\n",
            "ппгр 2.2145593323672623e-09\n",
            "ппдр 6.054959960247637e-10\n",
            "ппер 8.473861257238523e-07\n",
            "ппир 5.058809780656977e-08\n",
            "ппкр 1.3619022027630102e-08\n",
            "пплр 1.2880042746504596e-08\n",
            "ппмр 2.117309845173135e-11\n",
            "ппнр 5.839994178182182e-10\n",
            "ппор 1.9013594679005866e-06\n",
            "пппр 4.843132764754571e-08\n",
            "ппрр 3.3868397992578466e-08\n",
            "ппср 2.482975352800014e-10\n",
            "пптр 8.394556696363942e-09\n",
            "ппур 7.114784739003557e-08\n",
            "ппфр 1.0892490082116656e-09\n",
            "ппцр 9.793030280006392e-12\n",
            "ппчр 2.2072096578692664e-10\n",
            "ппшр 2.43892744808408e-11\n",
            "ппщр 6.337870129296514e-12\n",
            "ппыр 1.561311045320479e-08\n",
            "ппьр 3.111167001881473e-08\n",
            "ппэр 5.825177403057794e-11\n",
            "ппяр 1.5702921115939358e-08\n",
            "прар 8.128306304985466e-05\n",
            "прбр 3.936825283654981e-06\n",
            "првр 1.7742728600081395e-06\n",
            "пргр 5.887126939685599e-06\n",
            "прдр 7.68067751777893e-06\n",
            "прер 0.00013582249978563135\n",
            "пржр 6.6059000697872084e-09\n",
            "прзр 2.5158926926345005e-07\n",
            "прир 2.2804098872957744e-05\n",
            "прйр 6.059521116685239e-09\n",
            "пркр 4.1014823430031895e-06\n",
            "прлр 1.082847035263606e-07\n",
            "прмр 3.4773962271026727e-07\n",
            "прнр 5.023640208303617e-07\n",
            "прор 0.00010271069036737303\n",
            "прпр 1.2458145756841997e-05\n",
            "пррр 2.3684429857702267e-08\n",
            "прср 6.672259793796691e-07\n",
            "пртр 7.44038061910125e-06\n",
            "прур 2.0713881113071366e-05\n",
            "прфр 1.4907873152361903e-06\n",
            "прхр 6.305457888332068e-07\n",
            "прцр 1.8088751375704442e-08\n",
            "прчр 6.216730381599617e-08\n",
            "пршр 3.9204373777801505e-08\n",
            "прщр 1.6925362602171605e-08\n",
            "прыр 7.708994903419738e-06\n",
            "прьр 2.634067788105926e-06\n",
            "прэр 3.3056946613673404e-08\n",
            "прюр 1.1661142135566486e-06\n",
            "пряр 2.8683977399421555e-06\n",
            "псар 1.84214648906553e-08\n",
            "псбр 5.631857057469238e-09\n",
            "псвр 1.1592851035509885e-08\n",
            "псгр 3.3396424299692427e-09\n",
            "псдр 1.1410790894967883e-08\n",
            "псер 8.621186449667814e-08\n",
            "псжр 2.7729348480956727e-12\n",
            "псзр 4.954381903033193e-10\n",
            "псир 8.92822098797966e-09\n",
            "псйр 7.681621642917688e-12\n",
            "пскр 7.985818173114594e-08\n",
            "пслр 4.235242596347878e-09\n",
            "псмр 2.5033990700763414e-09\n",
            "пснр 1.0005739804268229e-09\n",
            "псор 5.659346936567856e-08\n",
            "пспр 1.6347690636774749e-07\n",
            "псрр 1.7363636625116416e-10\n",
            "псср 2.477974688409359e-09\n",
            "пстр 1.806069085371168e-07\n",
            "псур 8.243008920983058e-09\n",
            "псфр 2.48908771228224e-09\n",
            "псхр 1.3253563514830661e-09\n",
            "псцр 1.022225781851889e-11\n",
            "псчр 3.5434928767265436e-10\n",
            "псшр 2.1435743965330322e-11\n",
            "псщр 2.682023652848353e-13\n",
            "псыр 2.4201710014972687e-09\n",
            "псьр 1.0989078009757896e-08\n",
            "псэр 3.697597913411226e-10\n",
            "псюр 1.0028836741659024e-09\n",
            "псяр 1.1333698586074647e-08\n",
            "птар 3.255688122556646e-07\n",
            "птбр 2.4717760589781527e-08\n",
            "птвр 6.64786748186561e-08\n",
            "птгр 1.1205763200641682e-08\n",
            "птдр 3.5296209127446573e-08\n",
            "птер 5.938216643403044e-07\n",
            "птжр 6.407355724859133e-12\n",
            "птзр 2.0639376985279567e-09\n",
            "птир 8.593131942452038e-08\n",
            "птйр 6.826824438894765e-11\n",
            "пткр 4.787862132942053e-08\n",
            "птлр 2.8525663492060136e-09\n",
            "птмр 2.0305312958286858e-09\n",
            "птнр 5.01213666058058e-09\n",
            "птор 1.2080586310744399e-06\n",
            "птпр 1.4732119786939202e-07\n",
            "птрр 5.870377728084566e-09\n",
            "птср 1.201499373411063e-08\n",
            "пттр 2.3079198359876898e-08\n",
            "птур 6.36346192954239e-08\n",
            "птфр 6.144740154077829e-09\n",
            "птхр 1.2374541793759629e-09\n",
            "птцр 2.393952583214116e-10\n",
            "птчр 1.172511563269088e-09\n",
            "птшр 1.4816987479941862e-11\n",
            "птщр 3.3370019584570686e-11\n",
            "птыр 4.3189242169398604e-08\n",
            "птьр 8.52776137109622e-08\n",
            "птэр 1.5444838209605232e-09\n",
            "птюр 2.3729004554381625e-09\n",
            "птяр 9.162582957564953e-09\n",
            "пуар 2.710960557409179e-07\n",
            "пубр 2.3975694174361953e-06\n",
            "пувр 1.0492815921532757e-06\n",
            "пугр 4.308886180896276e-06\n",
            "пудр 6.324958959923147e-06\n",
            "пуер 1.1818208782301437e-06\n",
            "пужр 4.488579996285672e-09\n",
            "пузр 4.2125416331537467e-07\n",
            "пуир 4.458628254976745e-07\n",
            "пуйр 1.2657487362248933e-07\n",
            "пукр 3.163197496050786e-06\n",
            "пулр 3.5114482602031015e-07\n",
            "пумр 4.248559173598328e-07\n",
            "пунр 1.1528764106027645e-07\n",
            "пуор 1.0675263232491177e-06\n",
            "пупр 1.1943701436453462e-05\n",
            "пурр 4.9754234062238656e-08\n",
            "пуср 5.823650528848807e-07\n",
            "путр 3.463024831686934e-06\n",
            "пуур 1.5506028820185314e-07\n",
            "пуфр 3.8917716529847226e-07\n",
            "пухр 3.4903192215253934e-07\n",
            "пуцр 8.653308001529033e-10\n",
            "пучр 1.1320408067184464e-07\n",
            "пушр 2.3071638157861362e-08\n",
            "пущр 1.0482230856449998e-08\n",
            "пуэр 4.800358597393764e-08\n",
            "пуюр 1.1466677164652876e-06\n",
            "пуяр 6.718914565602898e-08\n",
            "пфар 9.594315441298338e-09\n",
            "пфбр 7.898093829700864e-10\n",
            "пфвр 6.583556801748485e-10\n",
            "пфгр 4.659605782651368e-10\n",
            "пфдр 4.67137316144465e-10\n",
            "пфер 1.9275314439514136e-08\n",
            "пфжр 2.527689286815189e-13\n",
            "пфзр 1.1290508743550519e-10\n",
            "пфир 1.4731337956482701e-08\n",
            "пфкр 1.1991697917152603e-09\n",
            "пфлр 5.152462759579957e-10\n",
            "пфмр 8.167472989201894e-11\n",
            "пфнр 6.931581647000306e-11\n",
            "пфор 6.3090610356350955e-09\n",
            "пфпр 7.143221214279356e-09\n",
            "пфрр 7.617201657490294e-10\n",
            "пфср 2.9532225542550236e-10\n",
            "пфтр 1.5074288653846103e-09\n",
            "пфур 3.1202102893997214e-09\n",
            "пффр 8.403504922404269e-10\n",
            "пфхр 4.700927598638339e-11\n",
            "пфцр 1.2592128084407039e-12\n",
            "пфчр 2.66070606400174e-12\n",
            "пфыр 3.3091871867887284e-10\n",
            "пфьр 2.4196075855075046e-11\n",
            "пфэр 1.1235242495387665e-11\n",
            "пфюр 2.968136483147106e-11\n",
            "пфяр 5.19945487736275e-11\n",
            "пцар 2.8022355191518922e-08\n",
            "пцбр 5.905092346568215e-10\n",
            "пцвр 8.906955727699947e-10\n",
            "пцгр 1.6773865971349686e-09\n",
            "пцдр 1.0348447218296204e-09\n",
            "пцер 9.590913596543757e-08\n",
            "пцжр 1.3998913309234723e-13\n",
            "пцзр 1.0551833487923828e-10\n",
            "пцир 4.0051049783641536e-09\n",
            "пцкр 8.870842874966805e-09\n",
            "пцлр 3.0573750786929316e-11\n",
            "пцмр 1.0855993757879603e-10\n",
            "пцнр 1.1036740427328727e-10\n",
            "пцор 3.0453842458484686e-08\n",
            "пцпр 1.04988197328925e-08\n",
            "пцрр 6.8483410054408544e-12\n",
            "пцср 2.784874562450551e-10\n",
            "пцтр 9.739894509912834e-10\n",
            "пцур 1.3251267169939595e-08\n",
            "пцхр 3.905219577595491e-11\n",
            "пцчр 1.5472369729887897e-11\n",
            "пцшр 1.2024048242832762e-12\n",
            "пцыр 3.2072293611666257e-09\n",
            "пцэр 2.8000488008832412e-11\n",
            "пцяр 2.159681526022958e-11\n",
            "пчар 2.61624095418972e-07\n",
            "пчбр 2.4073556707309863e-09\n",
            "пчвр 1.1876281282861218e-09\n",
            "пчгр 1.1835480651096882e-09\n",
            "пчдр 1.8645581428919918e-09\n",
            "пчер 8.8542630559129e-07\n",
            "пчжр 1.834392928840876e-13\n",
            "пчзр 2.1508568107766428e-10\n",
            "пчир 7.36000233016042e-08\n",
            "пчкр 4.077792879864176e-08\n",
            "пчлр 7.879116494627359e-10\n",
            "пчмр 1.4225502898041503e-10\n",
            "пчнр 3.961426344961125e-09\n",
            "пчор 1.5326285926295163e-08\n",
            "пчпр 1.4355619148253956e-08\n",
            "пчрр 1.5435186020461597e-10\n",
            "пчср 5.213215067097019e-10\n",
            "пчтр 5.808981965260789e-07\n",
            "пчур 6.058416912695916e-08\n",
            "пчхр 1.5351992730720908e-10\n",
            "пччр 1.7378331955153468e-11\n",
            "пчшр 1.9852687146266566e-10\n",
            "пчьр 6.347780762811562e-09\n",
            "пчэр 1.2230448671948578e-10\n",
            "пчяр 1.1320034440877213e-10\n",
            "пшар 1.1693235222022663e-07\n",
            "пшбр 1.5319240865405738e-09\n",
            "пшвр 6.567196383224145e-10\n",
            "пшгр 3.0126097453135845e-10\n",
            "пшдр 1.2080871186623663e-09\n",
            "пшер 3.745154659480132e-07\n",
            "пшжр 2.1789944568375609e-13\n",
            "пшзр 7.29973698569286e-11\n",
            "пшир 5.9397384887145757e-08\n",
            "пшкр 4.762607552187489e-08\n",
            "пшлр 4.885848365866938e-09\n",
            "пшмр 3.3795694993379407e-10\n",
            "пшнр 1.9569335781079116e-09\n",
            "пшор 3.69260859255035e-08\n",
            "пшпр 3.055222894266855e-08\n",
            "пшрр 1.7055606257145692e-11\n",
            "пшср 1.4449279265518962e-10\n",
            "пштр 9.529512652185859e-09\n",
            "пшур 2.0049818564147927e-08\n",
            "пшфр 2.716590416112456e-10\n",
            "пшцр 6.513026131534412e-12\n",
            "пшчр 1.032147704126024e-11\n",
            "пшшр 6.550592079464276e-12\n",
            "пшьр 7.180444404449537e-09\n",
            "пшэр 8.716806342352844e-11\n",
            "пшяр 3.361642414510936e-11\n",
            "пщар 1.406264146764806e-08\n",
            "пщбр 5.307871931471321e-11\n",
            "пщдр 5.2322857936131506e-11\n",
            "пщер 1.1294157588233543e-07\n",
            "пщир 1.1532993773779433e-08\n",
            "пщкр 3.837598464688701e-11\n",
            "пщмр 5.488906762212628e-12\n",
            "пщнр 5.822915702529733e-11\n",
            "пщрр 4.432121075152207e-12\n",
            "пщср 1.0728094611393415e-11\n",
            "пщтр 3.7520723991025906e-11\n",
            "пщур 2.1611121726203235e-09\n",
            "пщьр 2.1952139437736564e-10\n",
            "пщэр 7.550584934846317e-12\n",
            "пыар 4.0898461380712826e-08\n",
            "пыбр 1.028552538390795e-06\n",
            "пывр 4.844492302828386e-07\n",
            "пыгр 2.797355172236223e-07\n",
            "пыдр 3.807538944531387e-07\n",
            "пыер 1.980553461555361e-06\n",
            "пыжр 1.038888114110457e-10\n",
            "пызр 5.0445167479805654e-08\n",
            "пыир 1.4127164903911912e-07\n",
            "пыйр 9.065517026595238e-07\n",
            "пыкр 4.192891192402581e-07\n",
            "пылр 2.6955357242564117e-07\n",
            "пымр 2.550456709968396e-07\n",
            "пынр 4.0932952642573446e-08\n",
            "пыор 3.625047347130311e-07\n",
            "пыпр 2.6263111675339765e-06\n",
            "пырр 1.0918367602462864e-08\n",
            "пыср 1.5790613287158178e-07\n",
            "пытр 7.881766868817155e-07\n",
            "пыур 5.822480705525125e-08\n",
            "пыфр 3.492674001011842e-08\n",
            "пыхр 4.49049452094451e-07\n",
            "пыцр 2.4423252875829534e-10\n",
            "пычр 9.768302748550814e-09\n",
            "пышр 7.399315040837467e-09\n",
            "пыщр 1.0161181720388562e-10\n",
            "пыэр 1.2452277066468568e-08\n",
            "пыюр 4.1120672155512415e-10\n",
            "пыяр 1.3146102684948236e-08\n",
            "пьар 1.5165562777435104e-06\n",
            "пьбр 2.1337135548118093e-06\n",
            "пьвр 1.3746681748165422e-06\n",
            "пьгр 1.3862651246721762e-06\n",
            "пьдр 2.009930400303947e-06\n",
            "пьер 1.044877138780328e-05\n",
            "пьжр 3.1535699467880193e-10\n",
            "пьзр 3.568942673185685e-07\n",
            "пьир 1.1126524281182113e-06\n",
            "пьйр 1.6800119508714988e-09\n",
            "пькр 6.43650089755031e-06\n",
            "пьлр 5.768954042749066e-08\n",
            "пьмр 3.029511694138161e-07\n",
            "пьнр 3.5132131329913143e-07\n",
            "пьор 3.145311832465626e-06\n",
            "пьпр 1.5174049897683432e-05\n",
            "пьрр 2.1756628892753167e-08\n",
            "пьср 9.559704454161395e-07\n",
            "пьтр 1.784237753906177e-06\n",
            "пьур 4.0486393828156453e-07\n",
            "пьфр 3.1251264437201247e-07\n",
            "пьхр 1.3196077606312342e-07\n",
            "пьцр 8.096724522624486e-09\n",
            "пьчр 7.073137432338903e-08\n",
            "пьшр 2.0037339866216647e-08\n",
            "пьщр 8.798594877670574e-10\n",
            "пьэр 1.1645057412163817e-07\n",
            "пьюр 7.520093183833124e-07\n",
            "пьяр 5.07100221572843e-07\n",
            "пэбр 5.0035891299011615e-11\n",
            "пэвр 8.34161101643008e-11\n",
            "пэгр 4.427920207029627e-10\n",
            "пэдр 3.94586887693833e-10\n",
            "пэер 6.360036297770368e-11\n",
            "пэзр 3.576373492034283e-11\n",
            "пэйр 3.770641226076844e-10\n",
            "пэкр 2.1705609567168793e-09\n",
            "пэлр 5.634597901437615e-10\n",
            "пэмр 5.1742458305385496e-11\n",
            "пэнр 8.416630946920669e-11\n",
            "пэпр 1.3924194793915526e-09\n",
            "пэрр 4.073591128863754e-11\n",
            "пэср 2.9327956099535196e-10\n",
            "пэтр 1.0589713498353058e-07\n",
            "пэхр 1.3401562241570017e-10\n",
            "пэцр 7.977347011063368e-13\n",
            "пэшр 4.584776511428189e-13\n",
            "пээр 7.117734789414942e-12\n",
            "пяар 3.261496398963987e-07\n",
            "пябр 1.0019781172752925e-06\n",
            "пявр 6.562377120506527e-07\n",
            "пягр 9.975367515126008e-07\n",
            "пядр 2.4708172049351094e-06\n",
            "пяер 1.0507275976802462e-06\n",
            "пяжр 1.3227677215526612e-09\n",
            "пязр 5.88886500264205e-07\n",
            "пяир 4.2967229505767195e-07\n",
            "пяйр 2.984223652886985e-08\n",
            "пякр 1.3594410077134485e-06\n",
            "пялр 1.6608952719444674e-07\n",
            "пямр 1.3729019856210839e-07\n",
            "пянр 1.509115505663221e-07\n",
            "пяор 1.2269108581382464e-06\n",
            "пяпр 6.938189442381138e-06\n",
            "пярр 1.0981172886092657e-08\n",
            "пяср 3.9411607954402936e-07\n",
            "пятр 2.683742105906277e-06\n",
            "пяур 1.8681230284254103e-07\n",
            "пяфр 2.1238635793272413e-07\n",
            "пяхр 1.430368430396817e-07\n",
            "пяцр 1.9718877901539976e-09\n",
            "пячр 3.090654719447787e-08\n",
            "пяшр 1.1046012190245555e-09\n",
            "пящр 6.130460876579169e-09\n",
            "пяэр 4.2982901980865695e-08\n",
            "пяюр 8.119306339267744e-08\n",
            "пяяр 8.812109849768323e-08\n"
          ],
          "name": "stdout"
        }
      ]
    },
    {
      "cell_type": "markdown",
      "metadata": {
        "id": "t_qNv9znvEpM",
        "colab_type": "text"
      },
      "source": [
        "### Используя матрицу переходных вероятностей сгенерируйте слово, начинающееся с буквы \"Б\" и имеющее длину 8-мь символов"
      ]
    },
    {
      "cell_type": "code",
      "metadata": {
        "ExecuteTime": {
          "end_time": "2019-12-04T16:23:10.012128Z",
          "start_time": "2019-12-04T16:23:10.005433Z"
        },
        "id": "8mMInwNyvEpN",
        "colab_type": "code",
        "colab": {
          "base_uri": "https://localhost:8080/",
          "height": 34
        },
        "outputId": "885a7e5e-2b65-4c97-b4c1-c7860bef1c38"
      },
      "source": [
        "s = []\n",
        "start = 'б'\n",
        "s.append(start)\n",
        "length = 8\n",
        "for i in range(length):\n",
        "    index = POS[s[i]]\n",
        "    next_char = np.random.choice(list(RUSSIAN), p=probabilities[index])\n",
        "    s.append(next_char)\n",
        "\n",
        "print (''.join(s))"
      ],
      "execution_count": 12,
      "outputs": [
        {
          "output_type": "stream",
          "text": [
            "бейсмиоша\n"
          ],
          "name": "stdout"
        }
      ]
    },
    {
      "cell_type": "markdown",
      "metadata": {
        "id": "8BtwfXRFvEpQ",
        "colab_type": "text"
      },
      "source": [
        "### Возьмите ряд и оцените его через HMM. Попробуйте \"построить\" (через среднее каждой компоненты) наивный прогноз ряда."
      ]
    },
    {
      "cell_type": "code",
      "metadata": {
        "ExecuteTime": {
          "end_time": "2019-12-04T16:44:04.894074Z",
          "start_time": "2019-12-04T16:44:04.870712Z"
        },
        "id": "4-eZL9QmvEpR",
        "colab_type": "code",
        "colab": {}
      },
      "source": [
        "series = pd.read_csv(\"monthly-sales-of-company-x-jan-6.csv\")[\"Count\"]"
      ],
      "execution_count": 13,
      "outputs": []
    },
    {
      "cell_type": "code",
      "metadata": {
        "ExecuteTime": {
          "end_time": "2019-12-04T16:44:05.657294Z",
          "start_time": "2019-12-04T16:44:05.653848Z"
        },
        "id": "0ZxkR22avEpW",
        "colab_type": "code",
        "colab": {}
      },
      "source": [
        "values = series.values.reshape(-1,1)"
      ],
      "execution_count": 14,
      "outputs": []
    },
    {
      "cell_type": "code",
      "metadata": {
        "ExecuteTime": {
          "end_time": "2019-12-04T16:44:34.400282Z",
          "start_time": "2019-12-04T16:44:33.313603Z"
        },
        "id": "ecM1Z0CTvEpZ",
        "colab_type": "code",
        "colab": {
          "base_uri": "https://localhost:8080/",
          "height": 34
        },
        "outputId": "7cb423b3-e507-4ddf-8c67-88b855fbfa64"
      },
      "source": [
        "model = GaussianHMM(n_components=20,\n",
        "                        covariance_type=\"diag\",\n",
        "                        n_iter=1000)\n",
        "model.fit(values)\n",
        "labels = model.predict(values)\n",
        "means = np.zeros_like(values)\n",
        "for i in range(model.n_components):\n",
        "    means[labels == i] = model.means_[i]"
      ],
      "execution_count": 15,
      "outputs": [
        {
          "output_type": "stream",
          "text": [
            "Fitting a model with 439 free scalar parameters with only 77 data points will result in a degenerate solution.\n"
          ],
          "name": "stderr"
        }
      ]
    },
    {
      "cell_type": "code",
      "metadata": {
        "ExecuteTime": {
          "end_time": "2019-12-04T16:51:46.163886Z",
          "start_time": "2019-12-04T16:51:46.158545Z"
        },
        "id": "XXvXA5DXvEpe",
        "colab_type": "code",
        "colab": {}
      },
      "source": [
        "cur_value = labels[-1]\n",
        "predictions = []\n",
        "for _ in range(20):\n",
        "    cur_value = np.random.choice(20, p=model.transmat_[cur_value])\n",
        "    predictions.append(model.means_[cur_value])"
      ],
      "execution_count": 16,
      "outputs": []
    },
    {
      "cell_type": "code",
      "metadata": {
        "ExecuteTime": {
          "end_time": "2019-12-04T16:51:50.446352Z",
          "start_time": "2019-12-04T16:51:50.443127Z"
        },
        "id": "u-4-_E_9vEph",
        "colab_type": "code",
        "colab": {}
      },
      "source": [
        "new_series = np.concatenate((values, np.array(predictions)))"
      ],
      "execution_count": 17,
      "outputs": []
    },
    {
      "cell_type": "code",
      "metadata": {
        "ExecuteTime": {
          "end_time": "2019-12-04T16:51:51.102826Z",
          "start_time": "2019-12-04T16:51:50.857804Z"
        },
        "id": "Cf-_Drx7vEpk",
        "colab_type": "code",
        "colab": {
          "base_uri": "https://localhost:8080/",
          "height": 703
        },
        "outputId": "8a73036a-04fb-44a8-c911-7a3381f37818"
      },
      "source": [
        "plt.figure(figsize=(16,12))\n",
        "plt.plot(new_series[-100:])\n",
        "plt.plot(values[-90:])\n",
        "plt.show()"
      ],
      "execution_count": 18,
      "outputs": [
        {
          "output_type": "display_data",
          "data": {
            "image/png": "[encoded data removed]",
            "text/plain": [
              "<Figure size 1152x864 with 1 Axes>"
            ]
          },
          "metadata": {
            "tags": []
          }
        }
      ]
    }
  ]
}