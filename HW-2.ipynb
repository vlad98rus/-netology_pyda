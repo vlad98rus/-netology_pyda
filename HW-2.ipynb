{
 "cells": [
  {
   "cell_type": "markdown",
   "metadata": {},
   "source": [
    "## Домашняя работа 1"
   ]
  },
  {
   "cell_type": "markdown",
   "metadata": {},
   "source": [
    "### Задание 1\n",
    "Даны 2 строки: long_phrase и short_phrase. Напишите код, который проверяет действительно ли длинная фраза long_phrase длиннее короткой short_phrase. И выводит True или False в зависимости от результата сравнения."
   ]
  },
  {
   "cell_type": "code",
   "execution_count": null,
   "metadata": {},
   "outputs": [],
   "source": [
    "long_phrase = 'Насколько проще было бы писать программы, если бы не заказчики'\n",
    "short_phrase = '640Кб должно хватить для любых задач. Билл Гейтс (по легенде)'"
   ]
  },
  {
   "cell_type": "code",
   "execution_count": null,
   "metadata": {},
   "outputs": [],
   "source": [
    "# неверный вариант\n",
    "long_phrase > short_phrase"
   ]
  },
  {
   "cell_type": "code",
   "execution_count": null,
   "metadata": {},
   "outputs": [],
   "source": [
    "# проверяем\n",
    "long_phrase = '0Насколько проще было бы писать программы, если бы не заказчики'\n",
    "short_phrase = '640Кб должно хватить для любых задач. Билл Гейтс (по легенде)'\n",
    "long_phrase > short_phrase"
   ]
  },
  {
   "cell_type": "code",
   "execution_count": null,
   "metadata": {},
   "outputs": [],
   "source": [
    "# избыточный вариант\n",
    "if len(long_phrase) > len(short_phrase):\n",
    "    print(True)\n",
    "else:\n",
    "    print(False)"
   ]
  },
  {
   "cell_type": "code",
   "execution_count": null,
   "metadata": {},
   "outputs": [],
   "source": [
    "# лаконичный вариант, сравнение всегда возвращает логическое значение\n",
    "len(long_phrase) > len(short_phrase)"
   ]
  },
  {
   "cell_type": "markdown",
   "metadata": {},
   "source": [
    "## Попрактиукемся"
   ]
  },
  {
   "cell_type": "markdown",
   "metadata": {},
   "source": [
    "Делаем MVP dating-сервиса, и у нас есть список парней и девушек (их число может варьироваться):"
   ]
  },
  {
   "cell_type": "code",
   "execution_count": null,
   "metadata": {},
   "outputs": [],
   "source": [
    "boys = ['Peter', 'Alex', 'John', 'Arthur', 'Richard']\n",
    "girls = ['Kate', 'Liza', 'Kira', 'Emma', 'Trisha']"
   ]
  },
  {
   "cell_type": "markdown",
   "metadata": {},
   "source": [
    "Выдвигаем гипотезу: лучшие рекомендации мы получим, если просто отсортируем имена по алфавиту и познакомим людей с одинаковыми индексами после сортировки. Если количество людей в списках будет не совпадать, то мы никого знакомить не будет и выведем пользователю предупреждение, что кто-то может остаться без пары.\n",
    "\n",
    "\n",
    "Результат должен быть в виде:  \n",
    "  \n",
    "Идеальные пары:  \n",
    "Alex и Emma  \n",
    "Arthur и Kate  \n",
    "John и Kira  \n",
    "Peter и Liza  \n",
    "Richard и Trisha  "
   ]
  },
  {
   "cell_type": "code",
   "execution_count": null,
   "metadata": {},
   "outputs": [],
   "source": []
  },
  {
   "cell_type": "markdown",
   "metadata": {},
   "source": [
    "Имеется структура данных cook_book, в которой хранится информация об ингредиентах блюд и их количестве в расчете на одну порцию:"
   ]
  },
  {
   "cell_type": "code",
   "execution_count": 1,
   "metadata": {},
   "outputs": [],
   "source": [
    "cook_book = [\n",
    "  ['салат',\n",
    "      [\n",
    "        ['картофель', 100, 'гр.'],\n",
    "        ['морковь', 50, 'гр.'],\n",
    "        ['огурцы', 50, 'гр.'],\n",
    "        ['горошек', 30, 'гр.'],\n",
    "        ['майонез', 70, 'мл.'],\n",
    "      ]\n",
    "  ],\n",
    "  ['пицца',  \n",
    "      [\n",
    "        ['сыр', 50, 'гр.'],\n",
    "        ['томаты', 50, 'гр.'],\n",
    "        ['тесто', 100, 'гр.'],\n",
    "        ['бекон', 30, 'гр.'],\n",
    "        ['колбаса', 30, 'гр.'],\n",
    "        ['грибы', 20, 'гр.'],\n",
    "      ],\n",
    "  ],\n",
    "  ['фруктовый десерт',\n",
    "      [\n",
    "        ['хурма', 60, 'гр.'],\n",
    "        ['киви', 60, 'гр.'],\n",
    "        ['творог', 60, 'гр.'],\n",
    "        ['сахар', 10, 'гр.'],\n",
    "        ['мед', 50, 'мл.'],  \n",
    "      ]\n",
    "  ]\n",
    "]"
   ]
  },
  {
   "cell_type": "markdown",
   "metadata": {},
   "source": [
    "и переменная, в которой хранится количество людей, на которых необходимо приготовить данные блюда:"
   ]
  },
  {
   "cell_type": "code",
   "execution_count": 2,
   "metadata": {},
   "outputs": [],
   "source": [
    "person = 3"
   ]
  },
  {
   "cell_type": "markdown",
   "metadata": {},
   "source": [
    "Необходимо вывести пользователю список покупок необходимого количества ингридиентов для приготовления блюд на определенное число персон в следующем виде (реализация не должна зависеть от количества блюд, их названий и количества ингредиентов в них!):"
   ]
  },
  {
   "cell_type": "markdown",
   "metadata": {},
   "source": [
    "Салат:  \n",
    "картофель, 500гр.  \n",
    "морковь, 250гр.  \n",
    "огурцы, 250гр.  \n",
    "горошек, 150гр.  \n",
    "майонез, 350мл.  \n",
    "\n",
    "Пицца:  \n",
    "сыр, 250гр.  \n",
    "томаты, 250гр.  \n",
    "тесто, 500гр.  \n",
    "бекон, 150гр.  \n",
    "колбаса, 150гр.  \n",
    "грибы, 100гр.  \n",
    "\n",
    "Фруктовый десерт:  \n",
    "хурма, 300гр.  \n",
    "киви, 300гр.  \n",
    "творог, 300гр.  \n",
    "сахар, 50гр.  \n",
    "мед, 250мл.  "
   ]
  },
  {
   "cell_type": "code",
   "execution_count": null,
   "metadata": {},
   "outputs": [],
   "source": []
  },
  {
   "cell_type": "markdown",
   "metadata": {},
   "source": [
    "## Домашняя работа 2"
   ]
  },
  {
   "cell_type": "markdown",
   "metadata": {},
   "source": [
    "### Задание 1"
   ]
  },
  {
   "cell_type": "markdown",
   "metadata": {},
   "source": [
    "Дан список с визитами по городам и странам. Напишите код, который возвращает отфильтрованный список geo_logs, содержащий только визиты из России."
   ]
  },
  {
   "cell_type": "code",
   "execution_count": 4,
   "metadata": {},
   "outputs": [],
   "source": [
    "geo_logs = [\n",
    "    {'visit1': ['Москва', 'Россия']},\n",
    "    {'visit2': ['Дели', 'Индия']},\n",
    "    {'visit3': ['Владимир', 'Россия']},\n",
    "    {'visit4': ['Лиссабон', 'Португалия']},\n",
    "    {'visit5': ['Париж', 'Франция']},\n",
    "    {'visit6': ['Лиссабон', 'Португалия']},\n",
    "    {'visit7': ['Тула', 'Россия']},\n",
    "    {'visit8': ['Тула', 'Россия']},\n",
    "    {'visit9': ['Курск', 'Россия']},\n",
    "    {'visit10': ['Архангельск', 'Россия']}\n",
    "]"
   ]
  },
  {
   "cell_type": "code",
   "execution_count": null,
   "metadata": {},
   "outputs": [],
   "source": [
    "# Плохой вариант\n",
    "for n in geo_logs:\n",
    "    for i in n.values():\n",
    "        if i[1] != 'Россия':\n",
    "            geo_logs.remove(n)\n",
    "print(geo_logs)"
   ]
  },
  {
   "cell_type": "markdown",
   "metadata": {},
   "source": [
    "Почему этот вариант плохой?  \n",
    "1) Потому что мы меняем объект прямо во время итерирования по нему  \n",
    "2) Мы используем вложенный цикл, без которого можно обойтись (что плохо при прочих равных)."
   ]
  },
  {
   "cell_type": "code",
   "execution_count": null,
   "metadata": {},
   "outputs": [],
   "source": [
    "# допустимый вариант, который не совсем соответствует условию\n",
    "result = []\n",
    "for visit in geo_logs:\n",
    "#     print(visit.values())\n",
    "    if 'Россия' in list(visit.values())[0]:\n",
    "        result.append(visit)\n",
    "        \n",
    "result"
   ]
  },
  {
   "cell_type": "code",
   "execution_count": 5,
   "metadata": {},
   "outputs": [
    {
     "data": {
      "text/plain": [
       "[{'visit1': ['Москва', 'Россия']},\n",
       " {'visit3': ['Владимир', 'Россия']},\n",
       " {'visit7': ['Тула', 'Россия']},\n",
       " {'visit8': ['Тула', 'Россия']},\n",
       " {'visit9': ['Курск', 'Россия']},\n",
       " {'visit10': ['Архангельск', 'Россия']}]"
      ]
     },
     "execution_count": 5,
     "metadata": {},
     "output_type": "execute_result"
    }
   ],
   "source": [
    "# более корректынй вариант, который соответствует условию\n",
    "\n",
    "geo_logs_2 = geo_logs.copy()\n",
    "\n",
    "for visit in geo_logs_2:\n",
    "    if 'Россия' not in list(visit.values())[0]:\n",
    "        geo_logs.remove(visit)\n",
    "        \n",
    "geo_logs"
   ]
  },
  {
   "cell_type": "code",
   "execution_count": null,
   "metadata": {},
   "outputs": [],
   "source": [
    "# красивый вариант в одну строку (материал за рамками лекций)\n",
    "# функция filter фильтрует последовательность по условию\n",
    "\n",
    "list(filter(lambda visit: 'Россия' in list(visit.values())[0], geo_logs))"
   ]
  },
  {
   "cell_type": "markdown",
   "metadata": {},
   "source": [
    "### Задание 2"
   ]
  },
  {
   "cell_type": "markdown",
   "metadata": {},
   "source": [
    "Выведите на экран все уникальные гео-ID из значений словаря ids. Т. е. список вида [213, 15, 54, 119, 98, 35]"
   ]
  },
  {
   "cell_type": "code",
   "execution_count": 7,
   "metadata": {},
   "outputs": [],
   "source": [
    "ids = {'user1': [213, 213, 213, 15, 213], \n",
    "       'user2': [54, 54, 119, 119, 119], \n",
    "       'user3': [213, 98, 98, 35]}"
   ]
  },
  {
   "cell_type": "code",
   "execution_count": 8,
   "metadata": {},
   "outputs": [
    {
     "data": {
      "text/plain": [
       "[213, 15, 54, 119, 98, 35]"
      ]
     },
     "execution_count": 8,
     "metadata": {},
     "output_type": "execute_result"
    }
   ],
   "source": [
    "# допустимый вариант, не идеальынй из-за вложенного цикла\n",
    "result = []\n",
    "for v in list(ids.values()):\n",
    "#     print(v)\n",
    "    for i in v:\n",
    "#         print(i)\n",
    "        if i not in result:\n",
    "            result.append(i)\n",
    "result"
   ]
  },
  {
   "cell_type": "code",
   "execution_count": null,
   "metadata": {},
   "outputs": [],
   "source": [
    "# хорошие варианты\n",
    "result = []\n",
    "for v in list(ids.values()):\n",
    "#     print(v)\n",
    "    result += v\n",
    "list(set(result))"
   ]
  },
  {
   "cell_type": "code",
   "execution_count": null,
   "metadata": {},
   "outputs": [],
   "source": [
    "# вариант еще лучше, т.к. не нужно в памяти хранить один очень большой объект\n",
    "result = set()\n",
    "for v in list(ids.values()):\n",
    "    result.update(v)\n",
    "list(result)"
   ]
  },
  {
   "cell_type": "code",
   "execution_count": null,
   "metadata": {},
   "outputs": [],
   "source": [
    "# хитрый вариант в одну строк (за рамками материала лекций)\n",
    "list(set(sum(list(ids.values()), [])))"
   ]
  },
  {
   "cell_type": "code",
   "execution_count": null,
   "metadata": {},
   "outputs": [],
   "source": [
    "# ids.values()\n",
    "# list(ids.values())\n",
    "# sum(list(ids.values()))"
   ]
  },
  {
   "cell_type": "markdown",
   "metadata": {},
   "source": [
    "### Задание 3"
   ]
  },
  {
   "cell_type": "markdown",
   "metadata": {},
   "source": [
    "Дан список поисковых запросов. Получить распределение количества слов в них. Т. е. поисковых запросов из одного - слова 5%, из двух - 7%, из трех - 3% и т.д."
   ]
  },
  {
   "cell_type": "code",
   "execution_count": 11,
   "metadata": {},
   "outputs": [],
   "source": [
    "queries = [\n",
    "    'смотреть сериалы онлайн',\n",
    "    'новости спорта',\n",
    "    'афиша кино',\n",
    "    'курс доллара',\n",
    "    'сериалы этим летом',\n",
    "    'курс по питону',\n",
    "    'сериалы про спорт',\n",
    "]"
   ]
  },
  {
   "cell_type": "code",
   "execution_count": 12,
   "metadata": {},
   "outputs": [
    {
     "name": "stdout",
     "output_type": "stream",
     "text": [
      "[3, 2, 2, 2, 3, 3, 3]\n",
      "Из трех слов состоят: 57.14 %\n",
      "Из двух слов состоят: 42.86 %\n"
     ]
    }
   ],
   "source": [
    "# плохой вариант, т.к. ограничивается только данными из примера\n",
    "element_sum = 0\n",
    "target_string = ' '\n",
    "output = []\n",
    "for element in queries:\n",
    "    output.append(len(element.split()))\n",
    "print(output)   \n",
    "print(\"Из трех слов состоят: \", round(output.count(3)/ len(output) * 100, 2),\" %\", sep=\"\")\n",
    "print(\"Из двух слов состоят: \", round(output.count(2)/ len(output) * 100, 2),\" %\", sep=\"\")"
   ]
  },
  {
   "cell_type": "code",
   "execution_count": 17,
   "metadata": {},
   "outputs": [
    {
     "name": "stdout",
     "output_type": "stream",
     "text": [
      "Запросов с 2 словами: 42.857142857142854 процентов\n",
      "Запросов с 3 словами: 57.14285714285714 процентов\n"
     ]
    }
   ],
   "source": [
    "# хороший и логически красивый вариант на множествах\n",
    "words_in_query = []\n",
    "for s in queries:\n",
    "#     print(s)\n",
    "#     print(s.split())\n",
    "#     print(len(s.split()))\n",
    "    words_in_query.append(len(s.split()))\n",
    "# print(words_in_query)\n",
    "for i in set(words_in_query):\n",
    "    print(f'Запросов с {i} словами: {(words_in_query.count(i) / len(queries)) * 100} процентов')"
   ]
  },
  {
   "cell_type": "code",
   "execution_count": 14,
   "metadata": {},
   "outputs": [
    {
     "name": "stdout",
     "output_type": "stream",
     "text": [
      "3-словных запросов: 57.1%\n",
      "2-словных запросов: 42.9%\n"
     ]
    }
   ],
   "source": [
    "# очень похожий вариант на словарях\n",
    "frequency = {}\n",
    "\n",
    "for i in queries:\n",
    "    if len(i.split(' ')) not in frequency:\n",
    "        frequency[len(i.split(' '))] = 1\n",
    "    else:\n",
    "        frequency[len(i.split(' '))] += 1\n",
    "\n",
    "# print(frequency)\n",
    "for key, value in frequency.items():\n",
    "    print(f\"{key}-словных запросов: {round(value / len(queries) * 100, 1)}%\")"
   ]
  },
  {
   "cell_type": "code",
   "execution_count": null,
   "metadata": {},
   "outputs": [],
   "source": [
    "# list comprehension - синтаксис, который позволяет сгенерировать список в одну строку по алгоритму\n",
    "[x ** 2 for x in range(10)]"
   ]
  },
  {
   "cell_type": "code",
   "execution_count": null,
   "metadata": {},
   "outputs": [],
   "source": [
    "squares = []\n",
    "for x in range(10):\n",
    "    squares.append(x ** 2)"
   ]
  },
  {
   "cell_type": "code",
   "execution_count": null,
   "metadata": {},
   "outputs": [],
   "source": [
    "[x for x in range(10) if x % 2 != 0]"
   ]
  },
  {
   "cell_type": "code",
   "execution_count": null,
   "metadata": {},
   "outputs": [],
   "source": [
    "# используем Counter из библиотеки collection, который помогает считать количество вхождений элементов в объект\n",
    "from collections import Counter\n",
    "# print([len(query.split()) for query in queries])\n",
    "counter = Counter([len(query.split()) for query in queries])\n",
    "# print(counter)\n",
    "for k in counter.keys():\n",
    "    counter[k] = round(counter[k] / len(queries) * 100, 2)\n",
    "counter"
   ]
  },
  {
   "cell_type": "markdown",
   "metadata": {},
   "source": [
    "### Задание 4"
   ]
  },
  {
   "cell_type": "code",
   "execution_count": null,
   "metadata": {},
   "outputs": [],
   "source": [
    "stats = {'facebook': 55, 'yandex': 120, 'vk': 115, 'google': 99, 'email': 42, 'ok': 98}"
   ]
  },
  {
   "cell_type": "code",
   "execution_count": null,
   "metadata": {},
   "outputs": [],
   "source": [
    "# неправильный вариант (лексикографическое сравнение строк!)\n",
    "max(stats)"
   ]
  },
  {
   "cell_type": "code",
   "execution_count": null,
   "metadata": {},
   "outputs": [],
   "source": [
    "# решение без доп. материалов\n",
    "max_sales = 0\n",
    "for channel in stats:\n",
    "#     print(channel)\n",
    "#     print(stats[channel])\n",
    "    if  stats[channel] > max_sales:\n",
    "        max_sales = stats[channel]     \n",
    "        max_sales_channel = channel\n",
    "print(\"Максимальный объем продаж: \", max_sales,\"по каналу \", max_sales_channel)"
   ]
  },
  {
   "cell_type": "code",
   "execution_count": null,
   "metadata": {},
   "outputs": [],
   "source": [
    "# используем функцию max\n",
    "for i in stats:\n",
    "    if stats[i] == max(stats.values()):\n",
    "        print(i)"
   ]
  },
  {
   "cell_type": "code",
   "execution_count": null,
   "metadata": {},
   "outputs": [],
   "source": [
    "# красивый вариант в 1 строку с max и get\n",
    "max(stats, key=stats.get)"
   ]
  },
  {
   "cell_type": "markdown",
   "metadata": {},
   "source": [
    "### Задание 5"
   ]
  },
  {
   "cell_type": "markdown",
   "metadata": {},
   "source": [
    "Дан поток логов по количеству просмотренных страниц для каждого пользователя. Список отсортирован по ID пользователя. Вам необходимо написать алгоритм, который считает среднее значение просмотров на пользователя. Т. е. надо посчитать отношение суммы всех просмотров к количеству уникальных пользователей."
   ]
  },
  {
   "cell_type": "code",
   "execution_count": 18,
   "metadata": {},
   "outputs": [],
   "source": [
    "stream = [\n",
    "    '2018-01-01,user1,3',\n",
    "    '2018-01-07,user1,4',\n",
    "    '2018-03-29,user1,1',\n",
    "    '2018-04-04,user1,13',\n",
    "    '2018-01-05,user2,7',\n",
    "    '2018-06-14,user3,4',\n",
    "    '2018-07-02,user3,10',\n",
    "    '2018-03-21,user4,19',\n",
    "    '2018-03-22,user4,4',\n",
    "    '2018-04-22,user4,8',\n",
    "    '2018-05-03,user4,9',\n",
    "    '2018-05-11,user4,11',\n",
    "]"
   ]
  },
  {
   "cell_type": "code",
   "execution_count": 19,
   "metadata": {},
   "outputs": [
    {
     "name": "stdout",
     "output_type": "stream",
     "text": [
      "2018-01-01,user1,3\n",
      "['2018-01-01', 'user1', '3']\n",
      "3\n",
      "2018-01-07,user1,4\n",
      "['2018-01-07', 'user1', '4']\n",
      "7\n",
      "2018-03-29,user1,1\n",
      "['2018-03-29', 'user1', '1']\n",
      "8\n",
      "2018-04-04,user1,13\n",
      "['2018-04-04', 'user1', '13']\n",
      "21\n",
      "2018-01-05,user2,7\n",
      "['2018-01-05', 'user2', '7']\n",
      "28\n",
      "2018-06-14,user3,4\n",
      "['2018-06-14', 'user3', '4']\n",
      "32\n",
      "2018-07-02,user3,10\n",
      "['2018-07-02', 'user3', '10']\n",
      "42\n",
      "2018-03-21,user4,19\n",
      "['2018-03-21', 'user4', '19']\n",
      "61\n",
      "2018-03-22,user4,4\n",
      "['2018-03-22', 'user4', '4']\n",
      "65\n",
      "2018-04-22,user4,8\n",
      "['2018-04-22', 'user4', '8']\n",
      "73\n",
      "2018-05-03,user4,9\n",
      "['2018-05-03', 'user4', '9']\n",
      "82\n",
      "2018-05-11,user4,11\n",
      "['2018-05-11', 'user4', '11']\n",
      "93\n",
      "23.25\n"
     ]
    }
   ],
   "source": [
    "unique_users = []\n",
    "total_pages = 0\n",
    "for visit in stream:\n",
    "    print(visit)\n",
    "    visit = visit.split(',')\n",
    "    print(visit)\n",
    "    total_pages += int(visit[2])\n",
    "    print(total_pages)\n",
    "    if visit[1] not in unique_users:\n",
    "        unique_users.append(visit[1])\n",
    "\n",
    "print(round(total_pages / len(unique_users), 2))"
   ]
  },
  {
   "cell_type": "code",
   "execution_count": null,
   "metadata": {},
   "outputs": [],
   "source": [
    "# более лаконичный вариант с множествами\n",
    "user_list = set()\n",
    "value_list = [] \n",
    "for visit in stream:\n",
    "    user_list.add(visit.split(',')[1]) \n",
    "    value_list.append(int(visit.split(',')[2]))\n",
    "print(\"Среднее кол-во просмотров на пользователя: \", sum(value_list) / len(user_list), sep=\"\")"
   ]
  },
  {
   "cell_type": "markdown",
   "metadata": {},
   "source": [
    "### Задание 6"
   ]
  },
  {
   "cell_type": "markdown",
   "metadata": {},
   "source": [
    "Дана статистика рекламных кампаний по дням. Напишите алгоритм, который по паре дата-кампания ищет значение численного столбца. Т. е. для даты '2018-01-01' и 'google' нужно получить число 25. Считайте, что все комбинации дата-кампания уникальны."
   ]
  },
  {
   "cell_type": "code",
   "execution_count": 20,
   "metadata": {},
   "outputs": [],
   "source": [
    "stats = [\n",
    "    ['2018-01-01', 'google', 25],\n",
    "    ['2018-01-01', 'yandex', 65],\n",
    "    ['2018-01-01', 'market', 89],\n",
    "    ['2018-01-02', 'google', 574],\n",
    "    ['2018-01-02', 'yandex', 249],\n",
    "    ['2018-01-02', 'market', 994],\n",
    "    ['2018-01-03', 'google', 1843],\n",
    "    ['2018-01-03', 'yandex', 1327],\n",
    "    ['2018-01-03', 'market', 1764],\n",
    "]"
   ]
  },
  {
   "cell_type": "code",
   "execution_count": null,
   "metadata": {},
   "outputs": [],
   "source": [
    "# немного некрасивый вариант, но рабочий\n",
    "date = '2018-01-02'\n",
    "company = 'yandex'\n",
    "for stat in stats:\n",
    "    if date==stat[0]:\n",
    "        if company==stat[1]:\n",
    "            print(stat[2])"
   ]
  },
  {
   "cell_type": "code",
   "execution_count": 21,
   "metadata": {},
   "outputs": [
    {
     "name": "stdout",
     "output_type": "stream",
     "text": [
      "249\n"
     ]
    }
   ],
   "source": [
    "# хороший вариант\n",
    "date = '2018-01-02'\n",
    "company = 'yandex'\n",
    "for stat in stats:\n",
    "    if company in stat and date in stat:\n",
    "        print(stat[2])"
   ]
  },
  {
   "cell_type": "code",
   "execution_count": null,
   "metadata": {},
   "outputs": [],
   "source": [
    "# красивое решение в 1 строку, используем lambda-функцию\n",
    "list(filter(lambda stat: date in stat and company in stat, stats))"
   ]
  },
  {
   "cell_type": "code",
   "execution_count": null,
   "metadata": {},
   "outputs": [],
   "source": [
    "list(filter(lambda stat: date in stat and company in stat, stats))[0][2]"
   ]
  },
  {
   "cell_type": "markdown",
   "metadata": {},
   "source": [
    "## Домашняя работа 3"
   ]
  },
  {
   "cell_type": "markdown",
   "metadata": {},
   "source": [
    "### Задание 1"
   ]
  },
  {
   "cell_type": "markdown",
   "metadata": {},
   "source": [
    "Дан список вида:"
   ]
  },
  {
   "cell_type": "code",
   "execution_count": null,
   "metadata": {},
   "outputs": [],
   "source": [
    "data = [\n",
    "    [13, 25, 23, 34],\n",
    "    [45, 32, 44, 47],\n",
    "    [12, 33, 23, 95],\n",
    "    [13, 53, 34, 35]\n",
    "]"
   ]
  },
  {
   "cell_type": "markdown",
   "metadata": {},
   "source": [
    "Напишите функцию, которая возвращает сумму элементов на диагонали. Т. е. 13+32+23+35."
   ]
  },
  {
   "cell_type": "code",
   "execution_count": null,
   "metadata": {},
   "outputs": [],
   "source": [
    "# верный вариант без дополнительных изысков\n",
    "def diagonal_sum(data):\n",
    "    pointer = 0\n",
    "    result = 0\n",
    "    for row in data:\n",
    "        result += row[pointer]\n",
    "        pointer +=1\n",
    "    return result \n",
    "        \n",
    "diagonal_sum(data)"
   ]
  },
  {
   "cell_type": "code",
   "execution_count": null,
   "metadata": {},
   "outputs": [],
   "source": [
    "# хороший вариант с enumerate\n",
    "def matrix_diagonal_sum(matrix):\n",
    "    sum_result = 0\n",
    "    for i, value in enumerate(matrix):\n",
    "        sum_result += float(matrix[i][i])\n",
    "    return sum_result\n",
    "\n",
    "matrix_diagonal_sum(data)"
   ]
  },
  {
   "cell_type": "code",
   "execution_count": null,
   "metadata": {},
   "outputs": [],
   "source": [
    "# красивый вариант в одну строку с помощью list comprehension и enumerate\n",
    "def diag_sum(data):\n",
    "    return sum([(l[index]) for index, l in enumerate(data)])\n",
    "\n",
    "diag_sum(data)"
   ]
  },
  {
   "cell_type": "markdown",
   "metadata": {},
   "source": [
    "### Задание 2"
   ]
  },
  {
   "cell_type": "markdown",
   "metadata": {},
   "source": [
    "Дан список чисел, часть из которых имеют строковый тип или содержат буквы. Напишите функцию, которая возвращает сумму квадратов элементов, которые могут быть числами."
   ]
  },
  {
   "cell_type": "code",
   "execution_count": null,
   "metadata": {},
   "outputs": [],
   "source": [
    "data = [1, '5', 'abc', 20, '2']"
   ]
  },
  {
   "cell_type": "code",
   "execution_count": null,
   "metadata": {},
   "outputs": [],
   "source": [
    "# неплохой вариант с проверкой на try/except\n",
    "def square_sum(data):\n",
    "    res = 0\n",
    "    for el in data:\n",
    "        try:\n",
    "            res += int(el) ** 2\n",
    "        except:\n",
    "            pass\n",
    "    return(res)\n",
    "\n",
    "square_sum(data)"
   ]
  },
  {
   "cell_type": "code",
   "execution_count": null,
   "metadata": {},
   "outputs": [],
   "source": [
    "# неплохой вариант с проверкой при помощи type() и isdigit()\n",
    "def sum_of_squared_numbers(data):\n",
    "    result = 0\n",
    "    for order in data:\n",
    "        if type(order) == int:\n",
    "            result += order ** 2\n",
    "        elif order.isdigit():\n",
    "            result += int(order) ** 2\n",
    "    return result\n",
    "sum_of_squared_numbers(data)"
   ]
  },
  {
   "cell_type": "code",
   "execution_count": null,
   "metadata": {},
   "outputs": [],
   "source": [
    "# хороший вариант с проверкой при помощи isdigit()\n",
    "def sum_isnumeric(data):\n",
    "    sum_sq_num = 0\n",
    "    for i in data:\n",
    "        if str(i).isnumeric():\n",
    "            sum_sq_num += int(i) ** 2 \n",
    "    return sum_sq_num\n",
    "sum_isnumeric(data)"
   ]
  },
  {
   "cell_type": "code",
   "execution_count": null,
   "metadata": {},
   "outputs": [],
   "source": [
    "# очень красивый вариант в одну строку при помощи map, lambda_функций и проверки с str.isnumeric()\n",
    "# ничего страшного, если это сложно для восприятия, это действительтно так!\n",
    "def sum_(data):\n",
    "    return sum(list(map(lambda x: int(x)**2 if str.isnumeric(str(x)) else 0, data)))\n",
    "sum_(data)"
   ]
  },
  {
   "cell_type": "markdown",
   "metadata": {},
   "source": [
    "### Задание 3"
   ]
  },
  {
   "cell_type": "markdown",
   "metadata": {},
   "source": [
    "Напишите функцию, возвращающую сумму первых n чисел Фибоначчи.\n",
    "https://ru.wikipedia.org/wiki/%D0%A7%D0%B8%D1%81%D0%BB%D0%B0_%D0%A4%D0%B8%D0%B1%D0%BE%D0%BD%D0%B0%D1%87%D1%87%D0%B8"
   ]
  },
  {
   "cell_type": "code",
   "execution_count": null,
   "metadata": {},
   "outputs": [],
   "source": [
    "# очень хороший вариант без рекурсии, главное разобраться с индексами\n",
    "def fib(n):\n",
    "    seq = [0, 1]\n",
    "    for i in range(2, n + 1):\n",
    "        seq.append(seq[i-1] + seq[i-2])\n",
    "    print(sum(seq))\n",
    "    \n",
    "fib(10)"
   ]
  },
  {
   "cell_type": "markdown",
   "metadata": {},
   "source": [
    "### Задание 4"
   ]
  },
  {
   "cell_type": "markdown",
   "metadata": {},
   "source": [
    "Дан набор данных об обучении студентов на курсе программирования, который содержит: \n",
    "1) имя\n",
    "2) фамилию \n",
    "3) пол \n",
    "4) наличие у студента опыта в программировании \n",
    "5) набор оценок за домашние работы \n",
    "6) оценку за итоговую работу.\n",
    "\n",
    "Напишите программу, которая будет принимать команду от пользователя и возвращать соотвествующий результат.\n",
    "Список команд: \n",
    "1 - вывести на экран среднюю оценку за все ДЗ по группе и вывести на экран среднюю оценку за экзамен по группе;\n",
    "2 - вывести среднюю оценку за ДЗ и за экзамен по группе в разрезе пола студентов\n",
    "3 - вывести среднюю оценку за ДЗ и за экзамен в разрезе наличия опыта в программировании у студентов.\n",
    "\n",
    "Прогрмма должна быть полностью декомпозирована на функции (кроме объявления функций и вызова итоговой функции в реализации ничего быть не должно)."
   ]
  },
  {
   "cell_type": "code",
   "execution_count": null,
   "metadata": {},
   "outputs": [],
   "source": [
    "students_list = [\n",
    "    {'name': 'Василий', 'surname': 'Теркин', 'sex': 'м', 'program_exp': True, 'grade': [8, 8, 9, 10, 9], 'exam': 9},\n",
    "    {'name': 'Мария', 'surname': 'Павлова', 'sex': 'ж', 'program_exp': True, 'grade': [7, 8, 9, 7, 9], 'exam': 8},\n",
    "    {'name': 'Ирина', 'surname': 'Андреева', 'sex': 'ж', 'program_exp': True, 'grade': [10, 9, 8, 10, 10], 'exam': 10},\n",
    "    {'name': 'Татьяна', 'surname': 'Сидорова', 'sex': 'ж', 'program_exp': False, 'grade': [7, 8, 8, 9, 8], 'exam': 8},\n",
    "    {'name': 'Иван', 'surname': 'Васильев', 'sex': 'м', 'program_exp': False, 'grade': [9, 8, 9, 6, 9], 'exam': 10},\n",
    "    {'name': 'Роман', 'surname': 'Золотарев', 'sex': 'м', 'program_exp': False, 'grade': [8, 9, 9, 6, 9], 'exam': 10}\n",
    "]"
   ]
  },
  {
   "cell_type": "code",
   "execution_count": 9,
   "metadata": {},
   "outputs": [
    {
     "name": "stdout",
     "output_type": "stream",
     "text": [
      "Введите номер команды: 1\n",
      "Средняя оценка за ДЗ: 8.4\n",
      "Средняя оценка за экзамены: 9.2\n"
     ]
    }
   ],
   "source": [
    "students_list = [\n",
    "    {'name': 'Василий', 'surname': 'Теркин', 'sex': 'м', 'program_exp': True, 'grade': [8, 8, 9, 10, 9], 'exam': 9},\n",
    "    {'name': 'Мария', 'surname': 'Павлова', 'sex': 'ж', 'program_exp': True, 'grade': [7, 8, 9, 7, 9], 'exam': 8},\n",
    "    {'name': 'Ирина', 'surname': 'Андреева', 'sex': 'ж', 'program_exp': True, 'grade': [10, 9, 8, 10, 10], 'exam': 10},\n",
    "    {'name': 'Татьяна', 'surname': 'Сидорова', 'sex': 'ж', 'program_exp': True, 'grade': [7, 8, 8, 9, 8], 'exam': 8},\n",
    "    {'name': 'Иван', 'surname': 'Васильев', 'sex': 'ж', 'program_exp': True, 'grade': [9, 8, 9, 6, 9], 'exam': 10},\n",
    "    {'name': 'Роман', 'surname': 'Золотарев', 'sex': 'ж', 'program_exp': False, 'grade': [8, 9, 9, 6, 9], 'exam': 10}\n",
    "]\n",
    "\n",
    "\n",
    "\n",
    "def intro():\n",
    "    command = int(input(\"Введите номер команды: \"))\n",
    "    if command == 1:\n",
    "        average_on_homework_and_exam()\n",
    "    if command == 2:\n",
    "        average_on_homework_and_exam_by_gender()\n",
    "    if command == 3:\n",
    "        average_on_homework_and_exam_by_programming_skills()\n",
    "\n",
    "def average_on_homework_and_exam():\n",
    "    average_on_homework = []\n",
    "    average_on_exam = []\n",
    "    for students in students_list:\n",
    "        average_on_homework.append(sum(students['grade'])/len(students['grade']))\n",
    "    print(\"Средняя оценка за ДЗ:\", round(sum(average_on_homework)/len(students_list),1))\n",
    "    for students in students_list:\n",
    "        average_on_exam.append(students['exam'])\n",
    "    print(\"Средняя оценка за экзамены:\", round(sum(average_on_exam)/len(students_list),1))\n",
    "    \n",
    "def average_on_homework_and_exam_by_gender():\n",
    "    average_on_homework_men = []\n",
    "    average_on_homework_women = []\n",
    "    average_on_exam_men = []\n",
    "    average_on_exam_women = []\n",
    "    \n",
    "    for students in students_list:\n",
    "        if students['sex'] == 'м':\n",
    "            average_on_homework_men.append(sum(students['grade'])/len(students['grade']))\n",
    "        if students['sex'] == 'ж':\n",
    "            average_on_homework_women.append(sum(students['grade'])/len(students['grade']))\n",
    "    print(\"Средняя оценка за ДЗ (мужчины):\", round(sum(average_on_homework_men)/len(average_on_homework_men),1))\n",
    "    print(\"Средняя оценка за ДЗ (женщины):\", round(sum(average_on_homework_women)/len(average_on_homework_women),1))\n",
    "    \n",
    "    for students in students_list:\n",
    "        if students['sex'] == 'м':\n",
    "            average_on_exam_men.append(students['exam'])\n",
    "        if students['sex'] == 'ж':\n",
    "            average_on_exam_women.append(students['exam'])\n",
    "    print(\"Средняя оценка за экзамены (мужчины):\", round(sum(average_on_exam_men)/len(average_on_exam_men),1))\n",
    "    print(\"Средняя оценка за экзамены (женщины):\", round(sum(average_on_exam_women)/len(average_on_exam_women),1))\n",
    "    \n",
    "def average_on_homework_and_exam_by_programming_skills():\n",
    "    average_on_homework_exp = []\n",
    "    average_on_homework_noexp = []\n",
    "    average_on_exam_exp = []\n",
    "    average_on_exam_noexp = []\n",
    "    \n",
    "    for students in students_list:\n",
    "        if students['program_exp'] == True:\n",
    "            average_on_homework_exp.append(sum(students['grade'])/len(students['grade']))\n",
    "        if students['program_exp'] == False:\n",
    "            average_on_homework_noexp.append(sum(students['grade'])/len(students['grade']))\n",
    "    print(\"Средняя оценка за ДЗ (с опытом программирования):\", round(sum(average_on_homework_exp)/len(average_on_homework_exp),1))\n",
    "    print(\"Средняя оценка за ДЗ (без опыта программирования):\", round(sum(average_on_homework_noexp)/len(average_on_homework_noexp),1))\n",
    "    \n",
    "    for students in students_list:\n",
    "        if students['program_exp'] == True:\n",
    "            average_on_exam_exp.append(students['exam'])\n",
    "        if students['program_exp'] == False:\n",
    "            average_on_exam_noexp.append(students['exam'])\n",
    "    print(\"Средняя оценка за экзамены (с опытом программирования):\", round(sum(average_on_exam_exp)/len(average_on_exam_exp),1))\n",
    "    print(\"Средняя оценка за экзамены (без опыта программирования):\", round(sum(average_on_exam_noexp)/len(average_on_exam_noexp),1))\n",
    "    \n",
    "intro()"
   ]
  },
  {
   "cell_type": "code",
   "execution_count": 3,
   "metadata": {},
   "outputs": [
    {
     "name": "stdout",
     "output_type": "stream",
     "text": [
      "Введите команду:     1 - показать средние по группе     2 - показать средние по студентам без опыта     3 - показать средние по студентам с опытом     q - выйти из программы1\n",
      "Средняя оценка за ДЗ:  8.43\n",
      "Средняя оценка за экзамен:  9.17\n",
      "Введите команду:     1 - показать средние по группе     2 - показать средние по студентам без опыта     3 - показать средние по студентам с опытом     q - выйти из программы\n",
      "Введите команду:     1 - показать средние по группе     2 - показать средние по студентам без опыта     3 - показать средние по студентам с опытом     q - выйти из программыq\n",
      "До свидания!\n"
     ]
    }
   ],
   "source": [
    "# неплохой вариант, который ожидался\n",
    "def average_grades(students):\n",
    "    sum_average_hw = 0\n",
    "    sum_average_exam = 0\n",
    "    for student in students:\n",
    "        sum_average_hw += sum(student[\"grade\"])/len(student[\"grade\"])\n",
    "        sum_average_exam += student[\"exam\"]\n",
    "    print('Средняя оценка за ДЗ: ', round(sum_average_hw / len(students), 2))\n",
    "    print('Средняя оценка за экзамен: ', round(sum_average_exam / len(students), 2))\n",
    "\n",
    "\n",
    "def average_grades_by_exp(students, exp=True):\n",
    "    sum_average_hw = 0\n",
    "    sum_average_exam = 0  \n",
    "    student_counter = 0\n",
    "    for student in students:\n",
    "        if student[\"program_exp\"] == exp:\n",
    "            sum_average_hw += sum(student[\"grade\"])/len(student[\"grade\"])\n",
    "            sum_average_exam += student[\"exam\"]\n",
    "            student_counter += 1\n",
    "    if exp == True:\n",
    "        print('Средняя оценка за ДЗ у студентов с опытом равна: ', round(sum_average_hw / student_counter, 2))\n",
    "        print('Средняя оценка за экзамен у студентов с опытом равна: ', round(sum_average_exam / student_counter, 2))    \n",
    "    else:\n",
    "        print('Средняя оценка за ДЗ у студентов без опыта равна: ', round(sum_average_hw / student_counter, 2))\n",
    "        print('Средняя оценка за экзамен у студентов без опыта равна: ', round(sum_average_exam / student_counter, 2))\n",
    "\n",
    "def main():\n",
    "    while True:\n",
    "        user_input = input('Введите команду: \\\n",
    "    1 - показать средние по группе \\\n",
    "    2 - показать средние по студентам без опыта \\\n",
    "    3 - показать средние по студентам с опытом \\\n",
    "    q - выйти из программы')\n",
    "        if user_input == '1':\n",
    "            average_grades(students_list)\n",
    "        elif user_input == '2':\n",
    "            average_grades_by_exp(students_list, exp=False)\n",
    "        elif user_input == '3':\n",
    "            average_grades_by_exp(students_list)\n",
    "        elif user_input == 'q':\n",
    "            print('До свидания!')\n",
    "            break\n",
    "\n",
    "main()"
   ]
  },
  {
   "cell_type": "code",
   "execution_count": null,
   "metadata": {},
   "outputs": [],
   "source": [
    "# очень интересная реализация на filter\n",
    "\n",
    "def avr_dz(students_list, dop = ''):\n",
    "    print('Средняя оценка за ДЗ по группе '+dop+':', round(sum(sum(i['grade'])/len(i['grade']) for i in students_list)/len(students_list),2))\n",
    "    print('Средняя оценка за Экзамен по группе '+dop+':', round(sum(i['exam'] for i in students_list)/len(students_list),2))\n",
    "\n",
    "def avr_dz_sex(students_list):\n",
    "    for sex in {'м','ж'}: \n",
    "        ff_list = list(filter(lambda x: x['sex']==sex, students_list))\n",
    "        avr_dz(ff_list, 'пол '+sex)\n",
    "        \n",
    "def avr_dz_exp(students_list):\n",
    "    for exp in {True, False}: \n",
    "        ff_list = list(filter(lambda x: x['program_exp']==exp, students_list))\n",
    "        avr_dz(ff_list, 'опыт '+str(exp))\n",
    "    \n",
    "    \n",
    "def main():\n",
    "    com = int(input('введите команду 1,2,3 : '))\n",
    "    if com==1: return avr_dz(students_list)\n",
    "    elif com==2: return avr_dz_sex(students_list)\n",
    "    elif com==3: return avr_dz_exp(students_list)\n",
    "    return print('не верная команда')\n",
    "\n",
    "main()"
   ]
  },
  {
   "cell_type": "markdown",
   "metadata": {},
   "source": [
    "## Актуальные вопросы по последним ДЗ"
   ]
  },
  {
   "cell_type": "code",
   "execution_count": null,
   "metadata": {},
   "outputs": [],
   "source": [
    "geo_data = {\n",
    "    'Центр': ['москва', 'тула', 'ярославль'],\n",
    "    'Северо-Запад': ['петербург', 'псков', 'мурманск'],\n",
    "    'Дальний Восток': ['владивосток', 'сахалин', 'хабаровск']\n",
    "}\n",
    "\n",
    "keywords_df = pd.read_csv('keywords.csv')"
   ]
  },
  {
   "cell_type": "code",
   "execution_count": null,
   "metadata": {},
   "outputs": [],
   "source": [
    "def find_geo(keyword):\n",
    "    for key, value in geo_data.items():\n",
    "        if keyword.lower() in value:\n",
    "            return key\n",
    "    return 'undefined'"
   ]
  },
  {
   "cell_type": "code",
   "execution_count": null,
   "metadata": {},
   "outputs": [],
   "source": [
    "keywords_df['region'] = keywords_df['keyword'].apply(find_geo)\n",
    "keywords_df\n",
    "# keywords_df[keywords_df['region'] != 'undefined']"
   ]
  },
  {
   "cell_type": "markdown",
   "metadata": {},
   "source": [
    "По данным файла power.csv посчитайте суммарное потребление стран Прибалтики (Латвия, Литва и Эстония), категорий 4, 12 и 21 за период с 2005 по 2010 года. Не учитывайте в расчетах отрицательные значения quantity."
   ]
  },
  {
   "cell_type": "code",
   "execution_count": null,
   "metadata": {},
   "outputs": [],
   "source": [
    "power = pd.read_csv('power.csv')\n",
    "power\n",
    "power.info()"
   ]
  },
  {
   "cell_type": "code",
   "execution_count": null,
   "metadata": {},
   "outputs": [],
   "source": [
    "baltic_states = ['Latvia', 'Lithuania', 'Estonia']\n",
    "category = [4, 12, 21]\n",
    "time_period = range(2005, 2011)\n",
    "\n",
    "res = power[\n",
    "    power['country'].isin(baltic_states) & \n",
    "    power['category'].isin(category) & \n",
    "    power['year'].isin(time_period) & \n",
    "    power['quantity'] > 0]\n"
   ]
  },
  {
   "cell_type": "code",
   "execution_count": null,
   "metadata": {},
   "outputs": [],
   "source": [
    "res['quantity'].sum()"
   ]
  }
 ],
 "metadata": {
  "kernelspec": {
   "display_name": "Python 3",
   "language": "python",
   "name": "python3"
  },
  "language_info": {
   "codemirror_mode": {
    "name": "ipython",
    "version": 3
   },
   "file_extension": ".py",
   "mimetype": "text/x-python",
   "name": "python",
   "nbconvert_exporter": "python",
   "pygments_lexer": "ipython3",
   "version": "3.7.3"
  }
 },
 "nbformat": 4,
 "nbformat_minor": 2
}
