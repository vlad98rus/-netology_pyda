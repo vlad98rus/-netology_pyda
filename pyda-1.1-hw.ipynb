{
 "cells": [
  {
   "cell_type": "markdown",
   "metadata": {},
   "source": [
    "**Задание 1**. Даны 2 строки: *long_phrase* и *short_phrase*. \n",
    "Напишите код, который проверяет действительно ли длинная фраза *long_phrase* длиннее короткой *short_phrase*. И выводит *True* или *False* в зависимости от результата сравнения."
   ]
  },
  {
   "cell_type": "code",
   "execution_count": 44,
   "metadata": {},
   "outputs": [],
   "source": [
    "long_phrase = 'Насколько проще было бы писать программы, если бы не заказчики'\n",
    "short_phrase = '640Кб должно хватить для любых задач. Билл Гейтс (по легенде)'"
   ]
  },
  {
   "cell_type": "code",
   "execution_count": 61,
   "metadata": {},
   "outputs": [
    {
     "data": {
      "text/plain": [
       "True"
      ]
     },
     "execution_count": 61,
     "metadata": {},
     "output_type": "execute_result"
    }
   ],
   "source": [
    "len (long_phrase) > len (short_phrase)"
   ]
  },
  {
   "cell_type": "markdown",
   "metadata": {},
   "source": [
    "**Задание 2**. Дано значение объема файла в байтах. Напишите перевод этого значения в мегабайты в формате: \"*Объем файла равен 213.68Mb*\""
   ]
  },
  {
   "cell_type": "code",
   "execution_count": 14,
   "metadata": {},
   "outputs": [
    {
     "name": "stdout",
     "output_type": "stream",
     "text": [
      "Введите объем файла, Mb: 213.68\n",
      "Объем файла равен, b:  213.68 * 1048576 =  224059719.68\n"
     ]
    },
    {
     "data": {
      "text/plain": [
       "(None,)"
      ]
     },
     "execution_count": 14,
     "metadata": {},
     "output_type": "execute_result"
    }
   ],
   "source": [
    "number_1 = float (input ('Введите объем файла, Mb: '))\n",
    "number_2 = 1048576\n",
    "print('Объем файла равен, b: ', '{} * {} = '.format(number_1, number_2), number_1 * number_2 ), \n"
   ]
  },
  {
   "cell_type": "markdown",
   "metadata": {},
   "source": [
    "**Задание 3**. Разработать приложение для определения знака зодиака по дате рождения. Пример:\n",
    "\n",
    "Введите месяц: март\n",
    "\n",
    "Введите число: 6\n",
    "\n",
    "Вывод:\n",
    "Рыбы"
   ]
  },
  {
   "cell_type": "code",
   "execution_count": 45,
   "metadata": {},
   "outputs": [
    {
     "name": "stdout",
     "output_type": "stream",
     "text": [
      "Введите месяц: 2\n",
      "Введите дату: 29\n",
      "Вывод: Рыбы\n"
     ]
    }
   ],
   "source": [
    "month = int (input ('Введите месяц: '))\n",
    "date = int (input ('Введите дату: '))\n",
    "if date in range (21, 32) and month == 1 or date in range (1, 20) and month == 2: #Водолеи (с 21 января по 19 февраля)\n",
    "    print('Вывод: Водолей')    \n",
    "elif date in range (20, 30) and month == 2 or date in range (1, 21) and month == 3:  #Рыбы (с 20 февраля по 20 марта)\n",
    "    print('Вывод: Рыбы')\n",
    "elif date in range (21, 32) and month == 3 or date in range (1, 21) and month == 4: #Овны (с 21 марта по 20 апреля)\n",
    "    print('Вывод: Овен')\n",
    "elif date in range (21, 31) and month == 4 or date in range (1, 22) and month == 5: #Тельцы (с 21 апреля по 21 мая)\n",
    "    print('Вывод: Телец')\n",
    "elif date in range (22, 32) and month == 5 or date in range (1, 22) and month == 6: #Близнецы (с 22 мая по 21 июня)\n",
    "    print('Вывод: Близнецы')\n",
    "elif date in range (22, 31) and month == 6 or date in range (1, 24) and month == 7: #Раки (с 22 июня по 23 июля)\n",
    "    print('Вывод: Рак') \n",
    "elif date in range (24, 32) and month == 7 or date in range (1, 24) and month == 8: #Львы (с 24 июля по 23 августа)\n",
    "    print('Вывод: Лев')\n",
    "elif date in range (24, 32) and month == 8 or date in range (1, 24) and month == 9: #Девы (с 24 августа по 23 сентября)\n",
    "    print('Вывод: Девы')\n",
    "elif date in range (24, 31) and month == 9 or date in range (1, 24) and month == 10: #Весы (с 24 сентября по 23 октября)\n",
    "    print('Вывод: Весы')\n",
    "elif date in range (24, 32) and month == 10 or date in range (1, 23) and month == 11: #Скорпионы (с 24 октября по 22 ноября)\n",
    "    print('Вывод: Скорпион') \n",
    "elif date in range (23, 31) and month == 11 or date in range (1, 22) and month == 12: #Стрельцы (с 23 ноября по 21 декабря)\n",
    "    print('Вывод: Стрелец')    \n",
    "elif date in range (22, 32) and month == 12 or date in range (1, 21) and month == 1: #Козероги (с 22 декабря по 20 января)\n",
    "    print('Вывод: Козерог')  \n"
   ]
  },
  {
   "cell_type": "markdown",
   "metadata": {},
   "source": [
    "**Задание 4**. Нужно разработать приложение для финансового планирования.\n",
    "Приложение учитывает сколько уходит на ипотеку, \"на жизнь\" и сколько нужно отложить на пенсию.\n",
    "Пользователь вводит:\n",
    "- заработанную плату в месяц.\n",
    "- сколько процентов от ЗП уходит на ипотеку.\n",
    "- сколько процентов от ЗП уходит \"на жизнь\".\n",
    "- сколько раз приходит премия в год.\n",
    "\n",
    "Остальная часть заработанной платы откладывается на пенсию.\n",
    "\n",
    "Также пользователю приходит премия в размере зарплаты, от которой половина уходит на отпуск, а вторая половина откладывается.\n",
    "\n",
    "Программа должна учитывать сколько премий было в год.\n",
    "\n",
    "Нужно вывести сколько денег тратит пользователь на ипотеку и сколько он накопит за год.\n",
    "\n",
    "Пример:\n",
    "\n",
    "Введите заработанную плату в месяц: 100000\n",
    "\n",
    "Введите сколько процентов уходит на ипотеку: 30\n",
    "\n",
    "Введите сколько процентов уходит на жизнь: 50\n",
    "\n",
    "Введите количество премий за год: 2\n",
    "\n",
    "Вывод:\n",
    "На ипотеку было потрачено: 360000 рублей\n",
    "Было накоплено: 340000 рублей"
   ]
  },
  {
   "cell_type": "code",
   "execution_count": 26,
   "metadata": {},
   "outputs": [
    {
     "name": "stdout",
     "output_type": "stream",
     "text": [
      "Введите заработную плату в месяц: 100000\n",
      "Введите сколько процентов уходит на ипотеку: 30\n",
      "Введите сколько процентов уходит на жизнь: 50\n",
      "Введите количество премий за год: 2\n",
      "Вывод: На ипотеку было потрачено:  360000.0 Было накоплено:  340000.0\n"
     ]
    }
   ],
   "source": [
    "salary = int (input ('Введите заработную плату в месяц: '))\n",
    "mortgage_percent = int (input ('Введите сколько процентов уходит на ипотеку: '))\n",
    "life_percent = int (input ('Введите сколько процентов уходит на жизнь: '))\n",
    "count_of_awards = int (input ('Введите количество премий за год: '))\n",
    "print ('Вывод: На ипотеку было потрачено: ' , salary * mortgage_percent / 100 * 12 , 'Было накоплено: ' , \n",
    "       (salary - (salary * mortgage_percent / 100) - (salary * life_percent / 100)) * 12 + salary * count_of_awards / 2)"
   ]
  }
 ],
 "metadata": {
  "kernelspec": {
   "display_name": "Python 3",
   "language": "python",
   "name": "python3"
  },
  "language_info": {
   "codemirror_mode": {
    "name": "ipython",
    "version": 3
   },
   "file_extension": ".py",
   "mimetype": "text/x-python",
   "name": "python",
   "nbconvert_exporter": "python",
   "pygments_lexer": "ipython3",
   "version": "3.7.3"
  }
 },
 "nbformat": 4,
 "nbformat_minor": 2
}
