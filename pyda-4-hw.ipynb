{
 "cells": [
  {
   "cell_type": "markdown",
   "metadata": {},
   "source": [
    "# Домашняя работа 4"
   ]
  },
  {
   "cell_type": "markdown",
   "metadata": {},
   "source": [
    "### Задание 1\n",
    "\n",
    "Напишите функцию, которая возвращает название валюты (поле 'Name') с максимальным значением курса с помощью сервиса \n",
    "\n",
    "https://www.cbr-xml-daily.ru/daily_json.js"
   ]
  },
  {
   "cell_type": "code",
   "execution_count": 13,
   "metadata": {},
   "outputs": [
    {
     "data": {
      "text/plain": [
       "'Датских крон'"
      ]
     },
     "execution_count": 13,
     "metadata": {},
     "output_type": "execute_result"
    }
   ],
   "source": [
    "import requests\n",
    "url = 'https://www.cbr-xml-daily.ru/daily_json.js'\n",
    "def get_max_value(url):\n",
    "   rates = requests.get(url).json()\n",
    "   max_rate = max(\n",
    "       rates['Valute'].values(),\n",
    "       key = lambda rate: rate['Value']\n",
    "   )\n",
    "   return max_rate.get('Name')\n",
    "get_max_value(url)"
   ]
  },
  {
   "cell_type": "markdown",
   "metadata": {},
   "source": [
    "### Задание 2\n",
    "\n",
    "Добавьте в класс Rate параметр diff (со значениями True или False), который в случае значения True в методах eur и usd будет возвращать не курс валюты, а изменение по сравнению в прошлым значением. Считайте, self.diff будет принимать значение True только при возврате значения курса. При отображении всей информации о валюте он не используется.\n"
   ]
  },
  {
   "cell_type": "code",
   "execution_count": 20,
   "metadata": {},
   "outputs": [
    {
     "name": "stdout",
     "output_type": "stream",
     "text": [
      "Task 4. New \"name\" format: Евро\n",
      "Task 4. New \"diff\" format: 0.1280000000000001\n",
      "==============================================\n"
     ]
    }
   ],
   "source": [
    "class Rate:\n",
    "    def __init__(self, format= 'value', diff= False):\n",
    "        self.format =  format\n",
    "        self.__diff =  diff\n",
    "\n",
    "    def exchange_rates(self):\n",
    "\n",
    "        \"\"\"\n",
    " Возвращает ответ сервиса с информацией о валютах в виде:\n",
    "        {\n",
    " 'AMD': {\n",
    " 'CharCode': 'AMD',\n",
    " 'ID': 'R01060',\n",
    " 'Name': 'Армянских драмов',\n",
    " 'Nominal': 100,\n",
    " 'NumCode': '051',\n",
    " 'Previous': 14.103,\n",
    " 'Value': 14.0879\n",
    "                },\n",
    "            ...\n",
    "        }\n",
    "        \"\"\"\n",
    "        r =  requests.get(' https://www.cbr-xml-daily.ru/daily_json.js')\n",
    "        return r.json()['Valute']\n",
    "\n",
    "    def make_format(self, currency):\n",
    "        \"\"\"\n",
    " Возвращает информацию о валюте currency в двух вариантах:\n",
    " - полная информация о валюте при self.format = 'full':\n",
    " Rate('full').make_format('EUR')\n",
    "        {\n",
    " 'CharCode': 'EUR',\n",
    " 'ID': 'R01239',\n",
    " 'Name': 'Евро',\n",
    " 'Nominal': 1,\n",
    " 'NumCode': '978',\n",
    " 'Previous': 79.6765,\n",
    " 'Value': 79.4966\n",
    "        }\n",
    " Rate('value').make_format('EUR')\n",
    "        79.4966\n",
    "        \"\"\"\n",
    "        response =  self.exchange_rates()\n",
    "\n",
    "        if currency in response:\n",
    "            if self.format ==  ' full':\n",
    "                return response[currency]\n",
    "\n",
    "            if self.format == 'value':\n",
    "                return response[currency]['Value']\n",
    "\n",
    "            if self.format == 'name':\n",
    "                return response[currency]['Name']\n",
    "\n",
    "        return 'Error'\n",
    "\n",
    "    def eur(self):\n",
    "        \"\"\"Возвращает курс евро на сегодня в формате self.format\"\"\"\n",
    "        return self.__get_format_response('EUR')\n",
    "\n",
    "    def usd(self):\n",
    "        \"\"\"Возвращает курс доллара на сегодня в формате self.format\"\"\"\n",
    "        return self.__get_format_response('USD')\n",
    "\n",
    "    def __get_currency_diff(self, currency_code):\n",
    "        resp = self.exchange_rates()\n",
    "\n",
    "        if currency_code in resp:\n",
    "            return resp[currency_code]['Value'] - resp[currency_code]['Previous']\n",
    "\n",
    "    def __get_format_response(self, currency_code):\n",
    "        return self.make_format(currency_code) if not self.__diff else self.__get_currency_diff(currency_code)\n",
    "\n",
    "\n",
    "print(f'Task 4. New \"name\" format: {Rate(format=\"name\").eur()}')\n",
    "print(f'Task 4. New \"diff\" format: {Rate(diff=True).eur()}')"
   ]
  },
  {
   "cell_type": "markdown",
   "metadata": {},
   "source": [
    "### Задание 3\n",
    "\n",
    "Напишите класс Designer, который учитывает количество международных премий.Подсказки в коде занятия в разделе\n",
    "\"Домашнее задание задача 3\".\n"
   ]
  },
  {
   "cell_type": "code",
   "execution_count": 22,
   "metadata": {},
   "outputs": [],
   "source": [
    "# из занятия\n",
    "class Employee:\n",
    "    def __init__(self, name, seniority):\n",
    "        self.name = name\n",
    "        self.seniority = seniority\n",
    "        \n",
    "    @property\n",
    "    def grade(self):\n",
    "        return floor(self.seniority / 2)\n",
    "    \n",
    "    def publish_grade(self):\n",
    "        \"\"\"Публикация результатов аккредитации сотрудников\"\"\"\n",
    "        print(self.name, self.grade)"
   ]
  },
  {
   "cell_type": "code",
   "execution_count": 28,
   "metadata": {},
   "outputs": [
    {
     "name": "stdout",
     "output_type": "stream",
     "text": [
      "Елена 1\n",
      "Елена 1\n",
      "Елена 1\n",
      "Елена 1\n",
      "Елена 1\n",
      "Елена 1\n",
      "Елена 1\n",
      "Елена 2\n",
      "Елена 2\n",
      "Елена 2\n",
      "Елена 2\n",
      "Елена 2\n",
      "Елена 2\n",
      "Елена 2\n",
      "Елена 3\n",
      "Елена 3\n",
      "Елена 3\n",
      "Елена 3\n",
      "Елена 3\n",
      "Елена 3\n",
      "New prize!\n",
      "New prize!\n",
      "New prize!\n",
      "New prize!\n",
      "New prize!\n",
      "Елена 5\n",
      "Елена 5\n",
      "Елена 5\n",
      "Елена 5\n",
      "Елена 5\n",
      "Елена 6\n",
      "Елена 6\n",
      "Елена 6\n",
      "Елена 6\n",
      "Елена 6\n",
      "Елена 6\n",
      "Елена 6\n",
      "Елена 7\n",
      "Елена 7\n",
      "Елена 7\n",
      "Елена 7\n",
      "Елена 7\n",
      "Елена 7\n",
      "Елена 7\n",
      "Елена 8\n"
     ]
    }
   ],
   "source": [
    "# Списано и разобрано с другого студента:)\n",
    "from math import floor\n",
    "\n",
    "class Designer(Employee):\n",
    "    def __init__(self, name, seniority, inter_prize=2):\n",
    "        super().__init__(name, seniority)\n",
    "        self.inter_prize = inter_prize;\n",
    "\n",
    "    @property\n",
    "    def grade(self):\n",
    "        return floor((self.inter_prize * 2 + self.seniority) / 7)\n",
    "    \n",
    "    def give_a_prize(self):\n",
    "        print('New prize!')\n",
    "        self.inter_prize += 1\n",
    "        \n",
    "    def check_if_it_is_time_for_upgrade(self):\n",
    "        self.seniority += 1\n",
    "\n",
    "        return self.publish_grade()\n",
    "        \n",
    "elena = Designer(\n",
    "    name='Елена',\n",
    "    seniority=2);\n",
    "\n",
    "for i in range(20):\n",
    "    elena.check_if_it_is_time_for_upgrade()\n",
    "    \n",
    "for i in range(5):\n",
    "    elena.give_a_prize()\n",
    "\n",
    "for i in range(20):\n",
    "    elena.check_if_it_is_time_for_upgrade()"
   ]
  }
 ],
 "metadata": {
  "kernelspec": {
   "display_name": "Python 3",
   "language": "python",
   "name": "python3"
  },
  "language_info": {
   "codemirror_mode": {
    "name": "ipython",
    "version": 3
   },
   "file_extension": ".py",
   "mimetype": "text/x-python",
   "name": "python",
   "nbconvert_exporter": "python",
   "pygments_lexer": "ipython3",
   "version": "3.7.3"
  }
 },
 "nbformat": 4,
 "nbformat_minor": 2
}
