{
 "cells": [
  {
   "cell_type": "markdown",
   "metadata": {},
   "source": [
    "# Математика для Data Science.\n",
    "\n",
    "# Финальный тест."
   ]
  },
  {
   "cell_type": "code",
   "execution_count": 24,
   "metadata": {},
   "outputs": [],
   "source": [
    "import matplotlib.pyplot as plt\n",
    "import numpy as np\n",
    "\n",
    "from scipy.misc import derivative\n",
    "from scipy.optimize import minimize\n",
    "\n",
    "from sklearn.decomposition import TruncatedSVD"
   ]
  },
  {
   "cell_type": "markdown",
   "metadata": {},
   "source": [
    "### Задание 1"
   ]
  },
  {
   "cell_type": "markdown",
   "metadata": {},
   "source": [
    "Дана матрица рейтингов фильмов (строки - пользователи (10 человек), столбцы - фильмы (15 фильмов))"
   ]
  },
  {
   "cell_type": "code",
   "execution_count": 4,
   "metadata": {},
   "outputs": [],
   "source": [
    "raitings = [[ 4,  4,  9,  4,  1,  6, 10,  7,  9,  6,  9,  2,  8,  6,  6],\n",
    "            [ 9,  2,  5, 10,  7,  8, 10,  5,  6,  2,  1,  6,  8,  9,  7],\n",
    "            [ 1,  6,  8,  8,  4,  9,  3,  8, 10,  5,  2,  6,  8,  1,  6],\n",
    "            [ 6,  1,  9,  7,  7,  9,  2,  3,  5,  1,  6,  6,  3,  2,  7],\n",
    "            [ 3,  7,  3,  5,  7,  9,  9,  6,  2,  9,  1,  2,  8, 10,  6],\n",
    "            [ 8,  3,  7,  3,  8,  6,  1,  8,  8,  6,  1,  9,  4, 10,  1],\n",
    "            [ 9,  8,  4,  8,  8, 10,  6,  1,  1,  2,  9,  5,  2,  7,  2],\n",
    "            [ 4,  1,  6,  4,  3, 10,  4,  4,  2,  8,  7,  9,  3,  8,  3],\n",
    "            [ 2,  7,  7,  6, 10,  6,  8,  9,  8,  6, 10,  1,  7, 10,  4],\n",
    "            [ 5, 10,  8,  8,  9,  7,  2,  9,  9, 10,  8,  8,  8,  6, 10]]"
   ]
  },
  {
   "cell_type": "markdown",
   "metadata": {},
   "source": [
    "<b> a) </b> Необходимо найти наиболее похожего пользователя по косинусной метрике для каждого из (ответ: 10 пар вида (x, y), где y - наиболее похожий пользователь на пользователя x)."
   ]
  },
  {
   "cell_type": "code",
   "execution_count": 20,
   "metadata": {},
   "outputs": [],
   "source": [
    "def cosine_similarity ( a, b ):\n",
    "    aLength = np.linalg.norm( a )\n",
    "    bLength = np.linalg.norm( b )\n",
    "    return np.dot( a, b ) / ( aLength * bLength )"
   ]
  },
  {
   "cell_type": "code",
   "execution_count": 21,
   "metadata": {},
   "outputs": [
    {
     "name": "stdout",
     "output_type": "stream",
     "text": [
      "[[0, 8], [1, 4], [2, 9], [3, 9], [4, 8], [5, 9], [6, 3], [7, 5], [8, 0], [9, 2]]\n"
     ]
    }
   ],
   "source": [
    "pairs = []\n",
    "for j in range(len(raitings)):\n",
    "    next_user_stats=raitings[j]\n",
    "    cos_max=0\n",
    "    ind=-1\n",
    "    for i in range(len(raitings)):\n",
    "        if i == j: continue\n",
    "        if(cosine_similarity( next_user_stats, raitings[i] ) > cos_max):\n",
    "            cos_max=cosine_similarity( next_user_stats, raitings[i] )\n",
    "            ind=i\n",
    "    pairs.append([j, ind])\n",
    "print(pairs)"
   ]
  },
  {
   "cell_type": "markdown",
   "metadata": {},
   "source": [
    "<b> b) </b>Предположим, вы захотели сжать признаковые описания пользователя с 15 фильмов, до, скажем, 5-ти признаков, как вы это сделаете?"
   ]
  },
  {
   "cell_type": "code",
   "execution_count": 22,
   "metadata": {},
   "outputs": [
    {
     "data": {
      "text/plain": [
       "array([[23.41982063, -5.36092136,  3.83196779, -4.06950174,  1.10267269],\n",
       "       [24.76774917,  4.52188701,  1.35815965,  1.58128545,  8.59912002],\n",
       "       [22.27728589, -6.96492049, -4.84461485, -0.47661647,  3.37152266],\n",
       "       [19.4257757 ,  2.64575227, -6.86014009, -4.76604765,  1.96075707],\n",
       "       [22.8146354 ,  0.51464093,  7.70180188,  4.42379773,  1.29124163],\n",
       "       [21.76961656,  1.94294987, -4.56934779,  8.32306487, -2.21887359],\n",
       "       [21.23427453,  9.78047778,  1.16340271, -4.86074521, -2.60815471],\n",
       "       [19.97476815,  4.00048677, -1.67456316,  1.1512346 , -3.5637169 ],\n",
       "       [26.39306998, -3.03090482,  5.86422753, -1.67503491, -3.71500141],\n",
       "       [29.94016844, -4.82012297, -3.48912415,  0.05527083, -3.62526487]])"
      ]
     },
     "execution_count": 22,
     "metadata": {},
     "output_type": "execute_result"
    }
   ],
   "source": [
    "svd = TruncatedSVD(n_components=5)\n",
    "X_reduced = svd.fit_transform(raitings)\n",
    "X_reduced"
   ]
  },
  {
   "cell_type": "markdown",
   "metadata": {},
   "source": [
    "### Задание 2"
   ]
  },
  {
   "cell_type": "markdown",
   "metadata": {},
   "source": [
    "Вычислите производную $tg^2(sin(x) + cos(2x+3))$ в точке $x_0=1$ на python и на бумаге (просто подставить точку в производную и ничего не упрощать)."
   ]
  },
  {
   "cell_type": "markdown",
   "metadata": {},
   "source": [
    "Тангенс представлен степенной функцией, поэтому берем производную по правилу $(X^p)'= pX^p-^1$ ,\n",
    "\n",
    "а затем умножаем на производную тангенса: $F'(x) = tg^2(x) = 2tg(x) / (tgx)' = 2tg(x) / cos^2x $"
   ]
  },
  {
   "cell_type": "markdown",
   "metadata": {},
   "source": [
    "x0=1\n",
    "\n",
    "\n",
    "$F'(x0) = tg^2(sin(x) + cos(2x+3)) = 2tg(sin(x) + cos(2x+3))/cos^2(sin(x) + cos(2x+3)) = 2tg (sin1 + cos6) / cos^2(sin1 + cos6) $"
   ]
  },
  {
   "cell_type": "code",
   "execution_count": 30,
   "metadata": {},
   "outputs": [],
   "source": [
    "from scipy.optimize import approx_fprime\n",
    "\n",
    "def func(x, c0):\n",
    "    return np.tan(np.sin(c0*x[0]) + np.cos(2*(c0*x[0]) + 3))**2"
   ]
  },
  {
   "cell_type": "code",
   "execution_count": 31,
   "metadata": {},
   "outputs": [
    {
     "data": {
      "text/plain": [
       "array([55.3859244])"
      ]
     },
     "execution_count": 31,
     "metadata": {},
     "output_type": "execute_result"
    }
   ],
   "source": [
    "x = np.ones(1)\n",
    "c0 = (1)\n",
    "eps = np.sqrt(np.finfo(float).eps)\n",
    "approx_fprime(x, func, [eps, eps], c0)"
   ]
  },
  {
   "cell_type": "markdown",
   "metadata": {},
   "source": [
    "### Задание 3"
   ]
  },
  {
   "cell_type": "markdown",
   "metadata": {},
   "source": [
    "Дана функция с неизвестными параметрами a и b, вам также известны значения функции fx в точках x. Найдите оптимальные параметры a, b, минимизирующие абсолютную ошибку <b>error</b>"
   ]
  },
  {
   "cell_type": "code",
   "execution_count": 39,
   "metadata": {},
   "outputs": [],
   "source": [
    "import matplotlib.pyplot as plt\n",
    "from scipy.optimize import minimize\n",
    "%matplotlib inline"
   ]
  },
  {
   "cell_type": "code",
   "execution_count": 33,
   "metadata": {},
   "outputs": [],
   "source": [
    "def f(x, a, b):\n",
    "    return np.e**a * np.sin(b*x) + x"
   ]
  },
  {
   "cell_type": "code",
   "execution_count": 34,
   "metadata": {},
   "outputs": [],
   "source": [
    "x = [0.        , 0.26315789, 0.52631579, 0.78947368, 1.05263158,\n",
    "       1.31578947, 1.57894737, 1.84210526, 2.10526316, 2.36842105,\n",
    "       2.63157895, 2.89473684, 3.15789474, 3.42105263, 3.68421053,\n",
    "       3.94736842, 4.21052632, 4.47368421, 4.73684211, 5.        ]"
   ]
  },
  {
   "cell_type": "code",
   "execution_count": 35,
   "metadata": {},
   "outputs": [],
   "source": [
    "fx = [  0.        , -12.01819092, -18.90968634, -17.68786571,\n",
    "        -8.7529108 ,   4.27524517,  16.06801336,  21.81250213,\n",
    "        19.22059845,   9.48411207,  -3.22273056, -13.48576488,\n",
    "       -16.91096359, -11.95866834,  -0.58630088,  12.56873816,\n",
    "        22.12489421,  24.20292139,  18.04522521,   6.33211092]"
   ]
  },
  {
   "cell_type": "code",
   "execution_count": 36,
   "metadata": {},
   "outputs": [
    {
     "data": {
      "image/png": "[encoded data removed]",
      "text/plain": [
       "<Figure size 432x288 with 1 Axes>"
      ]
     },
     "metadata": {
      "needs_background": "light"
     },
     "output_type": "display_data"
    }
   ],
   "source": [
    "plt.plot(x, fx)\n",
    "plt.show()"
   ]
  },
  {
   "cell_type": "code",
   "execution_count": 37,
   "metadata": {},
   "outputs": [],
   "source": [
    "def error(params):\n",
    "    return np.sum(np.abs(fx - f(x, params[0], params[1])))"
   ]
  },
  {
   "cell_type": "code",
   "execution_count": 43,
   "metadata": {},
   "outputs": [
    {
     "name": "stdout",
     "output_type": "stream",
     "text": [
      "Optimization terminated successfully.\n",
      "         Current function value: 244.490075\n",
      "         Iterations: 108\n",
      "         Function evaluations: 207\n",
      "parametr a,b: [2.75787609 9.45434802]\n"
     ]
    },
    {
     "data": {
      "image/png": "[encoded data removed]",
      "text/plain": [
       "<Figure size 432x288 with 1 Axes>"
      ]
     },
     "metadata": {
      "needs_background": "light"
     },
     "output_type": "display_data"
    }
   ],
   "source": [
    "def f1(params, x, fx):\n",
    "    return np.sum(np.abs(fx - f(x, params[0], params[1])))\n",
    "\n",
    "x=np.array(x)\n",
    "res = minimize(f1, [2.5, 9], args=(x, fx), method='nelder-mead', options={'xtol': 1e-6, 'disp': True})\n",
    "print('parametr a,b:',res.x)\n",
    "xx1=np.linspace(x.min(),x.max(),10)\n",
    "yy1=f(xx1,res.x[0], res.x[1])\n",
    "fig, ax = plt.subplots ()\n",
    "plt.plot(xx1, yy1,'r-',label='approximation')\n",
    "plt.plot(x, fx,'bo',label='data points')\n",
    "plt.legend ()\n",
    "plt.show()"
   ]
  },
  {
   "cell_type": "markdown",
   "metadata": {},
   "source": [
    "### Задание 4"
   ]
  },
  {
   "cell_type": "markdown",
   "metadata": {},
   "source": [
    "Создайте собственную дискретную случайную величину с 20 значениями. Сгенерируйте 1000 выборок размера 50. Посчитайте среднее для каждой выборки. Постройте гистограмму распределения средних."
   ]
  },
  {
   "cell_type": "code",
   "execution_count": 45,
   "metadata": {},
   "outputs": [],
   "source": [
    "from scipy.stats import rv_discrete\n",
    "import seaborn as sns"
   ]
  },
  {
   "cell_type": "code",
   "execution_count": 46,
   "metadata": {},
   "outputs": [
    {
     "data": {
      "image/png": "[encoded data removed]",
      "text/plain": [
       "<Figure size 432x288 with 1 Axes>"
      ]
     },
     "metadata": {
      "needs_background": "light"
     },
     "output_type": "display_data"
    }
   ],
   "source": [
    "val = [i+1 for i in range(20)]\n",
    "probabilities = [1/20. for i in range(20)]\n",
    "mas_val = []\n",
    "for i in range(1000):\n",
    "    distrib = rv_discrete(values=(val, probabilities))\n",
    "    a = distrib.rvs(size=50)\n",
    "    mas_val.append(np.mean(a))\n",
    "sns_plot = sns.distplot(mas_val, bins=20)\n",
    "fig = sns_plot.get_figure()"
   ]
  },
  {
   "cell_type": "markdown",
   "metadata": {},
   "source": [
    "### Задание 5"
   ]
  },
  {
   "cell_type": "markdown",
   "metadata": {},
   "source": [
    "Найдите собственные значения и собственные вектора матрицы (на python и на бумаге)\n",
    "\n",
    "[[1, 4],\n",
    "\n",
    " [1, 1]]"
   ]
  },
  {
   "cell_type": "code",
   "execution_count": 47,
   "metadata": {
    "scrolled": true
   },
   "outputs": [
    {
     "name": "stdout",
     "output_type": "stream",
     "text": [
      "[[1 4]\n",
      " [1 1]]\n"
     ]
    }
   ],
   "source": [
    "m = np.array([[1, 4],\n",
    "              [1, 1]])\n",
    "print(m)"
   ]
  },
  {
   "cell_type": "markdown",
   "metadata": {},
   "source": [
    "Функция linalg.eig() вычисляет собственные числа (значения) и собственные векторы квадратной матрицы.\n",
    "\n",
    "Собственное число квадратной матрицы a и ее собственный вектор связаны равенством np.dot(a, v) = w*v.\n",
    "\n",
    "Если у матрицы несколько собственных чисел и соответственно несколько собственных векторов, то данная функция возвращает массив собственных значений и массив собственных векторов (необязательно упорядоченных). В этом случае выполняются равенства np.dot(a[:,:], v[:,i]) = w[i] * v[:,i], для всех i из интервала [0, ..., M - 1], где M - размер матрицы.\n",
    "\n",
    "w - массив NumPy\n",
    "Собственные числа входной матрицы.\n",
    "\n",
    "v - массив NumPy\n",
    "Собственные векторы входной матрицы."
   ]
  },
  {
   "cell_type": "code",
   "execution_count": 53,
   "metadata": {},
   "outputs": [
    {
     "name": "stdout",
     "output_type": "stream",
     "text": [
      "Собственное число: 3.0000000000000004\n",
      "Собственный вектор: [ 0.89442719 -0.89442719]\n",
      "Собственное число: -0.9999999999999996\n",
      "Собственный вектор: [0.4472136 0.4472136]\n"
     ]
    }
   ],
   "source": [
    "w, v = np.linalg.eig((m))\n",
    "for i in range(len(w)):\n",
    "    print(\"Собственное число: \" + str(w[i]))\n",
    "    print(\"Собственный вектор: \" + str(v[i]))"
   ]
  }
 ],
 "metadata": {
  "kernelspec": {
   "display_name": "Python 3",
   "language": "python",
   "name": "python3"
  },
  "language_info": {
   "codemirror_mode": {
    "name": "ipython",
    "version": 3
   },
   "file_extension": ".py",
   "mimetype": "text/x-python",
   "name": "python",
   "nbconvert_exporter": "python",
   "pygments_lexer": "ipython3",
   "version": "3.7.3"
  }
 },
 "nbformat": 4,
 "nbformat_minor": 2
}
