{
  "nbformat": 4,
  "nbformat_minor": 0,
  "metadata": {
    "kernelspec": {
      "display_name": "Python 3",
      "language": "python",
      "name": "python3"
    },
    "language_info": {
      "codemirror_mode": {
        "name": "ipython",
        "version": 3
      },
      "file_extension": ".py",
      "mimetype": "text/x-python",
      "name": "python",
      "nbconvert_exporter": "python",
      "pygments_lexer": "ipython3",
      "version": "3.6.8"
    },
    "colab": {
      "name": "DZ_ka4estvo_modeli.ipynb",
      "provenance": [],
      "collapsed_sections": [],
      "include_colab_link": true
    }
  },
  "cells": [
    {
      "cell_type": "markdown",
      "metadata": {
        "id": "view-in-github",
        "colab_type": "text"
      },
      "source": [
        "<a href=\"https://colab.research.google.com/github/vlad98rus/-netology_pyda/blob/HomeWork-1/DZ_ka4estvo_modeli.ipynb\" target=\"_parent\"><img src=\"https://colab.research.google.com/assets/colab-badge.svg\" alt=\"Open In Colab\"/></a>"
      ]
    },
    {
      "cell_type": "markdown",
      "metadata": {
        "id": "GVGS-DOTpIbi",
        "colab_type": "text"
      },
      "source": [
        "# Домашнее задание по теме «Улучшение качества модели. Продвинутые алгоритмы классификации»"
      ]
    },
    {
      "cell_type": "markdown",
      "metadata": {
        "id": "4NUrNL-vnKKV",
        "colab_type": "text"
      },
      "source": [
        "Для выполнения домашнего задания необходимо взять boston house-prices datase (sklearn.datasets.load_boston) и сделать тоже самое для задачи регрессии (попробовать разные алгоритмы, поподбирать параметры, вывести итоговое качество)."
      ]
    },
    {
      "cell_type": "code",
      "metadata": {
        "id": "J5mlzGPVnKKk",
        "colab_type": "code",
        "colab": {}
      },
      "source": [
        "from sklearn import datasets\n",
        "from matplotlib import pyplot as plt\n",
        "from sklearn.preprocessing import StandardScaler\n",
        "from sklearn.model_selection import train_test_split, GridSearchCV\n",
        "from sklearn.linear_model import Lasso, Ridge, HuberRegressor, ElasticNet\n",
        "from sklearn.tree import DecisionTreeRegressor\n",
        "%matplotlib inline\n",
        "import numpy as np\n",
        "import pandas as pd\n",
        "import random"
      ],
      "execution_count": 0,
      "outputs": []
    },
    {
      "cell_type": "code",
      "metadata": {
        "id": "da9B4B8inKK6",
        "colab_type": "code",
        "colab": {}
      },
      "source": [
        "# обеспечиваем воспроизводимость результата\n",
        "random.seed(42)"
      ],
      "execution_count": 0,
      "outputs": []
    },
    {
      "cell_type": "code",
      "metadata": {
        "id": "wlM0aiyRnKLQ",
        "colab_type": "code",
        "colab": {
          "base_uri": "https://localhost:8080/",
          "height": 904
        },
        "outputId": "1be33ea0-d589-4e36-c117-5208433ebd91"
      },
      "source": [
        "boston = datasets.load_boston()\n",
        "print(boston.DESCR)"
      ],
      "execution_count": 8,
      "outputs": [
        {
          "output_type": "stream",
          "text": [
            ".. _boston_dataset:\n",
            "\n",
            "Boston house prices dataset\n",
            "---------------------------\n",
            "\n",
            "**Data Set Characteristics:**  \n",
            "\n",
            "    :Number of Instances: 506 \n",
            "\n",
            "    :Number of Attributes: 13 numeric/categorical predictive. Median Value (attribute 14) is usually the target.\n",
            "\n",
            "    :Attribute Information (in order):\n",
            "        - CRIM     per capita crime rate by town\n",
            "        - ZN       proportion of residential land zoned for lots over 25,000 sq.ft.\n",
            "        - INDUS    proportion of non-retail business acres per town\n",
            "        - CHAS     Charles River dummy variable (= 1 if tract bounds river; 0 otherwise)\n",
            "        - NOX      nitric oxides concentration (parts per 10 million)\n",
            "        - RM       average number of rooms per dwelling\n",
            "        - AGE      proportion of owner-occupied units built prior to 1940\n",
            "        - DIS      weighted distances to five Boston employment centres\n",
            "        - RAD      index of accessibility to radial highways\n",
            "        - TAX      full-value property-tax rate per $10,000\n",
            "        - PTRATIO  pupil-teacher ratio by town\n",
            "        - B        1000(Bk - 0.63)^2 where Bk is the proportion of blacks by town\n",
            "        - LSTAT    % lower status of the population\n",
            "        - MEDV     Median value of owner-occupied homes in $1000's\n",
            "\n",
            "    :Missing Attribute Values: None\n",
            "\n",
            "    :Creator: Harrison, D. and Rubinfeld, D.L.\n",
            "\n",
            "This is a copy of UCI ML housing dataset.\n",
            "https://archive.ics.uci.edu/ml/machine-learning-databases/housing/\n",
            "\n",
            "\n",
            "This dataset was taken from the StatLib library which is maintained at Carnegie Mellon University.\n",
            "\n",
            "The Boston house-price data of Harrison, D. and Rubinfeld, D.L. 'Hedonic\n",
            "prices and the demand for clean air', J. Environ. Economics & Management,\n",
            "vol.5, 81-102, 1978.   Used in Belsley, Kuh & Welsch, 'Regression diagnostics\n",
            "...', Wiley, 1980.   N.B. Various transformations are used in the table on\n",
            "pages 244-261 of the latter.\n",
            "\n",
            "The Boston house-price data has been used in many machine learning papers that address regression\n",
            "problems.   \n",
            "     \n",
            ".. topic:: References\n",
            "\n",
            "   - Belsley, Kuh & Welsch, 'Regression diagnostics: Identifying Influential Data and Sources of Collinearity', Wiley, 1980. 244-261.\n",
            "   - Quinlan,R. (1993). Combining Instance-Based and Model-Based Learning. In Proceedings on the Tenth International Conference of Machine Learning, 236-243, University of Massachusetts, Amherst. Morgan Kaufmann.\n",
            "\n"
          ],
          "name": "stdout"
        }
      ]
    },
    {
      "cell_type": "code",
      "metadata": {
        "id": "WEr57JnenKLn",
        "colab_type": "code",
        "colab": {
          "base_uri": "https://localhost:8080/",
          "height": 34
        },
        "outputId": "43e07d07-55ce-41b7-bcd2-1943368b3006"
      },
      "source": [
        "boston.data.shape"
      ],
      "execution_count": 9,
      "outputs": [
        {
          "output_type": "execute_result",
          "data": {
            "text/plain": [
              "(506, 13)"
            ]
          },
          "metadata": {
            "tags": []
          },
          "execution_count": 9
        }
      ]
    },
    {
      "cell_type": "code",
      "metadata": {
        "id": "St1NSwBTnKL6",
        "colab_type": "code",
        "colab": {
          "base_uri": "https://localhost:8080/",
          "height": 204
        },
        "outputId": "52d485bf-63ac-48a9-cd6b-054b15ff79f8"
      },
      "source": [
        "df = pd.DataFrame(boston.data, columns=boston.feature_names)\n",
        "df.head(5)"
      ],
      "execution_count": 10,
      "outputs": [
        {
          "output_type": "execute_result",
          "data": {
            "text/html": [
              "<div>\n",
              "<style scoped>\n",
              "    .dataframe tbody tr th:only-of-type {\n",
              "        vertical-align: middle;\n",
              "    }\n",
              "\n",
              "    .dataframe tbody tr th {\n",
              "        vertical-align: top;\n",
              "    }\n",
              "\n",
              "    .dataframe thead th {\n",
              "        text-align: right;\n",
              "    }\n",
              "</style>\n",
              "<table border=\"1\" class=\"dataframe\">\n",
              "  <thead>\n",
              "    <tr style=\"text-align: right;\">\n",
              "      <th></th>\n",
              "      <th>CRIM</th>\n",
              "      <th>ZN</th>\n",
              "      <th>INDUS</th>\n",
              "      <th>CHAS</th>\n",
              "      <th>NOX</th>\n",
              "      <th>RM</th>\n",
              "      <th>AGE</th>\n",
              "      <th>DIS</th>\n",
              "      <th>RAD</th>\n",
              "      <th>TAX</th>\n",
              "      <th>PTRATIO</th>\n",
              "      <th>B</th>\n",
              "      <th>LSTAT</th>\n",
              "    </tr>\n",
              "  </thead>\n",
              "  <tbody>\n",
              "    <tr>\n",
              "      <th>0</th>\n",
              "      <td>0.00632</td>\n",
              "      <td>18.0</td>\n",
              "      <td>2.31</td>\n",
              "      <td>0.0</td>\n",
              "      <td>0.538</td>\n",
              "      <td>6.575</td>\n",
              "      <td>65.2</td>\n",
              "      <td>4.0900</td>\n",
              "      <td>1.0</td>\n",
              "      <td>296.0</td>\n",
              "      <td>15.3</td>\n",
              "      <td>396.90</td>\n",
              "      <td>4.98</td>\n",
              "    </tr>\n",
              "    <tr>\n",
              "      <th>1</th>\n",
              "      <td>0.02731</td>\n",
              "      <td>0.0</td>\n",
              "      <td>7.07</td>\n",
              "      <td>0.0</td>\n",
              "      <td>0.469</td>\n",
              "      <td>6.421</td>\n",
              "      <td>78.9</td>\n",
              "      <td>4.9671</td>\n",
              "      <td>2.0</td>\n",
              "      <td>242.0</td>\n",
              "      <td>17.8</td>\n",
              "      <td>396.90</td>\n",
              "      <td>9.14</td>\n",
              "    </tr>\n",
              "    <tr>\n",
              "      <th>2</th>\n",
              "      <td>0.02729</td>\n",
              "      <td>0.0</td>\n",
              "      <td>7.07</td>\n",
              "      <td>0.0</td>\n",
              "      <td>0.469</td>\n",
              "      <td>7.185</td>\n",
              "      <td>61.1</td>\n",
              "      <td>4.9671</td>\n",
              "      <td>2.0</td>\n",
              "      <td>242.0</td>\n",
              "      <td>17.8</td>\n",
              "      <td>392.83</td>\n",
              "      <td>4.03</td>\n",
              "    </tr>\n",
              "    <tr>\n",
              "      <th>3</th>\n",
              "      <td>0.03237</td>\n",
              "      <td>0.0</td>\n",
              "      <td>2.18</td>\n",
              "      <td>0.0</td>\n",
              "      <td>0.458</td>\n",
              "      <td>6.998</td>\n",
              "      <td>45.8</td>\n",
              "      <td>6.0622</td>\n",
              "      <td>3.0</td>\n",
              "      <td>222.0</td>\n",
              "      <td>18.7</td>\n",
              "      <td>394.63</td>\n",
              "      <td>2.94</td>\n",
              "    </tr>\n",
              "    <tr>\n",
              "      <th>4</th>\n",
              "      <td>0.06905</td>\n",
              "      <td>0.0</td>\n",
              "      <td>2.18</td>\n",
              "      <td>0.0</td>\n",
              "      <td>0.458</td>\n",
              "      <td>7.147</td>\n",
              "      <td>54.2</td>\n",
              "      <td>6.0622</td>\n",
              "      <td>3.0</td>\n",
              "      <td>222.0</td>\n",
              "      <td>18.7</td>\n",
              "      <td>396.90</td>\n",
              "      <td>5.33</td>\n",
              "    </tr>\n",
              "  </tbody>\n",
              "</table>\n",
              "</div>"
            ],
            "text/plain": [
              "      CRIM    ZN  INDUS  CHAS    NOX  ...  RAD    TAX  PTRATIO       B  LSTAT\n",
              "0  0.00632  18.0   2.31   0.0  0.538  ...  1.0  296.0     15.3  396.90   4.98\n",
              "1  0.02731   0.0   7.07   0.0  0.469  ...  2.0  242.0     17.8  396.90   9.14\n",
              "2  0.02729   0.0   7.07   0.0  0.469  ...  2.0  242.0     17.8  392.83   4.03\n",
              "3  0.03237   0.0   2.18   0.0  0.458  ...  3.0  222.0     18.7  394.63   2.94\n",
              "4  0.06905   0.0   2.18   0.0  0.458  ...  3.0  222.0     18.7  396.90   5.33\n",
              "\n",
              "[5 rows x 13 columns]"
            ]
          },
          "metadata": {
            "tags": []
          },
          "execution_count": 10
        }
      ]
    },
    {
      "cell_type": "code",
      "metadata": {
        "id": "JytDXXLhnKMM",
        "colab_type": "code",
        "colab": {}
      },
      "source": [
        "X, y = boston['data'], boston['target']"
      ],
      "execution_count": 0,
      "outputs": []
    },
    {
      "cell_type": "code",
      "metadata": {
        "id": "RmUnRhZgnKMk",
        "colab_type": "code",
        "colab": {}
      },
      "source": [
        "# На валидацию откладываем 20%\n",
        "X_train, X_valid, y_train, y_valid = train_test_split(X, y, test_size=0.2)"
      ],
      "execution_count": 0,
      "outputs": []
    },
    {
      "cell_type": "code",
      "metadata": {
        "id": "fNOcDJRQnKM0",
        "colab_type": "code",
        "colab": {}
      },
      "source": [
        "sc = StandardScaler()\n",
        "X_train = sc.fit_transform(X_train)\n",
        "X_valid = sc.transform(X_valid)"
      ],
      "execution_count": 0,
      "outputs": []
    },
    {
      "cell_type": "markdown",
      "metadata": {
        "id": "OuxuTwfGnKND",
        "colab_type": "text"
      },
      "source": [
        "## Лассо регрессия"
      ]
    },
    {
      "cell_type": "code",
      "metadata": {
        "id": "1M2j48ErnKNI",
        "colab_type": "code",
        "colab": {}
      },
      "source": [
        "lasso_reg = Lasso()"
      ],
      "execution_count": 0,
      "outputs": []
    },
    {
      "cell_type": "code",
      "metadata": {
        "id": "dLfZaEzTnKNh",
        "colab_type": "code",
        "colab": {
          "base_uri": "https://localhost:8080/",
          "height": 357
        },
        "outputId": "507f9bc9-38ae-4477-b027-c31766a7a548"
      },
      "source": [
        "# Для лассо только один параметр можно подобрать - альфа\n",
        "lasso_params = {\n",
        "    'alpha': np.logspace(-7, 2, 1000)\n",
        "}\n",
        "grid_lasso = GridSearchCV(lasso_reg, lasso_params, cv=10, verbose=2, n_jobs=-1)\n",
        "grid_lasso.fit(X_train, y_train)"
      ],
      "execution_count": 15,
      "outputs": [
        {
          "output_type": "stream",
          "text": [
            "Fitting 10 folds for each of 1000 candidates, totalling 10000 fits\n"
          ],
          "name": "stdout"
        },
        {
          "output_type": "stream",
          "text": [
            "[Parallel(n_jobs=-1)]: Using backend LokyBackend with 2 concurrent workers.\n",
            "[Parallel(n_jobs=-1)]: Done 296 tasks      | elapsed:    2.1s\n",
            "[Parallel(n_jobs=-1)]: Done 4168 tasks      | elapsed:   10.6s\n",
            "[Parallel(n_jobs=-1)]: Done 10000 out of 10000 | elapsed:   20.8s finished\n"
          ],
          "name": "stderr"
        },
        {
          "output_type": "execute_result",
          "data": {
            "text/plain": [
              "GridSearchCV(cv=10, error_score=nan,\n",
              "             estimator=Lasso(alpha=1.0, copy_X=True, fit_intercept=True,\n",
              "                             max_iter=1000, normalize=False, positive=False,\n",
              "                             precompute=False, random_state=None,\n",
              "                             selection='cyclic', tol=0.0001, warm_start=False),\n",
              "             iid='deprecated', n_jobs=-1,\n",
              "             param_grid={'alpha': array([1.00000000e-07, 1.02096066e-07, 1.04236067e-07, 1.06420924e-07,\n",
              "       1.08651577e-07, 1...\n",
              "       6.74262224e+01, 6.88395207e+01, 7.02824426e+01, 7.17556092e+01,\n",
              "       7.32596543e+01, 7.47952252e+01, 7.63629826e+01, 7.79636013e+01,\n",
              "       7.95977700e+01, 8.12661920e+01, 8.29695852e+01, 8.47086827e+01,\n",
              "       8.64842328e+01, 8.82969996e+01, 9.01477631e+01, 9.20373200e+01,\n",
              "       9.39664831e+01, 9.59360829e+01, 9.79469667e+01, 1.00000000e+02])},\n",
              "             pre_dispatch='2*n_jobs', refit=True, return_train_score=False,\n",
              "             scoring=None, verbose=2)"
            ]
          },
          "metadata": {
            "tags": []
          },
          "execution_count": 15
        }
      ]
    },
    {
      "cell_type": "code",
      "metadata": {
        "id": "2LqtJaO_nKNw",
        "colab_type": "code",
        "colab": {
          "base_uri": "https://localhost:8080/",
          "height": 102
        },
        "outputId": "a7b0e0af-0e7f-4b8f-9ab3-2f010ab15953"
      },
      "source": [
        "print(grid_lasso.best_params_)\n",
        "print(grid_lasso.best_score_)\n",
        "print(grid_lasso.best_estimator_)"
      ],
      "execution_count": 16,
      "outputs": [
        {
          "output_type": "stream",
          "text": [
            "{'alpha': 0.04546295469532399}\n",
            "0.7236336045381833\n",
            "Lasso(alpha=0.04546295469532399, copy_X=True, fit_intercept=True, max_iter=1000,\n",
            "      normalize=False, positive=False, precompute=False, random_state=None,\n",
            "      selection='cyclic', tol=0.0001, warm_start=False)\n"
          ],
          "name": "stdout"
        }
      ]
    },
    {
      "cell_type": "markdown",
      "metadata": {
        "id": "Z3JWSdbpnKOC",
        "colab_type": "text"
      },
      "source": [
        "## Ридж-регрессия"
      ]
    },
    {
      "cell_type": "code",
      "metadata": {
        "id": "aQ-P53MsnKOG",
        "colab_type": "code",
        "colab": {}
      },
      "source": [
        "rige_reg = Ridge()"
      ],
      "execution_count": 0,
      "outputs": []
    },
    {
      "cell_type": "code",
      "metadata": {
        "id": "QKM1GHBUnKOV",
        "colab_type": "code",
        "colab": {
          "base_uri": "https://localhost:8080/",
          "height": 442
        },
        "outputId": "940ae885-8420-4572-94b5-b93f96665ac0"
      },
      "source": [
        "# Для ридж-регрессии можно еще перебрать оптимизаторы\n",
        "rige_params = {\n",
        "    'alpha': np.logspace(-7, 2, 1000),\n",
        "    'solver': ['svd', 'cholesky', 'lsqr', 'sparse_cg', 'sag', 'saga']\n",
        "}\n",
        "grid_rige = GridSearchCV(rige_reg, rige_params, cv=10, verbose=2, n_jobs=-1)\n",
        "grid_rige.fit(X_train, y_train)"
      ],
      "execution_count": 18,
      "outputs": [
        {
          "output_type": "stream",
          "text": [
            "[Parallel(n_jobs=-1)]: Using backend LokyBackend with 2 concurrent workers.\n"
          ],
          "name": "stderr"
        },
        {
          "output_type": "stream",
          "text": [
            "Fitting 10 folds for each of 6000 candidates, totalling 60000 fits\n"
          ],
          "name": "stdout"
        },
        {
          "output_type": "stream",
          "text": [
            "[Parallel(n_jobs=-1)]: Done 668 tasks      | elapsed:    1.8s\n",
            "[Parallel(n_jobs=-1)]: Done 4540 tasks      | elapsed:   11.5s\n",
            "[Parallel(n_jobs=-1)]: Done 11036 tasks      | elapsed:   27.7s\n",
            "[Parallel(n_jobs=-1)]: Done 20092 tasks      | elapsed:   50.4s\n",
            "[Parallel(n_jobs=-1)]: Done 31772 tasks      | elapsed:  1.3min\n",
            "[Parallel(n_jobs=-1)]: Done 46012 tasks      | elapsed:  1.9min\n",
            "[Parallel(n_jobs=-1)]: Done 60000 out of 60000 | elapsed:  2.5min finished\n"
          ],
          "name": "stderr"
        },
        {
          "output_type": "execute_result",
          "data": {
            "text/plain": [
              "GridSearchCV(cv=10, error_score=nan,\n",
              "             estimator=Ridge(alpha=1.0, copy_X=True, fit_intercept=True,\n",
              "                             max_iter=None, normalize=False, random_state=None,\n",
              "                             solver='auto', tol=0.001),\n",
              "             iid='deprecated', n_jobs=-1,\n",
              "             param_grid={'alpha': array([1.00000000e-07, 1.02096066e-07, 1.04236067e-07, 1.06420924e-07,\n",
              "       1.08651577e-07, 1.10928986e-07, 1.13254132e-07, 1.15628013e-07,\n",
              "       1.18051653e...\n",
              "       7.32596543e+01, 7.47952252e+01, 7.63629826e+01, 7.79636013e+01,\n",
              "       7.95977700e+01, 8.12661920e+01, 8.29695852e+01, 8.47086827e+01,\n",
              "       8.64842328e+01, 8.82969996e+01, 9.01477631e+01, 9.20373200e+01,\n",
              "       9.39664831e+01, 9.59360829e+01, 9.79469667e+01, 1.00000000e+02]),\n",
              "                         'solver': ['svd', 'cholesky', 'lsqr', 'sparse_cg',\n",
              "                                    'sag', 'saga']},\n",
              "             pre_dispatch='2*n_jobs', refit=True, return_train_score=False,\n",
              "             scoring=None, verbose=2)"
            ]
          },
          "metadata": {
            "tags": []
          },
          "execution_count": 18
        }
      ]
    },
    {
      "cell_type": "code",
      "metadata": {
        "id": "JVbsQR2UnKOk",
        "colab_type": "code",
        "colab": {
          "base_uri": "https://localhost:8080/",
          "height": 85
        },
        "outputId": "5532cac5-98e7-4526-f963-39bc2b89e017"
      },
      "source": [
        "print(grid_rige.best_params_)\n",
        "print(grid_rige.best_score_)\n",
        "print(grid_rige.best_estimator_)"
      ],
      "execution_count": 19,
      "outputs": [
        {
          "output_type": "stream",
          "text": [
            "{'alpha': 11.092898648952227, 'solver': 'sparse_cg'}\n",
            "0.7242371188047144\n",
            "Ridge(alpha=11.092898648952227, copy_X=True, fit_intercept=True, max_iter=None,\n",
            "      normalize=False, random_state=None, solver='sparse_cg', tol=0.001)\n"
          ],
          "name": "stdout"
        }
      ]
    },
    {
      "cell_type": "markdown",
      "metadata": {
        "id": "ttnwZkgEnKOz",
        "colab_type": "text"
      },
      "source": [
        "## Регрессия Хьюберта"
      ]
    },
    {
      "cell_type": "code",
      "metadata": {
        "id": "ficFm6FmnKO5",
        "colab_type": "code",
        "colab": {}
      },
      "source": [
        "huber_reg = HuberRegressor()"
      ],
      "execution_count": 0,
      "outputs": []
    },
    {
      "cell_type": "code",
      "metadata": {
        "id": "nDHHtSOJnKPL",
        "colab_type": "code",
        "colab": {
          "base_uri": "https://localhost:8080/",
          "height": 527
        },
        "outputId": "e7058a63-a098-4d55-e063-b0affc5d71fd"
      },
      "source": [
        "# Регрессия не шибко быстрая, поэтому сделаем параметров поменьше\n",
        "huber_params = {\n",
        "    'alpha': np.logspace(-7, 2, 100),\n",
        "    'epsilon': np.linspace(1.35, 2, 50)\n",
        "}\n",
        "grid_huber = GridSearchCV(huber_reg, huber_params, cv=10, verbose=2, n_jobs=-1)\n",
        "grid_huber.fit(X_train, y_train)"
      ],
      "execution_count": 21,
      "outputs": [
        {
          "output_type": "stream",
          "text": [
            "Fitting 10 folds for each of 5000 candidates, totalling 50000 fits\n"
          ],
          "name": "stdout"
        },
        {
          "output_type": "stream",
          "text": [
            "[Parallel(n_jobs=-1)]: Using backend LokyBackend with 2 concurrent workers.\n",
            "[Parallel(n_jobs=-1)]: Done 228 tasks      | elapsed:    2.1s\n",
            "[Parallel(n_jobs=-1)]: Done 1196 tasks      | elapsed:   10.8s\n",
            "[Parallel(n_jobs=-1)]: Done 2820 tasks      | elapsed:   25.5s\n",
            "[Parallel(n_jobs=-1)]: Done 5084 tasks      | elapsed:   45.7s\n",
            "[Parallel(n_jobs=-1)]: Done 8004 tasks      | elapsed:  1.2min\n",
            "[Parallel(n_jobs=-1)]: Done 11564 tasks      | elapsed:  1.7min\n",
            "[Parallel(n_jobs=-1)]: Done 15780 tasks      | elapsed:  2.4min\n",
            "[Parallel(n_jobs=-1)]: Done 20636 tasks      | elapsed:  3.1min\n",
            "[Parallel(n_jobs=-1)]: Done 26148 tasks      | elapsed:  3.9min\n",
            "[Parallel(n_jobs=-1)]: Done 32300 tasks      | elapsed:  4.8min\n",
            "[Parallel(n_jobs=-1)]: Done 39108 tasks      | elapsed:  5.8min\n",
            "[Parallel(n_jobs=-1)]: Done 46556 tasks      | elapsed:  6.8min\n",
            "[Parallel(n_jobs=-1)]: Done 50000 out of 50000 | elapsed:  7.2min finished\n"
          ],
          "name": "stderr"
        },
        {
          "output_type": "execute_result",
          "data": {
            "text/plain": [
              "GridSearchCV(cv=10, error_score=nan,\n",
              "             estimator=HuberRegressor(alpha=0.0001, epsilon=1.35,\n",
              "                                      fit_intercept=True, max_iter=100,\n",
              "                                      tol=1e-05, warm_start=False),\n",
              "             iid='deprecated', n_jobs=-1,\n",
              "             param_grid={'alpha': array([1.00000000e-07, 1.23284674e-07, 1.51991108e-07, 1.87381742e-07,\n",
              "       2.31012970e-07, 2.84803587e-07, 3.51119173e-07, 4.32876128e-07,\n",
              "       5.33669923e-07, 6.57933225e-07,...\n",
              "       1.68163265, 1.69489796, 1.70816327, 1.72142857, 1.73469388,\n",
              "       1.74795918, 1.76122449, 1.7744898 , 1.7877551 , 1.80102041,\n",
              "       1.81428571, 1.82755102, 1.84081633, 1.85408163, 1.86734694,\n",
              "       1.88061224, 1.89387755, 1.90714286, 1.92040816, 1.93367347,\n",
              "       1.94693878, 1.96020408, 1.97346939, 1.98673469, 2.        ])},\n",
              "             pre_dispatch='2*n_jobs', refit=True, return_train_score=False,\n",
              "             scoring=None, verbose=2)"
            ]
          },
          "metadata": {
            "tags": []
          },
          "execution_count": 21
        }
      ]
    },
    {
      "cell_type": "code",
      "metadata": {
        "id": "2i2vEbg7nKPb",
        "colab_type": "code",
        "colab": {
          "base_uri": "https://localhost:8080/",
          "height": 85
        },
        "outputId": "16fcc881-0d02-4e26-add5-568d136dfbdd"
      },
      "source": [
        "print(grid_huber.best_params_)\n",
        "print(grid_huber.best_score_)\n",
        "print(grid_huber.best_estimator_)"
      ],
      "execution_count": 22,
      "outputs": [
        {
          "output_type": "stream",
          "text": [
            "{'alpha': 0.43287612810830617, 'epsilon': 2.0}\n",
            "0.7203924187810251\n",
            "HuberRegressor(alpha=0.43287612810830617, epsilon=2.0, fit_intercept=True,\n",
            "               max_iter=100, tol=1e-05, warm_start=False)\n"
          ],
          "name": "stdout"
        }
      ]
    },
    {
      "cell_type": "markdown",
      "metadata": {
        "id": "RFUVQ5d8nKPo",
        "colab_type": "text"
      },
      "source": [
        "## ElasticNet регрессия\n",
        "Как и регрессия Хьюберта объединяет l1 и l2 регуляризации"
      ]
    },
    {
      "cell_type": "code",
      "metadata": {
        "id": "bhQb8YQRnKPs",
        "colab_type": "code",
        "colab": {}
      },
      "source": [
        "elast_reg = ElasticNet()"
      ],
      "execution_count": 0,
      "outputs": []
    },
    {
      "cell_type": "code",
      "metadata": {
        "id": "aRW14Cu5nKP5",
        "colab_type": "code",
        "colab": {
          "base_uri": "https://localhost:8080/",
          "height": 459
        },
        "outputId": "f1be1f14-911f-4fd0-db3f-c779f6f9dcbc"
      },
      "source": [
        "elast_params = {\n",
        "    'alpha': np.logspace(-7, 2, 200),\n",
        "    'l1_ratio': np.linspace(0, 1, 50)\n",
        "}\n",
        "grid_elast = GridSearchCV(elast_reg, elast_params, cv=10, verbose=2, n_jobs=-1)\n",
        "grid_elast.fit(X_train, y_train)"
      ],
      "execution_count": 24,
      "outputs": [
        {
          "output_type": "stream",
          "text": [
            "[Parallel(n_jobs=-1)]: Using backend LokyBackend with 2 concurrent workers.\n"
          ],
          "name": "stderr"
        },
        {
          "output_type": "stream",
          "text": [
            "Fitting 10 folds for each of 10000 candidates, totalling 100000 fits\n"
          ],
          "name": "stdout"
        },
        {
          "output_type": "stream",
          "text": [
            "[Parallel(n_jobs=-1)]: Done 668 tasks      | elapsed:    1.8s\n",
            "[Parallel(n_jobs=-1)]: Done 4540 tasks      | elapsed:   10.9s\n",
            "[Parallel(n_jobs=-1)]: Done 11036 tasks      | elapsed:   25.5s\n",
            "[Parallel(n_jobs=-1)]: Done 20092 tasks      | elapsed:   45.6s\n",
            "[Parallel(n_jobs=-1)]: Done 31772 tasks      | elapsed:  1.2min\n",
            "[Parallel(n_jobs=-1)]: Done 46012 tasks      | elapsed:  1.7min\n",
            "[Parallel(n_jobs=-1)]: Done 62876 tasks      | elapsed:  2.3min\n",
            "[Parallel(n_jobs=-1)]: Done 91516 tasks      | elapsed:  3.1min\n",
            "[Parallel(n_jobs=-1)]: Done 100000 out of 100000 | elapsed:  3.4min finished\n"
          ],
          "name": "stderr"
        },
        {
          "output_type": "execute_result",
          "data": {
            "text/plain": [
              "GridSearchCV(cv=10, error_score=nan,\n",
              "             estimator=ElasticNet(alpha=1.0, copy_X=True, fit_intercept=True,\n",
              "                                  l1_ratio=0.5, max_iter=1000, normalize=False,\n",
              "                                  positive=False, precompute=False,\n",
              "                                  random_state=None, selection='cyclic',\n",
              "                                  tol=0.0001, warm_start=False),\n",
              "             iid='deprecated', n_jobs=-1,\n",
              "             param_grid={'alpha': array([1.00000000e-07, 1.10975250e-07, 1.23155060e-07, 1.36671636e-0...\n",
              "       0.51020408, 0.53061224, 0.55102041, 0.57142857, 0.59183673,\n",
              "       0.6122449 , 0.63265306, 0.65306122, 0.67346939, 0.69387755,\n",
              "       0.71428571, 0.73469388, 0.75510204, 0.7755102 , 0.79591837,\n",
              "       0.81632653, 0.83673469, 0.85714286, 0.87755102, 0.89795918,\n",
              "       0.91836735, 0.93877551, 0.95918367, 0.97959184, 1.        ])},\n",
              "             pre_dispatch='2*n_jobs', refit=True, return_train_score=False,\n",
              "             scoring=None, verbose=2)"
            ]
          },
          "metadata": {
            "tags": []
          },
          "execution_count": 24
        }
      ]
    },
    {
      "cell_type": "code",
      "metadata": {
        "id": "D2dxRSosnKQJ",
        "colab_type": "code",
        "colab": {
          "base_uri": "https://localhost:8080/",
          "height": 119
        },
        "outputId": "b065196e-97e9-4984-a5c6-9da82d13b88c"
      },
      "source": [
        "print(grid_elast.best_params_)\n",
        "print(grid_elast.best_score_)\n",
        "print(grid_elast.best_estimator_)"
      ],
      "execution_count": 25,
      "outputs": [
        {
          "output_type": "stream",
          "text": [
            "{'alpha': 0.032929712550971546, 'l1_ratio': 0.36734693877551017}\n",
            "0.7240196499231726\n",
            "ElasticNet(alpha=0.032929712550971546, copy_X=True, fit_intercept=True,\n",
            "           l1_ratio=0.36734693877551017, max_iter=1000, normalize=False,\n",
            "           positive=False, precompute=False, random_state=None,\n",
            "           selection='cyclic', tol=0.0001, warm_start=False)\n"
          ],
          "name": "stdout"
        }
      ]
    },
    {
      "cell_type": "markdown",
      "metadata": {
        "id": "4mlqIysJnKQd",
        "colab_type": "text"
      },
      "source": [
        "## DecisionTree"
      ]
    },
    {
      "cell_type": "code",
      "metadata": {
        "id": "GBFdJ23bnKQi",
        "colab_type": "code",
        "colab": {}
      },
      "source": [
        "tree_reg = DecisionTreeRegressor()"
      ],
      "execution_count": 0,
      "outputs": []
    },
    {
      "cell_type": "code",
      "metadata": {
        "id": "2fv1nT8qnKQr",
        "colab_type": "code",
        "colab": {
          "base_uri": "https://localhost:8080/",
          "height": 408
        },
        "outputId": "4d720324-6aa9-40aa-f108-127a9b20e876"
      },
      "source": [
        "tree_params = {\n",
        "    'max_depth': range(1, 11),\n",
        "    'splitter': ['best', 'random'],\n",
        "    'criterion': ['mse', 'mae', 'friedman_mse'],\n",
        "    'min_samples_leaf': [1, 2, 4, 8, 16]\n",
        "}\n",
        "grid_tree = GridSearchCV(tree_reg, tree_params, cv=10, verbose=2, n_jobs=-1)\n",
        "grid_tree.fit(X_train, y_train)"
      ],
      "execution_count": 27,
      "outputs": [
        {
          "output_type": "stream",
          "text": [
            "Fitting 10 folds for each of 300 candidates, totalling 3000 fits\n"
          ],
          "name": "stdout"
        },
        {
          "output_type": "stream",
          "text": [
            "[Parallel(n_jobs=-1)]: Using backend LokyBackend with 2 concurrent workers.\n",
            "[Parallel(n_jobs=-1)]: Done 1084 tasks      | elapsed:    2.7s\n",
            "[Parallel(n_jobs=-1)]: Done 3000 out of 3000 | elapsed:   12.4s finished\n"
          ],
          "name": "stderr"
        },
        {
          "output_type": "execute_result",
          "data": {
            "text/plain": [
              "GridSearchCV(cv=10, error_score=nan,\n",
              "             estimator=DecisionTreeRegressor(ccp_alpha=0.0, criterion='mse',\n",
              "                                             max_depth=None, max_features=None,\n",
              "                                             max_leaf_nodes=None,\n",
              "                                             min_impurity_decrease=0.0,\n",
              "                                             min_impurity_split=None,\n",
              "                                             min_samples_leaf=1,\n",
              "                                             min_samples_split=2,\n",
              "                                             min_weight_fraction_leaf=0.0,\n",
              "                                             presort='deprecated',\n",
              "                                             random_state=None,\n",
              "                                             splitter='best'),\n",
              "             iid='deprecated', n_jobs=-1,\n",
              "             param_grid={'criterion': ['mse', 'mae', 'friedman_mse'],\n",
              "                         'max_depth': range(1, 11),\n",
              "                         'min_samples_leaf': [1, 2, 4, 8, 16],\n",
              "                         'splitter': ['best', 'random']},\n",
              "             pre_dispatch='2*n_jobs', refit=True, return_train_score=False,\n",
              "             scoring=None, verbose=2)"
            ]
          },
          "metadata": {
            "tags": []
          },
          "execution_count": 27
        }
      ]
    },
    {
      "cell_type": "code",
      "metadata": {
        "id": "7xwDSViHnKQ3",
        "colab_type": "code",
        "colab": {
          "base_uri": "https://localhost:8080/",
          "height": 153
        },
        "outputId": "533e44d4-f970-4588-b930-42a40fb9e67e"
      },
      "source": [
        "print(grid_tree.best_params_)\n",
        "print(grid_tree.best_score_)\n",
        "print(grid_tree.best_estimator_)"
      ],
      "execution_count": 28,
      "outputs": [
        {
          "output_type": "stream",
          "text": [
            "{'criterion': 'mse', 'max_depth': 8, 'min_samples_leaf': 2, 'splitter': 'random'}\n",
            "0.802412590102431\n",
            "DecisionTreeRegressor(ccp_alpha=0.0, criterion='mse', max_depth=8,\n",
            "                      max_features=None, max_leaf_nodes=None,\n",
            "                      min_impurity_decrease=0.0, min_impurity_split=None,\n",
            "                      min_samples_leaf=2, min_samples_split=2,\n",
            "                      min_weight_fraction_leaf=0.0, presort='deprecated',\n",
            "                      random_state=None, splitter='random')\n"
          ],
          "name": "stdout"
        }
      ]
    },
    {
      "cell_type": "markdown",
      "metadata": {
        "id": "dHGPssv_nKRG",
        "colab_type": "text"
      },
      "source": [
        "#### На трейн данных пока лучше всех себя показал DecisionTree"
      ]
    },
    {
      "cell_type": "markdown",
      "metadata": {
        "id": "C1spszSanKRJ",
        "colab_type": "text"
      },
      "source": [
        "## Сравниваем на валидационной выборке"
      ]
    },
    {
      "cell_type": "code",
      "metadata": {
        "id": "3qmQ7evWnKRN",
        "colab_type": "code",
        "colab": {}
      },
      "source": [
        "estimators = {\n",
        "    'lasso': grid_lasso,\n",
        "    'rige': grid_rige,\n",
        "    'huber': grid_huber,\n",
        "    'elasticNet': grid_elast,\n",
        "    'tree': grid_tree\n",
        "}"
      ],
      "execution_count": 0,
      "outputs": []
    },
    {
      "cell_type": "code",
      "metadata": {
        "id": "yvnSTfzznKRY",
        "colab_type": "code",
        "colab": {
          "base_uri": "https://localhost:8080/",
          "height": 102
        },
        "outputId": "98b26e44-563e-4fdc-a28d-3615cb09cf8b"
      },
      "source": [
        "for k in estimators:\n",
        "    v = estimators[k]\n",
        "    print(k, \"CV R^2:\", v.best_score_, \"Validation R^2:\", v.best_estimator_.score(X_valid, y_valid))"
      ],
      "execution_count": 30,
      "outputs": [
        {
          "output_type": "stream",
          "text": [
            "lasso CV R^2: 0.7236336045381833 Validation R^2: 0.6633760189790991\n",
            "rige CV R^2: 0.7242371188047144 Validation R^2: 0.6671545436571897\n",
            "huber CV R^2: 0.7203924187810251 Validation R^2: 0.6759996706983933\n",
            "elasticNet CV R^2: 0.7240196499231726 Validation R^2: 0.666480650986705\n",
            "tree CV R^2: 0.802412590102431 Validation R^2: 0.6941224054431695\n"
          ],
          "name": "stdout"
        }
      ]
    },
    {
      "cell_type": "markdown",
      "metadata": {
        "id": "zI4k4hUCnKRp",
        "colab_type": "text"
      },
      "source": [
        "#### Лучше всего показало себя DecisionTree"
      ]
    },
    {
      "cell_type": "markdown",
      "metadata": {
        "id": "sfsCl93SnKRs",
        "colab_type": "text"
      },
      "source": [
        "## Выводим ниши результаты"
      ]
    },
    {
      "cell_type": "code",
      "metadata": {
        "id": "Ik30xl56nKRv",
        "colab_type": "code",
        "colab": {}
      },
      "source": [
        "y_pred = grid_tree.best_estimator_.predict(X_valid)"
      ],
      "execution_count": 0,
      "outputs": []
    },
    {
      "cell_type": "code",
      "metadata": {
        "id": "RtqOFy03nKR4",
        "colab_type": "code",
        "colab": {
          "base_uri": "https://localhost:8080/",
          "height": 514
        },
        "outputId": "d5993688-f0a6-4a2d-c9d4-a944955ce093"
      },
      "source": [
        "compare = pd.DataFrame(y_pred, columns=['Предсказание'])\n",
        "compare['Реальность'] = y_valid\n",
        "compare['Разница'] = compare['Реальность'] - compare['Предсказание']\n",
        "compare['Разница, %'] = 100*compare['Разница']/compare['Реальность']\n",
        "compare.head(15)"
      ],
      "execution_count": 32,
      "outputs": [
        {
          "output_type": "execute_result",
          "data": {
            "text/html": [
              "<div>\n",
              "<style scoped>\n",
              "    .dataframe tbody tr th:only-of-type {\n",
              "        vertical-align: middle;\n",
              "    }\n",
              "\n",
              "    .dataframe tbody tr th {\n",
              "        vertical-align: top;\n",
              "    }\n",
              "\n",
              "    .dataframe thead th {\n",
              "        text-align: right;\n",
              "    }\n",
              "</style>\n",
              "<table border=\"1\" class=\"dataframe\">\n",
              "  <thead>\n",
              "    <tr style=\"text-align: right;\">\n",
              "      <th></th>\n",
              "      <th>Предсказание</th>\n",
              "      <th>Реальность</th>\n",
              "      <th>Разница</th>\n",
              "      <th>Разница, %</th>\n",
              "    </tr>\n",
              "  </thead>\n",
              "  <tbody>\n",
              "    <tr>\n",
              "      <th>0</th>\n",
              "      <td>19.434694</td>\n",
              "      <td>17.5</td>\n",
              "      <td>-1.934694</td>\n",
              "      <td>-11.055394</td>\n",
              "    </tr>\n",
              "    <tr>\n",
              "      <th>1</th>\n",
              "      <td>19.434694</td>\n",
              "      <td>15.6</td>\n",
              "      <td>-3.834694</td>\n",
              "      <td>-24.581371</td>\n",
              "    </tr>\n",
              "    <tr>\n",
              "      <th>2</th>\n",
              "      <td>7.200000</td>\n",
              "      <td>13.8</td>\n",
              "      <td>6.600000</td>\n",
              "      <td>47.826087</td>\n",
              "    </tr>\n",
              "    <tr>\n",
              "      <th>3</th>\n",
              "      <td>24.419444</td>\n",
              "      <td>23.9</td>\n",
              "      <td>-0.519444</td>\n",
              "      <td>-2.173408</td>\n",
              "    </tr>\n",
              "    <tr>\n",
              "      <th>4</th>\n",
              "      <td>9.720000</td>\n",
              "      <td>16.3</td>\n",
              "      <td>6.580000</td>\n",
              "      <td>40.368098</td>\n",
              "    </tr>\n",
              "    <tr>\n",
              "      <th>5</th>\n",
              "      <td>23.866667</td>\n",
              "      <td>27.0</td>\n",
              "      <td>3.133333</td>\n",
              "      <td>11.604938</td>\n",
              "    </tr>\n",
              "    <tr>\n",
              "      <th>6</th>\n",
              "      <td>19.434694</td>\n",
              "      <td>19.8</td>\n",
              "      <td>0.365306</td>\n",
              "      <td>1.844980</td>\n",
              "    </tr>\n",
              "    <tr>\n",
              "      <th>7</th>\n",
              "      <td>30.900000</td>\n",
              "      <td>35.4</td>\n",
              "      <td>4.500000</td>\n",
              "      <td>12.711864</td>\n",
              "    </tr>\n",
              "    <tr>\n",
              "      <th>8</th>\n",
              "      <td>21.962500</td>\n",
              "      <td>21.1</td>\n",
              "      <td>-0.862500</td>\n",
              "      <td>-4.087678</td>\n",
              "    </tr>\n",
              "    <tr>\n",
              "      <th>9</th>\n",
              "      <td>21.962500</td>\n",
              "      <td>24.4</td>\n",
              "      <td>2.437500</td>\n",
              "      <td>9.989754</td>\n",
              "    </tr>\n",
              "    <tr>\n",
              "      <th>10</th>\n",
              "      <td>22.070000</td>\n",
              "      <td>26.6</td>\n",
              "      <td>4.530000</td>\n",
              "      <td>17.030075</td>\n",
              "    </tr>\n",
              "    <tr>\n",
              "      <th>11</th>\n",
              "      <td>19.434694</td>\n",
              "      <td>19.1</td>\n",
              "      <td>-0.334694</td>\n",
              "      <td>-1.752324</td>\n",
              "    </tr>\n",
              "    <tr>\n",
              "      <th>12</th>\n",
              "      <td>33.323077</td>\n",
              "      <td>32.0</td>\n",
              "      <td>-1.323077</td>\n",
              "      <td>-4.134615</td>\n",
              "    </tr>\n",
              "    <tr>\n",
              "      <th>13</th>\n",
              "      <td>9.720000</td>\n",
              "      <td>17.1</td>\n",
              "      <td>7.380000</td>\n",
              "      <td>43.157895</td>\n",
              "    </tr>\n",
              "    <tr>\n",
              "      <th>14</th>\n",
              "      <td>14.900000</td>\n",
              "      <td>11.7</td>\n",
              "      <td>-3.200000</td>\n",
              "      <td>-27.350427</td>\n",
              "    </tr>\n",
              "  </tbody>\n",
              "</table>\n",
              "</div>"
            ],
            "text/plain": [
              "    Предсказание  Реальность   Разница  Разница, %\n",
              "0      19.434694        17.5 -1.934694  -11.055394\n",
              "1      19.434694        15.6 -3.834694  -24.581371\n",
              "2       7.200000        13.8  6.600000   47.826087\n",
              "3      24.419444        23.9 -0.519444   -2.173408\n",
              "4       9.720000        16.3  6.580000   40.368098\n",
              "5      23.866667        27.0  3.133333   11.604938\n",
              "6      19.434694        19.8  0.365306    1.844980\n",
              "7      30.900000        35.4  4.500000   12.711864\n",
              "8      21.962500        21.1 -0.862500   -4.087678\n",
              "9      21.962500        24.4  2.437500    9.989754\n",
              "10     22.070000        26.6  4.530000   17.030075\n",
              "11     19.434694        19.1 -0.334694   -1.752324\n",
              "12     33.323077        32.0 -1.323077   -4.134615\n",
              "13      9.720000        17.1  7.380000   43.157895\n",
              "14     14.900000        11.7 -3.200000  -27.350427"
            ]
          },
          "metadata": {
            "tags": []
          },
          "execution_count": 32
        }
      ]
    },
    {
      "cell_type": "code",
      "metadata": {
        "id": "16L4Jqv-nKSD",
        "colab_type": "code",
        "colab": {
          "base_uri": "https://localhost:8080/",
          "height": 34
        },
        "outputId": "c0c16def-76c3-4bfd-b6b1-8c5124f9f0e0"
      },
      "source": [
        "(compare['Разница, %'].max(), compare['Разница, %'].min())"
      ],
      "execution_count": 33,
      "outputs": [
        {
          "output_type": "execute_result",
          "data": {
            "text/plain": [
              "(56.65, -87.6802096985583)"
            ]
          },
          "metadata": {
            "tags": []
          },
          "execution_count": 33
        }
      ]
    }
  ]
}