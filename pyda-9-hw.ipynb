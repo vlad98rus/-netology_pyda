{
 "cells": [
  {
   "cell_type": "markdown",
   "metadata": {},
   "source": [
    "## Домашняя работа №9. Оптимизация вычислений в Python и большие данные"
   ]
  },
  {
   "cell_type": "markdown",
   "metadata": {},
   "source": [
    "### Задание 1\n",
    "\n",
    "Напишите функцию date_range, которая возвращает список дней между датами start_date и end_date. Даты должны вводиться в формате YYYY-MM-DD."
   ]
  },
  {
   "cell_type": "code",
   "execution_count": 21,
   "metadata": {},
   "outputs": [
    {
     "name": "stdout",
     "output_type": "stream",
     "text": [
      "List of dates: [datetime.datetime(2019, 12, 30, 0, 0), datetime.datetime(2019, 12, 31, 0, 0), datetime.datetime(2020, 1, 1, 0, 0), datetime.datetime(2020, 1, 2, 0, 0), datetime.datetime(2020, 1, 3, 0, 0), datetime.datetime(2020, 1, 4, 0, 0)]\n"
     ]
    }
   ],
   "source": [
    "from datetime import datetime, timedelta\n",
    "import calendar\n",
    "\n",
    "def date_range(start_date, end_date):\n",
    "    \n",
    "    start_date = datetime.strptime(start_date, '%Y-%m-%d')\n",
    "    end_date = datetime.strptime(end_date, '%Y-%m-%d')\n",
    "\n",
    "    for i in range((end_date - start_date).days):\n",
    "        yield start_date + timedelta(days=i)\n",
    "\n",
    "\n",
    "start = '2019-12-30'\n",
    "end = '2020-01-05'\n",
    "\n",
    "print(f'List of dates: {list(date_range(start_date=start, end_date=end))}')"
   ]
  },
  {
   "cell_type": "markdown",
   "metadata": {},
   "source": [
    "### Задание 2\n",
    "\n",
    "Дополните функцию из первого задания проверкой на корректность дат. В случае неверного формата или если start_date > end_date должен возвращаться пустой список."
   ]
  },
  {
   "cell_type": "code",
   "execution_count": 25,
   "metadata": {},
   "outputs": [
    {
     "name": "stdout",
     "output_type": "stream",
     "text": [
      "List of dates with validation: []\n"
     ]
    }
   ],
   "source": [
    "def date_range_with_validation(start_date, end_date):\n",
    "    \n",
    "    try:\n",
    "        \n",
    "        start_date = datetime.strptime(start_date, '%Y-%m-%d')\n",
    "        end_date = datetime.strptime(end_date, '%Y-%m-%d')\n",
    "        \n",
    "    except ValueError:\n",
    "        return []\n",
    "\n",
    "    for i in range((end_date - start_date).days):\n",
    "        yield start_date + timedelta(days=i)\n",
    "\n",
    "\n",
    "start = '2019-10-10'\n",
    "end = '2019-10-05'\n",
    "\n",
    "print(f'List of dates with validation: {list(date_range_with_validation(start_date=start, end_date=end))}')"
   ]
  },
  {
   "cell_type": "markdown",
   "metadata": {},
   "source": [
    "### Задание 3\n",
    "\n",
    "Дан поток дат в формате YYYY-MM-DD, в которых встречаются некорректные значения:\n",
    "stream = ['2018-04-02', '2018-02-29', '2018-19-02']\n",
    "\n",
    "Напишите функцию, которая проверяет эти даты на корректность. Т. е. для каждой даты возвращает True (дата корректна) или False (некорректная дата). "
   ]
  },
  {
   "cell_type": "code",
   "execution_count": 26,
   "metadata": {},
   "outputs": [
    {
     "name": "stdout",
     "output_type": "stream",
     "text": [
      "Сheck valid dates\n",
      "Is date 2018-04-02 valid? Answer: Yes\n",
      "Is date 2018-02-29 valid? Answer: No\n",
      "Is date 2018-19-02 valid? Answer: No\n"
     ]
    }
   ],
   "source": [
    "def validate_date(date_str, format='%Y-%m-%d'):\n",
    "    try:\n",
    "        datetime.strptime(date_str, format)\n",
    "    except ValueError:\n",
    "        return False\n",
    "\n",
    "    return True\n",
    "\n",
    "\n",
    "print('Сheck valid dates')\n",
    "stream = ['2018-04-02', '2018-02-29', '2018-19-02']\n",
    "for date_str in stream:\n",
    "    print(f'Is date {date_str} valid? Answer: {\"Yes\" if validate_date(date_str) else \"No\"}')"
   ]
  },
  {
   "cell_type": "markdown",
   "metadata": {},
   "source": [
    "### Задание 4\n",
    "\n",
    "В последнем примере поиска по словарю мы использовали 3 столбца. Напишите функцию, которая формирует словарь для поиска по n столбцам.\n"
   ]
  },
  {
   "cell_type": "code",
   "execution_count": 27,
   "metadata": {},
   "outputs": [
    {
     "data": {
      "text/plain": [
       "{('14',): ['26376', '3', '13301'],\n",
       " ('12',): ['7316', '2', '19329'],\n",
       " ('28',): [],\n",
       " ('25',): ['22022', '2', '94036'],\n",
       " ('20',): ['13883', '5', '50722']}"
      ]
     },
     "execution_count": 27,
     "metadata": {},
     "output_type": "execute_result"
    }
   ],
   "source": [
    "def create_hash_map(vectors, n = 1):\n",
    "    result = {}\n",
    "    \n",
    "    for vector in vectors:\n",
    "        hash_key = tuple(vector[:n])\n",
    "        result[hash_key] = vector[n:]\n",
    "        \n",
    "    return result\n",
    "\n",
    "data = [\n",
    "    ['14', '26376', '3', '13301'],\n",
    "    ['12', '7316', '2', '19329'],\n",
    "    ['28'],\n",
    "    ['25', '22022', '2', '94036'],\n",
    "    ['20', '13883', '5', '50722'],\n",
    "]\n",
    "\n",
    "create_hash_map(data)"
   ]
  }
 ],
 "metadata": {
  "kernelspec": {
   "display_name": "Python 3",
   "language": "python",
   "name": "python3"
  },
  "language_info": {
   "codemirror_mode": {
    "name": "ipython",
    "version": 3
   },
   "file_extension": ".py",
   "mimetype": "text/x-python",
   "name": "python",
   "nbconvert_exporter": "python",
   "pygments_lexer": "ipython3",
   "version": "3.7.3"
  }
 },
 "nbformat": 4,
 "nbformat_minor": 2
}
