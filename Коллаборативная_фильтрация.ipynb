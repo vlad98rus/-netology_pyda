{
  "nbformat": 4,
  "nbformat_minor": 0,
  "metadata": {
    "kernelspec": {
      "display_name": "Python 3",
      "language": "python",
      "name": "python3"
    },
    "language_info": {
      "codemirror_mode": {
        "name": "ipython",
        "version": 3
      },
      "file_extension": ".py",
      "mimetype": "text/x-python",
      "name": "python",
      "nbconvert_exporter": "python",
      "pygments_lexer": "ipython3",
      "version": "3.7.2"
    },
    "latex_envs": {
      "LaTeX_envs_menu_present": true,
      "autoclose": false,
      "autocomplete": true,
      "bibliofile": "biblio.bib",
      "cite_by": "apalike",
      "current_citInitial": 1,
      "eqLabelWithNumbers": true,
      "eqNumInitial": 1,
      "hotkeys": {
        "equation": "Ctrl-E",
        "itemize": "Ctrl-I"
      },
      "labels_anchors": false,
      "latex_user_defs": false,
      "report_style_numbering": false,
      "user_envs_cfg": false
    },
    "toc": {
      "base_numbering": 1,
      "nav_menu": {},
      "number_sections": true,
      "sideBar": true,
      "skip_h1_title": false,
      "title_cell": "Table of Contents",
      "title_sidebar": "Contents",
      "toc_cell": false,
      "toc_position": {},
      "toc_section_display": true,
      "toc_window_display": false
    },
    "colab": {
      "name": "Коллаборативная фильтрация.ipynb",
      "provenance": [],
      "toc_visible": true,
      "include_colab_link": true
    },
    "widgets": {
      "application/vnd.jupyter.widget-state+json": {
        "ba92e1d5b7ab46fab3599592418b74a4": {
          "model_module": "@jupyter-widgets/controls",
          "model_name": "HBoxModel",
          "state": {
            "_view_name": "HBoxView",
            "_dom_classes": [],
            "_model_name": "HBoxModel",
            "_view_module": "@jupyter-widgets/controls",
            "_model_module_version": "1.5.0",
            "_view_count": null,
            "_view_module_version": "1.5.0",
            "box_style": "",
            "layout": "IPY_MODEL_6289a66fc38a404ba83cdfc68418dc38",
            "_model_module": "@jupyter-widgets/controls",
            "children": [
              "IPY_MODEL_eea6975dabbf4ffcb4f3a0c1187cc866",
              "IPY_MODEL_bc0f207d0bf44a1db6432c3f28b3c8c8"
            ]
          }
        },
        "6289a66fc38a404ba83cdfc68418dc38": {
          "model_module": "@jupyter-widgets/base",
          "model_name": "LayoutModel",
          "state": {
            "_view_name": "LayoutView",
            "grid_template_rows": null,
            "right": null,
            "justify_content": null,
            "_view_module": "@jupyter-widgets/base",
            "overflow": null,
            "_model_module_version": "1.2.0",
            "_view_count": null,
            "flex_flow": null,
            "width": null,
            "min_width": null,
            "border": null,
            "align_items": null,
            "bottom": null,
            "_model_module": "@jupyter-widgets/base",
            "top": null,
            "grid_column": null,
            "overflow_y": null,
            "overflow_x": null,
            "grid_auto_flow": null,
            "grid_area": null,
            "grid_template_columns": null,
            "flex": null,
            "_model_name": "LayoutModel",
            "justify_items": null,
            "grid_row": null,
            "max_height": null,
            "align_content": null,
            "visibility": null,
            "align_self": null,
            "height": null,
            "min_height": null,
            "padding": null,
            "grid_auto_rows": null,
            "grid_gap": null,
            "max_width": null,
            "order": null,
            "_view_module_version": "1.2.0",
            "grid_template_areas": null,
            "object_position": null,
            "object_fit": null,
            "grid_auto_columns": null,
            "margin": null,
            "display": null,
            "left": null
          }
        },
        "eea6975dabbf4ffcb4f3a0c1187cc866": {
          "model_module": "@jupyter-widgets/controls",
          "model_name": "FloatProgressModel",
          "state": {
            "_view_name": "ProgressView",
            "style": "IPY_MODEL_cc564af9d1554092b00d75cb38be7a13",
            "_dom_classes": [],
            "description": "",
            "_model_name": "FloatProgressModel",
            "bar_style": "success",
            "max": 1,
            "_view_module": "@jupyter-widgets/controls",
            "_model_module_version": "1.5.0",
            "value": 1,
            "_view_count": null,
            "_view_module_version": "1.5.0",
            "orientation": "horizontal",
            "min": 0,
            "description_tooltip": null,
            "_model_module": "@jupyter-widgets/controls",
            "layout": "IPY_MODEL_24691b26fdf64c10bcd4f36d74ba386f"
          }
        },
        "bc0f207d0bf44a1db6432c3f28b3c8c8": {
          "model_module": "@jupyter-widgets/controls",
          "model_name": "HTMLModel",
          "state": {
            "_view_name": "HTMLView",
            "style": "IPY_MODEL_c409ad825d7b486681ab098d22215dc6",
            "_dom_classes": [],
            "description": "",
            "_model_name": "HTMLModel",
            "placeholder": "​",
            "_view_module": "@jupyter-widgets/controls",
            "_model_module_version": "1.5.0",
            "value": " 5/? [03:24&lt;00:00, 40.96s/it]",
            "_view_count": null,
            "_view_module_version": "1.5.0",
            "description_tooltip": null,
            "_model_module": "@jupyter-widgets/controls",
            "layout": "IPY_MODEL_13c6356fe2e44e10a400bb5827da6ec7"
          }
        },
        "cc564af9d1554092b00d75cb38be7a13": {
          "model_module": "@jupyter-widgets/controls",
          "model_name": "ProgressStyleModel",
          "state": {
            "_view_name": "StyleView",
            "_model_name": "ProgressStyleModel",
            "description_width": "initial",
            "_view_module": "@jupyter-widgets/base",
            "_model_module_version": "1.5.0",
            "_view_count": null,
            "_view_module_version": "1.2.0",
            "bar_color": null,
            "_model_module": "@jupyter-widgets/controls"
          }
        },
        "24691b26fdf64c10bcd4f36d74ba386f": {
          "model_module": "@jupyter-widgets/base",
          "model_name": "LayoutModel",
          "state": {
            "_view_name": "LayoutView",
            "grid_template_rows": null,
            "right": null,
            "justify_content": null,
            "_view_module": "@jupyter-widgets/base",
            "overflow": null,
            "_model_module_version": "1.2.0",
            "_view_count": null,
            "flex_flow": null,
            "width": null,
            "min_width": null,
            "border": null,
            "align_items": null,
            "bottom": null,
            "_model_module": "@jupyter-widgets/base",
            "top": null,
            "grid_column": null,
            "overflow_y": null,
            "overflow_x": null,
            "grid_auto_flow": null,
            "grid_area": null,
            "grid_template_columns": null,
            "flex": null,
            "_model_name": "LayoutModel",
            "justify_items": null,
            "grid_row": null,
            "max_height": null,
            "align_content": null,
            "visibility": null,
            "align_self": null,
            "height": null,
            "min_height": null,
            "padding": null,
            "grid_auto_rows": null,
            "grid_gap": null,
            "max_width": null,
            "order": null,
            "_view_module_version": "1.2.0",
            "grid_template_areas": null,
            "object_position": null,
            "object_fit": null,
            "grid_auto_columns": null,
            "margin": null,
            "display": null,
            "left": null
          }
        },
        "c409ad825d7b486681ab098d22215dc6": {
          "model_module": "@jupyter-widgets/controls",
          "model_name": "DescriptionStyleModel",
          "state": {
            "_view_name": "StyleView",
            "_model_name": "DescriptionStyleModel",
            "description_width": "",
            "_view_module": "@jupyter-widgets/base",
            "_model_module_version": "1.5.0",
            "_view_count": null,
            "_view_module_version": "1.2.0",
            "_model_module": "@jupyter-widgets/controls"
          }
        },
        "13c6356fe2e44e10a400bb5827da6ec7": {
          "model_module": "@jupyter-widgets/base",
          "model_name": "LayoutModel",
          "state": {
            "_view_name": "LayoutView",
            "grid_template_rows": null,
            "right": null,
            "justify_content": null,
            "_view_module": "@jupyter-widgets/base",
            "overflow": null,
            "_model_module_version": "1.2.0",
            "_view_count": null,
            "flex_flow": null,
            "width": null,
            "min_width": null,
            "border": null,
            "align_items": null,
            "bottom": null,
            "_model_module": "@jupyter-widgets/base",
            "top": null,
            "grid_column": null,
            "overflow_y": null,
            "overflow_x": null,
            "grid_auto_flow": null,
            "grid_area": null,
            "grid_template_columns": null,
            "flex": null,
            "_model_name": "LayoutModel",
            "justify_items": null,
            "grid_row": null,
            "max_height": null,
            "align_content": null,
            "visibility": null,
            "align_self": null,
            "height": null,
            "min_height": null,
            "padding": null,
            "grid_auto_rows": null,
            "grid_gap": null,
            "max_width": null,
            "order": null,
            "_view_module_version": "1.2.0",
            "grid_template_areas": null,
            "object_position": null,
            "object_fit": null,
            "grid_auto_columns": null,
            "margin": null,
            "display": null,
            "left": null
          }
        }
      }
    }
  },
  "cells": [
    {
      "cell_type": "markdown",
      "metadata": {
        "id": "view-in-github",
        "colab_type": "text"
      },
      "source": [
        "<a href=\"https://colab.research.google.com/github/vlad98rus/-netology_pyda/blob/HomeWork-1/%D0%9A%D0%BE%D0%BB%D0%BB%D0%B0%D0%B1%D0%BE%D1%80%D0%B0%D1%82%D0%B8%D0%B2%D0%BD%D0%B0%D1%8F_%D1%84%D0%B8%D0%BB%D1%8C%D1%82%D1%80%D0%B0%D1%86%D0%B8%D1%8F.ipynb\" target=\"_parent\"><img src=\"https://colab.research.google.com/assets/colab-badge.svg\" alt=\"Open In Colab\"/></a>"
      ]
    },
    {
      "cell_type": "markdown",
      "metadata": {
        "id": "NBTygAvqrCnj",
        "colab_type": "text"
      },
      "source": [
        "## Домашнее задание «Коллаборативная фильтрация»\n",
        "\n",
        "\n",
        "-  ПАКЕТ SURPRISE\n",
        "\n",
        "-  используйте данные MovieLens 1M\n",
        "-  можно использовать любые модели из пакета\n",
        "-  получите RMSE на тестовом сете 0.87 и ниже\n",
        "-  В ДЗ на датасет 1М можешь не хватить RAM. Можно сделать на 100K. Качество RMSE предлагаю считать на основе CrossValidation (5 фолдов), а не отложенном датасете"
      ]
    },
    {
      "cell_type": "code",
      "metadata": {
        "id": "EFKHRwFmsMev",
        "colab_type": "code",
        "colab": {
          "base_uri": "https://localhost:8080/",
          "height": 309
        },
        "outputId": "96bb186d-1015-4b03-8030-3e9291751dab"
      },
      "source": [
        "pip install SURPRISE"
      ],
      "execution_count": 2,
      "outputs": [
        {
          "output_type": "stream",
          "text": [
            "Collecting SURPRISE\n",
            "  Downloading https://files.pythonhosted.org/packages/61/de/e5cba8682201fcf9c3719a6fdda95693468ed061945493dea2dd37c5618b/surprise-0.1-py2.py3-none-any.whl\n",
            "Collecting scikit-surprise\n",
            "\u001b[?25l  Downloading https://files.pythonhosted.org/packages/f5/da/b5700d96495fb4f092be497f02492768a3d96a3f4fa2ae7dea46d4081cfa/scikit-surprise-1.1.0.tar.gz (6.4MB)\n",
            "\u001b[K     |████████████████████████████████| 6.5MB 5.2MB/s \n",
            "\u001b[?25hRequirement already satisfied: joblib>=0.11 in /usr/local/lib/python3.6/dist-packages (from scikit-surprise->SURPRISE) (0.15.1)\n",
            "Requirement already satisfied: numpy>=1.11.2 in /usr/local/lib/python3.6/dist-packages (from scikit-surprise->SURPRISE) (1.18.4)\n",
            "Requirement already satisfied: scipy>=1.0.0 in /usr/local/lib/python3.6/dist-packages (from scikit-surprise->SURPRISE) (1.4.1)\n",
            "Requirement already satisfied: six>=1.10.0 in /usr/local/lib/python3.6/dist-packages (from scikit-surprise->SURPRISE) (1.12.0)\n",
            "Building wheels for collected packages: scikit-surprise\n",
            "  Building wheel for scikit-surprise (setup.py) ... \u001b[?25l\u001b[?25hdone\n",
            "  Created wheel for scikit-surprise: filename=scikit_surprise-1.1.0-cp36-cp36m-linux_x86_64.whl size=1675371 sha256=9fbedfab539b8f21954dfd110ebc4d3aa4b29553e716b4576ae2394c70b8dbb8\n",
            "  Stored in directory: /root/.cache/pip/wheels/cc/fa/8c/16c93fccce688ae1bde7d979ff102f7bee980d9cfeb8641bcf\n",
            "Successfully built scikit-surprise\n",
            "Installing collected packages: scikit-surprise, SURPRISE\n",
            "Successfully installed SURPRISE-0.1 scikit-surprise-1.1.0\n"
          ],
          "name": "stdout"
        }
      ]
    },
    {
      "cell_type": "code",
      "metadata": {
        "ExecuteTime": {
          "end_time": "2019-09-04T06:53:50.761836Z",
          "start_time": "2019-09-04T06:53:50.305836Z"
        },
        "id": "U3aq6iShrCnk",
        "colab_type": "code",
        "colab": {}
      },
      "source": [
        "import pandas as pd\n",
        "import numpy as np\n",
        "from tqdm import tqdm_notebook\n",
        "from surprise import Dataset, Reader, KNNBasic, KNNWithMeans, SVD, SVDpp\n",
        "from surprise.model_selection import train_test_split, cross_validate, GridSearchCV\n",
        "from surprise import accuracy\n",
        "from surprise.model_selection import KFold"
      ],
      "execution_count": 0,
      "outputs": []
    },
    {
      "cell_type": "code",
      "metadata": {
        "id": "dvHO43qsrCnq",
        "colab_type": "code",
        "colab": {}
      },
      "source": [
        "N_FOLDS = 5\n",
        "RANDOM_STATE = 777"
      ],
      "execution_count": 0,
      "outputs": []
    },
    {
      "cell_type": "code",
      "metadata": {
        "id": "fhdsy8qErCnu",
        "colab_type": "code",
        "colab": {}
      },
      "source": [
        "kfold = KFold(5)"
      ],
      "execution_count": 0,
      "outputs": []
    },
    {
      "cell_type": "code",
      "metadata": {
        "ExecuteTime": {
          "end_time": "2019-09-04T06:54:11.872403Z",
          "start_time": "2019-09-04T06:54:11.793603Z"
        },
        "id": "UkOcZzwirCnz",
        "colab_type": "code",
        "colab": {}
      },
      "source": [
        "df_ratings = pd.read_csv('ratings.csv', usecols=['uid', 'iid', 'rating'], names=['uid', 'iid', 'rating', 'to_drop'], header=1)"
      ],
      "execution_count": 0,
      "outputs": []
    },
    {
      "cell_type": "code",
      "metadata": {
        "ExecuteTime": {
          "end_time": "2019-09-04T08:16:30.358412Z",
          "start_time": "2019-09-04T08:16:30.316846Z"
        },
        "scrolled": true,
        "id": "DFMWh6VprCn3",
        "colab_type": "code",
        "colab": {
          "base_uri": "https://localhost:8080/",
          "height": 170
        },
        "outputId": "76bbb3fc-53d7-4473-b8bd-a9883784acbd"
      },
      "source": [
        "print(df_ratings.describe())"
      ],
      "execution_count": 9,
      "outputs": [
        {
          "output_type": "stream",
          "text": [
            "                 uid            iid         rating\n",
            "count  100835.000000  100835.000000  100835.000000\n",
            "mean      326.130788   19435.488451       3.501552\n",
            "std       182.616527   35531.110673       1.042533\n",
            "min         1.000000       1.000000       0.500000\n",
            "25%       177.000000    1199.000000       3.000000\n",
            "50%       325.000000    2991.000000       3.500000\n",
            "75%       477.000000    8123.000000       4.000000\n",
            "max       610.000000  193609.000000       5.000000\n"
          ],
          "name": "stdout"
        }
      ]
    },
    {
      "cell_type": "code",
      "metadata": {
        "id": "VREwUa2Gs6RC",
        "colab_type": "code",
        "colab": {
          "base_uri": "https://localhost:8080/",
          "height": 204
        },
        "outputId": "7a826b4a-7ba4-47c3-8388-b59caf42ff27"
      },
      "source": [
        "df_ratings.head()"
      ],
      "execution_count": 8,
      "outputs": [
        {
          "output_type": "execute_result",
          "data": {
            "text/html": [
              "<div>\n",
              "<style scoped>\n",
              "    .dataframe tbody tr th:only-of-type {\n",
              "        vertical-align: middle;\n",
              "    }\n",
              "\n",
              "    .dataframe tbody tr th {\n",
              "        vertical-align: top;\n",
              "    }\n",
              "\n",
              "    .dataframe thead th {\n",
              "        text-align: right;\n",
              "    }\n",
              "</style>\n",
              "<table border=\"1\" class=\"dataframe\">\n",
              "  <thead>\n",
              "    <tr style=\"text-align: right;\">\n",
              "      <th></th>\n",
              "      <th>uid</th>\n",
              "      <th>iid</th>\n",
              "      <th>rating</th>\n",
              "    </tr>\n",
              "  </thead>\n",
              "  <tbody>\n",
              "    <tr>\n",
              "      <th>0</th>\n",
              "      <td>1</td>\n",
              "      <td>3</td>\n",
              "      <td>4.0</td>\n",
              "    </tr>\n",
              "    <tr>\n",
              "      <th>1</th>\n",
              "      <td>1</td>\n",
              "      <td>6</td>\n",
              "      <td>4.0</td>\n",
              "    </tr>\n",
              "    <tr>\n",
              "      <th>2</th>\n",
              "      <td>1</td>\n",
              "      <td>47</td>\n",
              "      <td>5.0</td>\n",
              "    </tr>\n",
              "    <tr>\n",
              "      <th>3</th>\n",
              "      <td>1</td>\n",
              "      <td>50</td>\n",
              "      <td>5.0</td>\n",
              "    </tr>\n",
              "    <tr>\n",
              "      <th>4</th>\n",
              "      <td>1</td>\n",
              "      <td>70</td>\n",
              "      <td>3.0</td>\n",
              "    </tr>\n",
              "  </tbody>\n",
              "</table>\n",
              "</div>"
            ],
            "text/plain": [
              "   uid  iid  rating\n",
              "0    1    3     4.0\n",
              "1    1    6     4.0\n",
              "2    1   47     5.0\n",
              "3    1   50     5.0\n",
              "4    1   70     3.0"
            ]
          },
          "metadata": {
            "tags": []
          },
          "execution_count": 8
        }
      ]
    },
    {
      "cell_type": "code",
      "metadata": {
        "ExecuteTime": {
          "end_time": "2019-09-04T08:16:31.938618Z",
          "start_time": "2019-09-04T08:16:31.935518Z"
        },
        "id": "TMCqW3k6rCn8",
        "colab_type": "code",
        "colab": {}
      },
      "source": [
        "reader = Reader(rating_scale=(0.5, 5))"
      ],
      "execution_count": 0,
      "outputs": []
    },
    {
      "cell_type": "code",
      "metadata": {
        "ExecuteTime": {
          "end_time": "2019-09-04T08:16:32.655464Z",
          "start_time": "2019-09-04T08:16:32.534417Z"
        },
        "id": "ne8r_SdCrCoA",
        "colab_type": "code",
        "colab": {}
      },
      "source": [
        "dataset = Dataset.load_from_df(df_ratings, reader)"
      ],
      "execution_count": 0,
      "outputs": []
    },
    {
      "cell_type": "markdown",
      "metadata": {
        "id": "wUPOb-c8rCoE",
        "colab_type": "text"
      },
      "source": [
        "### Baseline с отложенной выборкой"
      ]
    },
    {
      "cell_type": "code",
      "metadata": {
        "ExecuteTime": {
          "end_time": "2019-09-04T08:16:33.257560Z",
          "start_time": "2019-09-04T08:16:33.115875Z"
        },
        "id": "PtTn4jj9rCoF",
        "colab_type": "code",
        "colab": {}
      },
      "source": [
        "trainset, testset = train_test_split(dataset, test_size=0.2)"
      ],
      "execution_count": 0,
      "outputs": []
    },
    {
      "cell_type": "code",
      "metadata": {
        "ExecuteTime": {
          "end_time": "2019-09-04T08:16:34.138607Z",
          "start_time": "2019-09-04T08:16:34.135338Z"
        },
        "id": "_IteBGCvrCoI",
        "colab_type": "code",
        "colab": {
          "base_uri": "https://localhost:8080/",
          "height": 102
        },
        "outputId": "4db80d25-4491-4c3a-c9cc-29168d7858fc"
      },
      "source": [
        "algo = KNNWithMeans(k=40, sim_options={'name': 'pearson_baseline', 'user_based': False})\n",
        "algo.fit(trainset)\n",
        "predictions = algo.test(testset)\n",
        "print(f'RMSE on TEST 20% = {accuracy.rmse(predictions)}')"
      ],
      "execution_count": 14,
      "outputs": [
        {
          "output_type": "stream",
          "text": [
            "Estimating biases using als...\n",
            "Computing the pearson_baseline similarity matrix...\n",
            "Done computing similarity matrix.\n",
            "RMSE: 0.8799\n",
            "RMSE on TEST 20% = 0.8798929898838946\n"
          ],
          "name": "stdout"
        }
      ]
    },
    {
      "cell_type": "markdown",
      "metadata": {
        "ExecuteTime": {
          "end_time": "2019-09-04T09:05:36.319883Z",
          "start_time": "2019-09-04T09:05:36.313714Z"
        },
        "id": "U0meGVebrCoM",
        "colab_type": "text"
      },
      "source": [
        "### CV using 5 folds"
      ]
    },
    {
      "cell_type": "code",
      "metadata": {
        "ExecuteTime": {
          "end_time": "2019-09-04T09:07:04.751002Z",
          "start_time": "2019-09-04T09:05:36.321600Z"
        },
        "id": "YCXzpLLdrCoN",
        "colab_type": "code",
        "colab": {
          "base_uri": "https://localhost:8080/",
          "height": 474,
          "referenced_widgets": [
            "ba92e1d5b7ab46fab3599592418b74a4",
            "6289a66fc38a404ba83cdfc68418dc38",
            "eea6975dabbf4ffcb4f3a0c1187cc866",
            "bc0f207d0bf44a1db6432c3f28b3c8c8",
            "cc564af9d1554092b00d75cb38be7a13",
            "24691b26fdf64c10bcd4f36d74ba386f",
            "c409ad825d7b486681ab098d22215dc6",
            "13c6356fe2e44e10a400bb5827da6ec7"
          ]
        },
        "outputId": "4c837726-d1f3-4c20-d3ec-de1d4346ecf8"
      },
      "source": [
        "scores = []\n",
        "for trainset, testset in tqdm_notebook(kfold.split(dataset)):\n",
        "    algo = KNNWithMeans(k=40, sim_options={'name': 'pearson_baseline', 'user_based': False})\n",
        "    algo.fit(trainset)\n",
        "    predictions = algo.test(testset)\n",
        "    scores.append(accuracy.rmse(predictions))\n",
        "print(f'Mean RMSE = {np.mean(scores)}')"
      ],
      "execution_count": 15,
      "outputs": [
        {
          "output_type": "stream",
          "text": [
            "/usr/local/lib/python3.6/dist-packages/ipykernel_launcher.py:2: TqdmDeprecationWarning: This function will be removed in tqdm==5.0.0\n",
            "Please use `tqdm.notebook.tqdm` instead of `tqdm.tqdm_notebook`\n",
            "  \n"
          ],
          "name": "stderr"
        },
        {
          "output_type": "display_data",
          "data": {
            "application/vnd.jupyter.widget-view+json": {
              "model_id": "ba92e1d5b7ab46fab3599592418b74a4",
              "version_minor": 0,
              "version_major": 2
            },
            "text/plain": [
              "HBox(children=(FloatProgress(value=1.0, bar_style='info', max=1.0), HTML(value='')))"
            ]
          },
          "metadata": {
            "tags": []
          }
        },
        {
          "output_type": "stream",
          "text": [
            "Estimating biases using als...\n",
            "Computing the pearson_baseline similarity matrix...\n",
            "Done computing similarity matrix.\n",
            "RMSE: 0.8888\n",
            "Estimating biases using als...\n",
            "Computing the pearson_baseline similarity matrix...\n",
            "Done computing similarity matrix.\n",
            "RMSE: 0.8835\n",
            "Estimating biases using als...\n",
            "Computing the pearson_baseline similarity matrix...\n",
            "Done computing similarity matrix.\n",
            "RMSE: 0.8791\n",
            "Estimating biases using als...\n",
            "Computing the pearson_baseline similarity matrix...\n",
            "Done computing similarity matrix.\n",
            "RMSE: 0.8813\n",
            "Estimating biases using als...\n",
            "Computing the pearson_baseline similarity matrix...\n",
            "Done computing similarity matrix.\n",
            "RMSE: 0.8749\n",
            "\n",
            "Mean RMSE = 0.881532523041028\n"
          ],
          "name": "stdout"
        }
      ]
    },
    {
      "cell_type": "markdown",
      "metadata": {
        "id": "BBHeSeDhrCoQ",
        "colab_type": "text"
      },
      "source": [
        "### Test other algos"
      ]
    },
    {
      "cell_type": "code",
      "metadata": {
        "id": "vEDUHYdOrCoR",
        "colab_type": "code",
        "colab": {
          "base_uri": "https://localhost:8080/",
          "height": 306
        },
        "outputId": "a9753527-d57b-490b-abc9-f555e4ab9d22"
      },
      "source": [
        "algo = SVD()\n",
        "cross_validate(algo, dataset, measures=['RMSE'], cv=N_FOLDS, verbose=True)"
      ],
      "execution_count": 16,
      "outputs": [
        {
          "output_type": "stream",
          "text": [
            "Evaluating RMSE of algorithm SVD on 5 split(s).\n",
            "\n",
            "                  Fold 1  Fold 2  Fold 3  Fold 4  Fold 5  Mean    Std     \n",
            "RMSE (testset)    0.8748  0.8741  0.8707  0.8752  0.8708  0.8731  0.0020  \n",
            "Fit time          4.98    4.99    4.97    4.99    5.04    4.99    0.02    \n",
            "Test time         0.14    0.26    0.14    0.24    0.14    0.18    0.05    \n"
          ],
          "name": "stdout"
        },
        {
          "output_type": "execute_result",
          "data": {
            "text/plain": [
              "{'fit_time': (4.981456995010376,\n",
              "  4.989786863327026,\n",
              "  4.970468997955322,\n",
              "  4.985289812088013,\n",
              "  5.037747859954834),\n",
              " 'test_rmse': array([0.87477109, 0.87412221, 0.87067955, 0.87518416, 0.87081673]),\n",
              " 'test_time': (0.14204192161560059,\n",
              "  0.26220226287841797,\n",
              "  0.13762879371643066,\n",
              "  0.23896145820617676,\n",
              "  0.14012932777404785)}"
            ]
          },
          "metadata": {
            "tags": []
          },
          "execution_count": 16
        }
      ]
    },
    {
      "cell_type": "code",
      "metadata": {
        "id": "wv9yMqcSrCoV",
        "colab_type": "code",
        "colab": {
          "base_uri": "https://localhost:8080/",
          "height": 306
        },
        "outputId": "96292d74-fd7f-4e5b-d9f8-b12b4a748105"
      },
      "source": [
        "algo = SVDpp()\n",
        "cross_validate(algo, dataset, measures=['RMSE'], cv=N_FOLDS, verbose=True)"
      ],
      "execution_count": 18,
      "outputs": [
        {
          "output_type": "stream",
          "text": [
            "Evaluating RMSE of algorithm SVDpp on 5 split(s).\n",
            "\n",
            "                  Fold 1  Fold 2  Fold 3  Fold 4  Fold 5  Mean    Std     \n",
            "RMSE (testset)    0.8601  0.8572  0.8569  0.8581  0.8714  0.8607  0.0055  \n",
            "Fit time          505.44  499.85  502.17  495.11  501.60  500.84  3.39    \n",
            "Test time         10.20   9.97    10.15   9.84    10.32   10.10   0.17    \n"
          ],
          "name": "stdout"
        },
        {
          "output_type": "execute_result",
          "data": {
            "text/plain": [
              "{'fit_time': (505.44087982177734,\n",
              "  499.8538737297058,\n",
              "  502.17478823661804,\n",
              "  495.1089446544647,\n",
              "  501.6017096042633),\n",
              " 'test_rmse': array([0.86014862, 0.85717315, 0.85688387, 0.85805784, 0.87139633]),\n",
              " 'test_time': (10.201176166534424,\n",
              "  9.974907636642456,\n",
              "  10.151615858078003,\n",
              "  9.840617895126343,\n",
              "  10.318268060684204)}"
            ]
          },
          "metadata": {
            "tags": []
          },
          "execution_count": 18
        }
      ]
    },
    {
      "cell_type": "code",
      "metadata": {
        "id": "xxBzL3JKrCoZ",
        "colab_type": "code",
        "colab": {},
        "outputId": "7ef02120-2c57-4e3c-87f4-191db14595c2"
      },
      "source": [
        "param_grid = {'n_factors': [50, 100, 200], 'n_epochs': [50, 100, 200], 'lr_all': [0.002, 0.005],\n",
        "              'biased': [True, False], 'reg_all': [0.02, 0.1, 0.2, 0.4], 'random_state': [RANDOM_STATE], 'verbose': [True]}\n",
        "gs = GridSearchCV(SVD, param_grid, measures=['rmse'], cv=N_FOLDS, n_jobs=-1, joblib_verbose=True)\n",
        "gs.fit(dataset)\n",
        "print(gs.best_score['rmse'])\n",
        "print(gs.best_params['rmse'])"
      ],
      "execution_count": 0,
      "outputs": [
        {
          "output_type": "stream",
          "text": [
            "[Parallel(n_jobs=-1)]: Using backend LokyBackend with 8 concurrent workers.\n",
            "[Parallel(n_jobs=-1)]: Done  34 tasks      | elapsed:  2.0min\n",
            "[Parallel(n_jobs=-1)]: Done 184 tasks      | elapsed: 20.5min\n",
            "[Parallel(n_jobs=-1)]: Done 434 tasks      | elapsed: 71.3min\n"
          ],
          "name": "stderr"
        },
        {
          "output_type": "stream",
          "text": [
            "0.8488435089125215\n",
            "{'n_factors': 200, 'n_epochs': 200, 'lr_all': 0.005, 'biased': True, 'reg_all': 0.1, 'random_state': 777, 'verbose': True}\n"
          ],
          "name": "stdout"
        },
        {
          "output_type": "stream",
          "text": [
            "[Parallel(n_jobs=-1)]: Done 720 out of 720 | elapsed: 177.6min finished\n"
          ],
          "name": "stderr"
        }
      ]
    }
  ]
}