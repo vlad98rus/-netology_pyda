{
  "nbformat": 4,
  "nbformat_minor": 0,
  "metadata": {
    "kernelspec": {
      "display_name": "Python 3",
      "language": "python",
      "name": "python3"
    },
    "language_info": {
      "codemirror_mode": {
        "name": "ipython",
        "version": 3
      },
      "file_extension": ".py",
      "mimetype": "text/x-python",
      "name": "python",
      "nbconvert_exporter": "python",
      "pygments_lexer": "ipython3",
      "version": "3.7.2"
    },
    "latex_envs": {
      "LaTeX_envs_menu_present": true,
      "autoclose": false,
      "autocomplete": true,
      "bibliofile": "biblio.bib",
      "cite_by": "apalike",
      "current_citInitial": 1,
      "eqLabelWithNumbers": true,
      "eqNumInitial": 1,
      "hotkeys": {
        "equation": "Ctrl-E",
        "itemize": "Ctrl-I"
      },
      "labels_anchors": false,
      "latex_user_defs": false,
      "report_style_numbering": false,
      "user_envs_cfg": false
    },
    "toc": {
      "base_numbering": 1,
      "nav_menu": {},
      "number_sections": true,
      "sideBar": true,
      "skip_h1_title": false,
      "title_cell": "Table of Contents",
      "title_sidebar": "Contents",
      "toc_cell": false,
      "toc_position": {},
      "toc_section_display": true,
      "toc_window_display": false
    },
    "colab": {
      "name": "Коллаборативная фильтрация.ipynb",
      "provenance": [],
      "include_colab_link": true
    }
  },
  "cells": [
    {
      "cell_type": "markdown",
      "metadata": {
        "id": "view-in-github",
        "colab_type": "text"
      },
      "source": [
        "<a href=\"https://colab.research.google.com/github/vlad98rus/-netology_pyda/blob/HomeWork-1/%D0%9A%D0%BE%D0%BB%D0%BB%D0%B0%D0%B1%D0%BE%D1%80%D0%B0%D1%82%D0%B8%D0%B2%D0%BD%D0%B0%D1%8F_%D1%84%D0%B8%D0%BB%D1%8C%D1%82%D1%80%D0%B0%D1%86%D0%B8%D1%8F.ipynb\" target=\"_parent\"><img src=\"https://colab.research.google.com/assets/colab-badge.svg\" alt=\"Open In Colab\"/></a>"
      ]
    },
    {
      "cell_type": "markdown",
      "metadata": {
        "id": "NBTygAvqrCnj",
        "colab_type": "text"
      },
      "source": [
        "## Домашнее задание «Коллаборативная фильтрация»\n",
        "\n",
        "\n",
        "-  ПАКЕТ SURPRISE\n",
        "\n",
        "-  используйте данные MovieLens 1M\n",
        "-  можно использовать любые модели из пакета\n",
        "-  получите RMSE на тестовом сете 0.87 и ниже\n",
        "-  В ДЗ на датасет 1М можешь не хватить RAM. Можно сделать на 100K. Качество RMSE предлагаю считать на основе CrossValidation (5 фолдов), а не отложенном датасете"
      ]
    },
    {
      "cell_type": "code",
      "metadata": {
        "ExecuteTime": {
          "end_time": "2019-09-04T06:53:50.761836Z",
          "start_time": "2019-09-04T06:53:50.305836Z"
        },
        "id": "U3aq6iShrCnk",
        "colab_type": "code",
        "colab": {
          "base_uri": "https://localhost:8080/",
          "height": 367
        },
        "outputId": "536a1a6d-e727-4c85-b524-9e13f5e1bc10"
      },
      "source": [
        "import pandas as pd\n",
        "import numpy as np\n",
        "from tqdm import tqdm_notebook\n",
        "from surprise import Dataset, Reader, KNNBasic, KNNWithMeans, SVD, SVDpp\n",
        "from surprise.model_selection import train_test_split, cross_validate, GridSearchCV\n",
        "from surprise import accuracy\n",
        "from surprise.model_selection import KFold"
      ],
      "execution_count": 1,
      "outputs": [
        {
          "output_type": "error",
          "ename": "ModuleNotFoundError",
          "evalue": "ignored",
          "traceback": [
            "\u001b[0;31m---------------------------------------------------------------------------\u001b[0m",
            "\u001b[0;31mModuleNotFoundError\u001b[0m                       Traceback (most recent call last)",
            "\u001b[0;32m<ipython-input-1-36f7f2290fe1>\u001b[0m in \u001b[0;36m<module>\u001b[0;34m()\u001b[0m\n\u001b[1;32m      2\u001b[0m \u001b[0;32mimport\u001b[0m \u001b[0mnumpy\u001b[0m \u001b[0;32mas\u001b[0m \u001b[0mnp\u001b[0m\u001b[0;34m\u001b[0m\u001b[0;34m\u001b[0m\u001b[0m\n\u001b[1;32m      3\u001b[0m \u001b[0;32mfrom\u001b[0m \u001b[0mtqdm\u001b[0m \u001b[0;32mimport\u001b[0m \u001b[0mtqdm_notebook\u001b[0m\u001b[0;34m\u001b[0m\u001b[0;34m\u001b[0m\u001b[0m\n\u001b[0;32m----> 4\u001b[0;31m \u001b[0;32mfrom\u001b[0m \u001b[0msurprise\u001b[0m \u001b[0;32mimport\u001b[0m \u001b[0mDataset\u001b[0m\u001b[0;34m,\u001b[0m \u001b[0mReader\u001b[0m\u001b[0;34m,\u001b[0m \u001b[0mKNNBasic\u001b[0m\u001b[0;34m,\u001b[0m \u001b[0mKNNWithMeans\u001b[0m\u001b[0;34m,\u001b[0m \u001b[0mSVD\u001b[0m\u001b[0;34m,\u001b[0m \u001b[0mSVDpp\u001b[0m\u001b[0;34m\u001b[0m\u001b[0;34m\u001b[0m\u001b[0m\n\u001b[0m\u001b[1;32m      5\u001b[0m \u001b[0;32mfrom\u001b[0m \u001b[0msurprise\u001b[0m\u001b[0;34m.\u001b[0m\u001b[0mmodel_selection\u001b[0m \u001b[0;32mimport\u001b[0m \u001b[0mtrain_test_split\u001b[0m\u001b[0;34m,\u001b[0m \u001b[0mcross_validate\u001b[0m\u001b[0;34m,\u001b[0m \u001b[0mGridSearchCV\u001b[0m\u001b[0;34m\u001b[0m\u001b[0;34m\u001b[0m\u001b[0m\n\u001b[1;32m      6\u001b[0m \u001b[0;32mfrom\u001b[0m \u001b[0msurprise\u001b[0m \u001b[0;32mimport\u001b[0m \u001b[0maccuracy\u001b[0m\u001b[0;34m\u001b[0m\u001b[0;34m\u001b[0m\u001b[0m\n",
            "\u001b[0;31mModuleNotFoundError\u001b[0m: No module named 'surprise'",
            "",
            "\u001b[0;31m---------------------------------------------------------------------------\u001b[0;32m\nNOTE: If your import is failing due to a missing package, you can\nmanually install dependencies using either !pip or !apt.\n\nTo view examples of installing some common dependencies, click the\n\"Open Examples\" button below.\n\u001b[0;31m---------------------------------------------------------------------------\u001b[0m\n"
          ]
        }
      ]
    },
    {
      "cell_type": "code",
      "metadata": {
        "id": "dvHO43qsrCnq",
        "colab_type": "code",
        "colab": {}
      },
      "source": [
        "N_FOLDS = 5\n",
        "RANDOM_STATE = 777"
      ],
      "execution_count": 0,
      "outputs": []
    },
    {
      "cell_type": "code",
      "metadata": {
        "id": "fhdsy8qErCnu",
        "colab_type": "code",
        "colab": {}
      },
      "source": [
        "kfold = KFold(5)"
      ],
      "execution_count": 0,
      "outputs": []
    },
    {
      "cell_type": "code",
      "metadata": {
        "ExecuteTime": {
          "end_time": "2019-09-04T06:54:11.872403Z",
          "start_time": "2019-09-04T06:54:11.793603Z"
        },
        "id": "UkOcZzwirCnz",
        "colab_type": "code",
        "colab": {}
      },
      "source": [
        "df_ratings = pd.read_csv('../data/ml-latest-small/ratings.csv', usecols=['uid', 'iid', 'rating'], names=['uid', 'iid', 'rating', 'to_drop'], header=1)"
      ],
      "execution_count": 0,
      "outputs": []
    },
    {
      "cell_type": "code",
      "metadata": {
        "ExecuteTime": {
          "end_time": "2019-09-04T08:16:30.358412Z",
          "start_time": "2019-09-04T08:16:30.316846Z"
        },
        "scrolled": true,
        "id": "DFMWh6VprCn3",
        "colab_type": "code",
        "colab": {},
        "outputId": "1d6468e3-8a05-4b57-fb0f-a905829f4da0"
      },
      "source": [
        "print(df_ratings.describe())\n",
        "df_ratings.head()"
      ],
      "execution_count": 0,
      "outputs": [
        {
          "output_type": "stream",
          "text": [
            "                 uid            iid         rating\n",
            "count  100835.000000  100835.000000  100835.000000\n",
            "mean      326.130788   19435.488451       3.501552\n",
            "std       182.616527   35531.110673       1.042533\n",
            "min         1.000000       1.000000       0.500000\n",
            "25%       177.000000    1199.000000       3.000000\n",
            "50%       325.000000    2991.000000       3.500000\n",
            "75%       477.000000    8123.000000       4.000000\n",
            "max       610.000000  193609.000000       5.000000\n"
          ],
          "name": "stdout"
        },
        {
          "output_type": "execute_result",
          "data": {
            "text/html": [
              "<div>\n",
              "<style scoped>\n",
              "    .dataframe tbody tr th:only-of-type {\n",
              "        vertical-align: middle;\n",
              "    }\n",
              "\n",
              "    .dataframe tbody tr th {\n",
              "        vertical-align: top;\n",
              "    }\n",
              "\n",
              "    .dataframe thead th {\n",
              "        text-align: right;\n",
              "    }\n",
              "</style>\n",
              "<table border=\"1\" class=\"dataframe\">\n",
              "  <thead>\n",
              "    <tr style=\"text-align: right;\">\n",
              "      <th></th>\n",
              "      <th>uid</th>\n",
              "      <th>iid</th>\n",
              "      <th>rating</th>\n",
              "    </tr>\n",
              "  </thead>\n",
              "  <tbody>\n",
              "    <tr>\n",
              "      <th>0</th>\n",
              "      <td>1</td>\n",
              "      <td>3</td>\n",
              "      <td>4.0</td>\n",
              "    </tr>\n",
              "    <tr>\n",
              "      <th>1</th>\n",
              "      <td>1</td>\n",
              "      <td>6</td>\n",
              "      <td>4.0</td>\n",
              "    </tr>\n",
              "    <tr>\n",
              "      <th>2</th>\n",
              "      <td>1</td>\n",
              "      <td>47</td>\n",
              "      <td>5.0</td>\n",
              "    </tr>\n",
              "    <tr>\n",
              "      <th>3</th>\n",
              "      <td>1</td>\n",
              "      <td>50</td>\n",
              "      <td>5.0</td>\n",
              "    </tr>\n",
              "    <tr>\n",
              "      <th>4</th>\n",
              "      <td>1</td>\n",
              "      <td>70</td>\n",
              "      <td>3.0</td>\n",
              "    </tr>\n",
              "  </tbody>\n",
              "</table>\n",
              "</div>"
            ],
            "text/plain": [
              "   uid  iid  rating\n",
              "0    1    3     4.0\n",
              "1    1    6     4.0\n",
              "2    1   47     5.0\n",
              "3    1   50     5.0\n",
              "4    1   70     3.0"
            ]
          },
          "metadata": {
            "tags": []
          },
          "execution_count": 20
        }
      ]
    },
    {
      "cell_type": "code",
      "metadata": {
        "ExecuteTime": {
          "end_time": "2019-09-04T08:16:31.938618Z",
          "start_time": "2019-09-04T08:16:31.935518Z"
        },
        "id": "TMCqW3k6rCn8",
        "colab_type": "code",
        "colab": {}
      },
      "source": [
        "reader = Reader(rating_scale=(0.5, 5))"
      ],
      "execution_count": 0,
      "outputs": []
    },
    {
      "cell_type": "code",
      "metadata": {
        "ExecuteTime": {
          "end_time": "2019-09-04T08:16:32.655464Z",
          "start_time": "2019-09-04T08:16:32.534417Z"
        },
        "id": "ne8r_SdCrCoA",
        "colab_type": "code",
        "colab": {}
      },
      "source": [
        "dataset = Dataset.load_from_df(df_ratings, reader)"
      ],
      "execution_count": 0,
      "outputs": []
    },
    {
      "cell_type": "markdown",
      "metadata": {
        "id": "wUPOb-c8rCoE",
        "colab_type": "text"
      },
      "source": [
        "### Baseline с отложенной выборкой"
      ]
    },
    {
      "cell_type": "code",
      "metadata": {
        "ExecuteTime": {
          "end_time": "2019-09-04T08:16:33.257560Z",
          "start_time": "2019-09-04T08:16:33.115875Z"
        },
        "id": "PtTn4jj9rCoF",
        "colab_type": "code",
        "colab": {}
      },
      "source": [
        "trainset, testset = train_test_split(dataset, test_size=0.2)"
      ],
      "execution_count": 0,
      "outputs": []
    },
    {
      "cell_type": "code",
      "metadata": {
        "ExecuteTime": {
          "end_time": "2019-09-04T08:16:34.138607Z",
          "start_time": "2019-09-04T08:16:34.135338Z"
        },
        "id": "_IteBGCvrCoI",
        "colab_type": "code",
        "colab": {}
      },
      "source": [
        "algo = KNNWithMeans(k=40, sim_options={'name': 'pearson_baseline', 'user_based': False})\n",
        "algo.fit(trainset)\n",
        "predictions = algo.test(testset)\n",
        "print(f'RMSE on TEST 20% = {accuracy.rmse(predictions)}')"
      ],
      "execution_count": 0,
      "outputs": []
    },
    {
      "cell_type": "markdown",
      "metadata": {
        "ExecuteTime": {
          "end_time": "2019-09-04T09:05:36.319883Z",
          "start_time": "2019-09-04T09:05:36.313714Z"
        },
        "id": "U0meGVebrCoM",
        "colab_type": "text"
      },
      "source": [
        "### CV using 5 folds"
      ]
    },
    {
      "cell_type": "code",
      "metadata": {
        "ExecuteTime": {
          "end_time": "2019-09-04T09:07:04.751002Z",
          "start_time": "2019-09-04T09:05:36.321600Z"
        },
        "id": "YCXzpLLdrCoN",
        "colab_type": "code",
        "colab": {
          "referenced_widgets": [
            "2f7b04b15eec4c8babd2295b1331a2b0"
          ]
        },
        "outputId": "75c2d71b-3a38-4b60-8c2f-9190b8df5784"
      },
      "source": [
        "scores = []\n",
        "for trainset, testset in tqdm_notebook(kfold.split(dataset)):\n",
        "    algo = KNNWithMeans(k=40, sim_options={'name': 'pearson_baseline', 'user_based': False})\n",
        "    algo.fit(trainset)\n",
        "    predictions = algo.test(testset)\n",
        "    scores.append(accuracy.rmse(predictions))\n",
        "print(f'Mean RMSE = {np.mean(scores)}')"
      ],
      "execution_count": 0,
      "outputs": [
        {
          "output_type": "display_data",
          "data": {
            "application/vnd.jupyter.widget-view+json": {
              "model_id": "2f7b04b15eec4c8babd2295b1331a2b0",
              "version_major": 2,
              "version_minor": 0
            },
            "text/plain": [
              "HBox(children=(IntProgress(value=1, bar_style='info', max=1), HTML(value='')))"
            ]
          },
          "metadata": {
            "tags": []
          }
        },
        {
          "output_type": "stream",
          "text": [
            "Estimating biases using als...\n",
            "Computing the pearson_baseline similarity matrix...\n",
            "Done computing similarity matrix.\n",
            "RMSE: 0.8727\n",
            "Estimating biases using als...\n",
            "Computing the pearson_baseline similarity matrix...\n",
            "Done computing similarity matrix.\n",
            "RMSE: 0.8904\n",
            "Estimating biases using als...\n",
            "Computing the pearson_baseline similarity matrix...\n",
            "Done computing similarity matrix.\n",
            "RMSE: 0.8895\n",
            "Estimating biases using als...\n",
            "Computing the pearson_baseline similarity matrix...\n",
            "Done computing similarity matrix.\n",
            "RMSE: 0.8852\n",
            "Estimating biases using als...\n",
            "Computing the pearson_baseline similarity matrix...\n",
            "Done computing similarity matrix.\n",
            "RMSE: 0.8760\n",
            "\n",
            "Mean RMSE = 0.882760669251145\n"
          ],
          "name": "stdout"
        }
      ]
    },
    {
      "cell_type": "markdown",
      "metadata": {
        "id": "BBHeSeDhrCoQ",
        "colab_type": "text"
      },
      "source": [
        "### Test other algos"
      ]
    },
    {
      "cell_type": "code",
      "metadata": {
        "id": "vEDUHYdOrCoR",
        "colab_type": "code",
        "colab": {},
        "outputId": "041e7448-bfca-4a3e-e4ac-c3a46bb9fee9"
      },
      "source": [
        "algo = SVD()\n",
        "cross_validate(algo, dataset, measures=['RMSE'], cv=N_FOLDS, verbose=True)"
      ],
      "execution_count": 0,
      "outputs": [
        {
          "output_type": "stream",
          "text": [
            "Evaluating RMSE of algorithm SVD on 5 split(s).\n",
            "\n",
            "                  Fold 1  Fold 2  Fold 3  Fold 4  Fold 5  Mean    Std     \n",
            "RMSE (testset)    0.8734  0.8757  0.8749  0.8691  0.8754  0.8737  0.0024  \n",
            "Fit time          4.34    4.17    4.12    4.25    4.22    4.22    0.07    \n",
            "Test time         0.15    0.13    0.20    0.12    0.13    0.15    0.03    \n"
          ],
          "name": "stdout"
        },
        {
          "output_type": "execute_result",
          "data": {
            "text/plain": [
              "{'test_rmse': array([0.87344172, 0.8757409 , 0.87492602, 0.86910094, 0.87542935]),\n",
              " 'fit_time': (4.335114240646362,\n",
              "  4.171403408050537,\n",
              "  4.119460582733154,\n",
              "  4.251147270202637,\n",
              "  4.2204506397247314),\n",
              " 'test_time': (0.1529397964477539,\n",
              "  0.13019728660583496,\n",
              "  0.19591808319091797,\n",
              "  0.12461447715759277,\n",
              "  0.1292252540588379)}"
            ]
          },
          "metadata": {
            "tags": []
          },
          "execution_count": 37
        }
      ]
    },
    {
      "cell_type": "code",
      "metadata": {
        "id": "wv9yMqcSrCoV",
        "colab_type": "code",
        "colab": {},
        "outputId": "b6dac300-56b6-46af-ac4d-7f2ffd0e975a"
      },
      "source": [
        "algo = SVDpp()\n",
        "cross_validate(algo, dataset, measures=['RMSE'], cv=N_FOLDS, verbose=True)"
      ],
      "execution_count": 0,
      "outputs": [
        {
          "output_type": "stream",
          "text": [
            "Evaluating RMSE of algorithm SVDpp on 5 split(s).\n",
            "\n",
            "                  Fold 1  Fold 2  Fold 3  Fold 4  Fold 5  Mean    Std     \n",
            "RMSE (testset)    0.8519  0.8614  0.8641  0.8620  0.8634  0.8605  0.0044  \n",
            "Fit time          947.04  940.65  915.78  923.27  922.76  929.90  11.86   \n",
            "Test time         16.30   16.07   16.99   15.97   15.85   16.24   0.41    \n"
          ],
          "name": "stdout"
        },
        {
          "output_type": "execute_result",
          "data": {
            "text/plain": [
              "{'test_rmse': array([0.85188394, 0.86136704, 0.86410083, 0.86197464, 0.86339344]),\n",
              " 'fit_time': (947.0383911132812,\n",
              "  940.6507360935211,\n",
              "  915.7782490253448,\n",
              "  923.2658824920654,\n",
              "  922.7639925479889),\n",
              " 'test_time': (16.3007333278656,\n",
              "  16.072584629058838,\n",
              "  16.994832515716553,\n",
              "  15.966946363449097,\n",
              "  15.852218866348267)}"
            ]
          },
          "metadata": {
            "tags": []
          },
          "execution_count": 49
        }
      ]
    },
    {
      "cell_type": "code",
      "metadata": {
        "id": "xxBzL3JKrCoZ",
        "colab_type": "code",
        "colab": {},
        "outputId": "7ef02120-2c57-4e3c-87f4-191db14595c2"
      },
      "source": [
        "param_grid = {'n_factors': [50, 100, 200], 'n_epochs': [50, 100, 200], 'lr_all': [0.002, 0.005],\n",
        "              'biased': [True, False], 'reg_all': [0.02, 0.1, 0.2, 0.4], 'random_state': [RANDOM_STATE], 'verbose': [True]}\n",
        "gs = GridSearchCV(SVD, param_grid, measures=['rmse'], cv=N_FOLDS, n_jobs=-1, joblib_verbose=True)\n",
        "gs.fit(dataset)\n",
        "print(gs.best_score['rmse'])\n",
        "print(gs.best_params['rmse'])"
      ],
      "execution_count": 0,
      "outputs": [
        {
          "output_type": "stream",
          "text": [
            "[Parallel(n_jobs=-1)]: Using backend LokyBackend with 8 concurrent workers.\n",
            "[Parallel(n_jobs=-1)]: Done  34 tasks      | elapsed:  2.0min\n",
            "[Parallel(n_jobs=-1)]: Done 184 tasks      | elapsed: 20.5min\n",
            "[Parallel(n_jobs=-1)]: Done 434 tasks      | elapsed: 71.3min\n"
          ],
          "name": "stderr"
        },
        {
          "output_type": "stream",
          "text": [
            "0.8488435089125215\n",
            "{'n_factors': 200, 'n_epochs': 200, 'lr_all': 0.005, 'biased': True, 'reg_all': 0.1, 'random_state': 777, 'verbose': True}\n"
          ],
          "name": "stdout"
        },
        {
          "output_type": "stream",
          "text": [
            "[Parallel(n_jobs=-1)]: Done 720 out of 720 | elapsed: 177.6min finished\n"
          ],
          "name": "stderr"
        }
      ]
    }
  ]
}